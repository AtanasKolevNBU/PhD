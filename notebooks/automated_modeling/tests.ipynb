{
 "cells": [
  {
   "cell_type": "code",
   "execution_count": 1,
   "id": "70e8962a",
   "metadata": {},
   "outputs": [
    {
     "name": "stdout",
     "output_type": "stream",
     "text": [
      "['d:\\\\Repositories\\\\PhD\\\\notebooks\\\\automated_modeling', 'd:\\\\Anaconda\\\\envs\\\\ai-env-torch\\\\python310.zip', 'd:\\\\Anaconda\\\\envs\\\\ai-env-torch\\\\DLLs', 'd:\\\\Anaconda\\\\envs\\\\ai-env-torch\\\\lib', 'd:\\\\Anaconda\\\\envs\\\\ai-env-torch', '', 'd:\\\\Anaconda\\\\envs\\\\ai-env-torch\\\\lib\\\\site-packages', 'd:\\\\Anaconda\\\\envs\\\\ai-env-torch\\\\lib\\\\site-packages\\\\win32', 'd:\\\\Anaconda\\\\envs\\\\ai-env-torch\\\\lib\\\\site-packages\\\\win32\\\\lib', 'd:\\\\Anaconda\\\\envs\\\\ai-env-torch\\\\lib\\\\site-packages\\\\Pythonwin', 'D:\\\\Repositories\\\\PhD\\\\src\\\\functions', 'D:\\\\Repositories\\\\PhD\\\\src\\\\classes']\n"
     ]
    }
   ],
   "source": [
    "import numpy as np\n",
    "import pandas as pd\n",
    "import sys\n",
    "import os\n",
    "\n",
    "classes_path = os.path.abspath(r\"D:\\Repositories\\PhD\\src\\classes\")\n",
    "src_path = os.path.abspath(r\"D:\\Repositories\\PhD\\src\\functions\")\n",
    "sys.path.append(src_path)\n",
    "sys.path.append(classes_path)\n",
    "print(sys.path)"
   ]
  },
  {
   "cell_type": "code",
   "execution_count": 2,
   "id": "0d2c109f",
   "metadata": {},
   "outputs": [],
   "source": [
    "import importlib"
   ]
  },
  {
   "cell_type": "code",
   "execution_count": 6,
   "id": "91c8f96c",
   "metadata": {},
   "outputs": [],
   "source": [
    "import agentic_processing"
   ]
  },
  {
   "cell_type": "code",
   "execution_count": 3,
   "id": "00e9ac57",
   "metadata": {},
   "outputs": [],
   "source": [
    "import agentic_modeling"
   ]
  },
  {
   "cell_type": "code",
   "execution_count": 35,
   "id": "b6172ac8",
   "metadata": {},
   "outputs": [
    {
     "data": {
      "text/plain": [
       "<module 'agentic_modeling' from 'D:\\\\Repositories\\\\PhD\\\\src\\\\classes\\\\agentic_modeling.py'>"
      ]
     },
     "execution_count": 35,
     "metadata": {},
     "output_type": "execute_result"
    }
   ],
   "source": [
    "importlib.reload(agentic_modeling)"
   ]
  },
  {
   "cell_type": "code",
   "execution_count": 5,
   "id": "a0c59ffc",
   "metadata": {},
   "outputs": [
    {
     "data": {
      "text/html": [
       "<div>\n",
       "<style scoped>\n",
       "    .dataframe tbody tr th:only-of-type {\n",
       "        vertical-align: middle;\n",
       "    }\n",
       "\n",
       "    .dataframe tbody tr th {\n",
       "        vertical-align: top;\n",
       "    }\n",
       "\n",
       "    .dataframe thead th {\n",
       "        text-align: right;\n",
       "    }\n",
       "</style>\n",
       "<table border=\"1\" class=\"dataframe\">\n",
       "  <thead>\n",
       "    <tr style=\"text-align: right;\">\n",
       "      <th></th>\n",
       "      <th>Time</th>\n",
       "      <th>Demand 1</th>\n",
       "      <th>Control 1</th>\n",
       "      <th>Output Drive 1</th>\n",
       "      <th>Channel 1</th>\n",
       "      <th>Channel 2</th>\n",
       "      <th>Channel 3</th>\n",
       "      <th>Channel 4</th>\n",
       "      <th>Channel 1 Kurtosis</th>\n",
       "      <th>Channel 2 Kurtosis</th>\n",
       "      <th>...</th>\n",
       "      <th>Rear Input 5</th>\n",
       "      <th>Rear Input 6</th>\n",
       "      <th>Rear Input 7</th>\n",
       "      <th>Rear Input 8</th>\n",
       "      <th>FAULT</th>\n",
       "      <th>RPM</th>\n",
       "      <th>HUMIDITY%</th>\n",
       "      <th>TEMPERATURE_Celsius</th>\n",
       "      <th>resultant_vibration_magnitude</th>\n",
       "      <th>resultant_vibration_magnitude_normal_dist</th>\n",
       "    </tr>\n",
       "  </thead>\n",
       "  <tbody>\n",
       "    <tr>\n",
       "      <th>0</th>\n",
       "      <td>0.001450</td>\n",
       "      <td>0.125011</td>\n",
       "      <td>0.176033</td>\n",
       "      <td>0.000000</td>\n",
       "      <td>0.211458</td>\n",
       "      <td>0.209182</td>\n",
       "      <td>0.145823</td>\n",
       "      <td>1.624200e-15</td>\n",
       "      <td>2.52457</td>\n",
       "      <td>2.94874</td>\n",
       "      <td>...</td>\n",
       "      <td>0</td>\n",
       "      <td>0</td>\n",
       "      <td>0</td>\n",
       "      <td>0</td>\n",
       "      <td>1</td>\n",
       "      <td>1000</td>\n",
       "      <td>0</td>\n",
       "      <td>-10</td>\n",
       "      <td>0.331264</td>\n",
       "      <td>-1.104839</td>\n",
       "    </tr>\n",
       "    <tr>\n",
       "      <th>1</th>\n",
       "      <td>0.006283</td>\n",
       "      <td>0.125011</td>\n",
       "      <td>0.176033</td>\n",
       "      <td>0.000012</td>\n",
       "      <td>0.206329</td>\n",
       "      <td>0.206513</td>\n",
       "      <td>0.150478</td>\n",
       "      <td>1.643320e-15</td>\n",
       "      <td>2.32290</td>\n",
       "      <td>2.46553</td>\n",
       "      <td>...</td>\n",
       "      <td>0</td>\n",
       "      <td>0</td>\n",
       "      <td>0</td>\n",
       "      <td>0</td>\n",
       "      <td>1</td>\n",
       "      <td>1000</td>\n",
       "      <td>0</td>\n",
       "      <td>-10</td>\n",
       "      <td>0.328425</td>\n",
       "      <td>-1.113447</td>\n",
       "    </tr>\n",
       "    <tr>\n",
       "      <th>2</th>\n",
       "      <td>0.009633</td>\n",
       "      <td>0.125011</td>\n",
       "      <td>0.172626</td>\n",
       "      <td>0.000013</td>\n",
       "      <td>0.206351</td>\n",
       "      <td>0.194663</td>\n",
       "      <td>0.148313</td>\n",
       "      <td>1.528270e-15</td>\n",
       "      <td>2.26458</td>\n",
       "      <td>2.55488</td>\n",
       "      <td>...</td>\n",
       "      <td>0</td>\n",
       "      <td>0</td>\n",
       "      <td>0</td>\n",
       "      <td>0</td>\n",
       "      <td>1</td>\n",
       "      <td>1000</td>\n",
       "      <td>0</td>\n",
       "      <td>-10</td>\n",
       "      <td>0.320111</td>\n",
       "      <td>-1.139087</td>\n",
       "    </tr>\n",
       "    <tr>\n",
       "      <th>3</th>\n",
       "      <td>0.013200</td>\n",
       "      <td>0.125011</td>\n",
       "      <td>0.172626</td>\n",
       "      <td>0.000014</td>\n",
       "      <td>0.214463</td>\n",
       "      <td>0.214489</td>\n",
       "      <td>0.155652</td>\n",
       "      <td>1.791370e-15</td>\n",
       "      <td>2.53380</td>\n",
       "      <td>2.66379</td>\n",
       "      <td>...</td>\n",
       "      <td>0</td>\n",
       "      <td>0</td>\n",
       "      <td>0</td>\n",
       "      <td>0</td>\n",
       "      <td>1</td>\n",
       "      <td>1000</td>\n",
       "      <td>0</td>\n",
       "      <td>-10</td>\n",
       "      <td>0.340921</td>\n",
       "      <td>-1.076103</td>\n",
       "    </tr>\n",
       "    <tr>\n",
       "      <th>4</th>\n",
       "      <td>0.016583</td>\n",
       "      <td>0.125011</td>\n",
       "      <td>0.172626</td>\n",
       "      <td>0.000015</td>\n",
       "      <td>0.210449</td>\n",
       "      <td>0.198857</td>\n",
       "      <td>0.154162</td>\n",
       "      <td>1.594310e-15</td>\n",
       "      <td>2.51443</td>\n",
       "      <td>2.81510</td>\n",
       "      <td>...</td>\n",
       "      <td>0</td>\n",
       "      <td>0</td>\n",
       "      <td>0</td>\n",
       "      <td>0</td>\n",
       "      <td>1</td>\n",
       "      <td>1000</td>\n",
       "      <td>0</td>\n",
       "      <td>-10</td>\n",
       "      <td>0.328023</td>\n",
       "      <td>-1.114673</td>\n",
       "    </tr>\n",
       "    <tr>\n",
       "      <th>...</th>\n",
       "      <td>...</td>\n",
       "      <td>...</td>\n",
       "      <td>...</td>\n",
       "      <td>...</td>\n",
       "      <td>...</td>\n",
       "      <td>...</td>\n",
       "      <td>...</td>\n",
       "      <td>...</td>\n",
       "      <td>...</td>\n",
       "      <td>...</td>\n",
       "      <td>...</td>\n",
       "      <td>...</td>\n",
       "      <td>...</td>\n",
       "      <td>...</td>\n",
       "      <td>...</td>\n",
       "      <td>...</td>\n",
       "      <td>...</td>\n",
       "      <td>...</td>\n",
       "      <td>...</td>\n",
       "      <td>...</td>\n",
       "      <td>...</td>\n",
       "    </tr>\n",
       "    <tr>\n",
       "      <th>390057</th>\n",
       "      <td>27.302300</td>\n",
       "      <td>0.500044</td>\n",
       "      <td>0.515140</td>\n",
       "      <td>0.043543</td>\n",
       "      <td>0.554265</td>\n",
       "      <td>0.560519</td>\n",
       "      <td>1.633510</td>\n",
       "      <td>1.712510e-15</td>\n",
       "      <td>3.10602</td>\n",
       "      <td>3.09644</td>\n",
       "      <td>...</td>\n",
       "      <td>0</td>\n",
       "      <td>0</td>\n",
       "      <td>0</td>\n",
       "      <td>0</td>\n",
       "      <td>0</td>\n",
       "      <td>2000</td>\n",
       "      <td>50</td>\n",
       "      <td>45</td>\n",
       "      <td>1.813766</td>\n",
       "      <td>0.595405</td>\n",
       "    </tr>\n",
       "    <tr>\n",
       "      <th>390058</th>\n",
       "      <td>27.305700</td>\n",
       "      <td>0.500044</td>\n",
       "      <td>0.515140</td>\n",
       "      <td>0.043541</td>\n",
       "      <td>0.554672</td>\n",
       "      <td>0.560996</td>\n",
       "      <td>1.646360</td>\n",
       "      <td>1.711110e-15</td>\n",
       "      <td>3.10423</td>\n",
       "      <td>3.09293</td>\n",
       "      <td>...</td>\n",
       "      <td>0</td>\n",
       "      <td>0</td>\n",
       "      <td>0</td>\n",
       "      <td>0</td>\n",
       "      <td>0</td>\n",
       "      <td>2000</td>\n",
       "      <td>50</td>\n",
       "      <td>45</td>\n",
       "      <td>1.825617</td>\n",
       "      <td>0.601918</td>\n",
       "    </tr>\n",
       "    <tr>\n",
       "      <th>390059</th>\n",
       "      <td>27.309200</td>\n",
       "      <td>0.500044</td>\n",
       "      <td>0.515140</td>\n",
       "      <td>0.043536</td>\n",
       "      <td>0.555249</td>\n",
       "      <td>0.561109</td>\n",
       "      <td>1.645410</td>\n",
       "      <td>1.710140e-15</td>\n",
       "      <td>3.11372</td>\n",
       "      <td>3.09118</td>\n",
       "      <td>...</td>\n",
       "      <td>0</td>\n",
       "      <td>0</td>\n",
       "      <td>0</td>\n",
       "      <td>0</td>\n",
       "      <td>0</td>\n",
       "      <td>2000</td>\n",
       "      <td>50</td>\n",
       "      <td>45</td>\n",
       "      <td>1.824971</td>\n",
       "      <td>0.601564</td>\n",
       "    </tr>\n",
       "    <tr>\n",
       "      <th>390060</th>\n",
       "      <td>27.312500</td>\n",
       "      <td>0.500044</td>\n",
       "      <td>0.515305</td>\n",
       "      <td>0.043532</td>\n",
       "      <td>0.555029</td>\n",
       "      <td>0.560672</td>\n",
       "      <td>1.640060</td>\n",
       "      <td>1.711640e-15</td>\n",
       "      <td>3.11269</td>\n",
       "      <td>3.09097</td>\n",
       "      <td>...</td>\n",
       "      <td>0</td>\n",
       "      <td>0</td>\n",
       "      <td>0</td>\n",
       "      <td>0</td>\n",
       "      <td>0</td>\n",
       "      <td>2000</td>\n",
       "      <td>50</td>\n",
       "      <td>45</td>\n",
       "      <td>1.819947</td>\n",
       "      <td>0.598807</td>\n",
       "    </tr>\n",
       "    <tr>\n",
       "      <th>390061</th>\n",
       "      <td>27.315800</td>\n",
       "      <td>0.500044</td>\n",
       "      <td>0.515305</td>\n",
       "      <td>0.043526</td>\n",
       "      <td>0.554786</td>\n",
       "      <td>0.560474</td>\n",
       "      <td>1.632540</td>\n",
       "      <td>1.710060e-15</td>\n",
       "      <td>3.11065</td>\n",
       "      <td>3.09005</td>\n",
       "      <td>...</td>\n",
       "      <td>0</td>\n",
       "      <td>0</td>\n",
       "      <td>0</td>\n",
       "      <td>0</td>\n",
       "      <td>0</td>\n",
       "      <td>2000</td>\n",
       "      <td>50</td>\n",
       "      <td>45</td>\n",
       "      <td>1.813038</td>\n",
       "      <td>0.595004</td>\n",
       "    </tr>\n",
       "  </tbody>\n",
       "</table>\n",
       "<p>390062 rows × 26 columns</p>\n",
       "</div>"
      ],
      "text/plain": [
       "             Time  Demand 1  Control 1  Output Drive 1  Channel 1  Channel 2  \\\n",
       "0        0.001450  0.125011   0.176033        0.000000   0.211458   0.209182   \n",
       "1        0.006283  0.125011   0.176033        0.000012   0.206329   0.206513   \n",
       "2        0.009633  0.125011   0.172626        0.000013   0.206351   0.194663   \n",
       "3        0.013200  0.125011   0.172626        0.000014   0.214463   0.214489   \n",
       "4        0.016583  0.125011   0.172626        0.000015   0.210449   0.198857   \n",
       "...           ...       ...        ...             ...        ...        ...   \n",
       "390057  27.302300  0.500044   0.515140        0.043543   0.554265   0.560519   \n",
       "390058  27.305700  0.500044   0.515140        0.043541   0.554672   0.560996   \n",
       "390059  27.309200  0.500044   0.515140        0.043536   0.555249   0.561109   \n",
       "390060  27.312500  0.500044   0.515305        0.043532   0.555029   0.560672   \n",
       "390061  27.315800  0.500044   0.515305        0.043526   0.554786   0.560474   \n",
       "\n",
       "        Channel 3     Channel 4  Channel 1 Kurtosis  Channel 2 Kurtosis  ...  \\\n",
       "0        0.145823  1.624200e-15             2.52457             2.94874  ...   \n",
       "1        0.150478  1.643320e-15             2.32290             2.46553  ...   \n",
       "2        0.148313  1.528270e-15             2.26458             2.55488  ...   \n",
       "3        0.155652  1.791370e-15             2.53380             2.66379  ...   \n",
       "4        0.154162  1.594310e-15             2.51443             2.81510  ...   \n",
       "...           ...           ...                 ...                 ...  ...   \n",
       "390057   1.633510  1.712510e-15             3.10602             3.09644  ...   \n",
       "390058   1.646360  1.711110e-15             3.10423             3.09293  ...   \n",
       "390059   1.645410  1.710140e-15             3.11372             3.09118  ...   \n",
       "390060   1.640060  1.711640e-15             3.11269             3.09097  ...   \n",
       "390061   1.632540  1.710060e-15             3.11065             3.09005  ...   \n",
       "\n",
       "        Rear Input 5  Rear Input 6  Rear Input 7  Rear Input 8  FAULT   RPM  \\\n",
       "0                  0             0             0             0      1  1000   \n",
       "1                  0             0             0             0      1  1000   \n",
       "2                  0             0             0             0      1  1000   \n",
       "3                  0             0             0             0      1  1000   \n",
       "4                  0             0             0             0      1  1000   \n",
       "...              ...           ...           ...           ...    ...   ...   \n",
       "390057             0             0             0             0      0  2000   \n",
       "390058             0             0             0             0      0  2000   \n",
       "390059             0             0             0             0      0  2000   \n",
       "390060             0             0             0             0      0  2000   \n",
       "390061             0             0             0             0      0  2000   \n",
       "\n",
       "        HUMIDITY%  TEMPERATURE_Celsius  resultant_vibration_magnitude  \\\n",
       "0               0                  -10                       0.331264   \n",
       "1               0                  -10                       0.328425   \n",
       "2               0                  -10                       0.320111   \n",
       "3               0                  -10                       0.340921   \n",
       "4               0                  -10                       0.328023   \n",
       "...           ...                  ...                            ...   \n",
       "390057         50                   45                       1.813766   \n",
       "390058         50                   45                       1.825617   \n",
       "390059         50                   45                       1.824971   \n",
       "390060         50                   45                       1.819947   \n",
       "390061         50                   45                       1.813038   \n",
       "\n",
       "        resultant_vibration_magnitude_normal_dist  \n",
       "0                                       -1.104839  \n",
       "1                                       -1.113447  \n",
       "2                                       -1.139087  \n",
       "3                                       -1.076103  \n",
       "4                                       -1.114673  \n",
       "...                                           ...  \n",
       "390057                                   0.595405  \n",
       "390058                                   0.601918  \n",
       "390059                                   0.601564  \n",
       "390060                                   0.598807  \n",
       "390061                                   0.595004  \n",
       "\n",
       "[390062 rows x 26 columns]"
      ]
     },
     "execution_count": 5,
     "metadata": {},
     "output_type": "execute_result"
    }
   ],
   "source": [
    "df = pd.read_csv(r\"D:\\Repositories\\PhD\\parsed_data\\ICE_data\\internal_combustion_engine_bearings_fixed_duplicates.csv\")\n",
    "df"
   ]
  },
  {
   "cell_type": "code",
   "execution_count": 14,
   "id": "38c0c261",
   "metadata": {},
   "outputs": [],
   "source": [
    "c3 = df['Channel 3']"
   ]
  },
  {
   "cell_type": "code",
   "execution_count": 31,
   "id": "bf6992d2",
   "metadata": {},
   "outputs": [],
   "source": [
    "pe2 = agentic_processing.PipelineExecutor.load(r\"D:\\Repositories\\PhD\\notebooks\\automated_processing\\best_preproc.joblib\")\n",
    "y_new = pe2.transform(c3)"
   ]
  },
  {
   "cell_type": "code",
   "execution_count": 16,
   "id": "83de2023",
   "metadata": {},
   "outputs": [],
   "source": [
    "import matplotlib.pyplot as plt"
   ]
  },
  {
   "cell_type": "code",
   "execution_count": 17,
   "id": "cb660690",
   "metadata": {},
   "outputs": [
    {
     "data": {
      "text/plain": [
       "(array([1.20000e+01, 3.09000e+02, 7.11800e+03, 5.11440e+04, 1.34442e+05,\n",
       "        1.38347e+05, 5.08900e+04, 7.41600e+03, 3.72000e+02, 1.20000e+01]),\n",
       " array([-5.19933758e+00, -4.15947007e+00, -3.11960255e+00, -2.07973503e+00,\n",
       "        -1.03986752e+00,  4.89217555e-11,  1.03986752e+00,  2.07973503e+00,\n",
       "         3.11960255e+00,  4.15947007e+00,  5.19933758e+00]),\n",
       " <BarContainer object of 10 artists>)"
      ]
     },
     "execution_count": 17,
     "metadata": {},
     "output_type": "execute_result"
    },
    {
     "data": {
      "image/png": "[encoded data removed]",
      "text/plain": [
       "<Figure size 640x480 with 1 Axes>"
      ]
     },
     "metadata": {},
     "output_type": "display_data"
    }
   ],
   "source": [
    "plt.hist(y_new)"
   ]
  },
  {
   "cell_type": "code",
   "execution_count": 32,
   "id": "1592f2e2",
   "metadata": {},
   "outputs": [
    {
     "data": {
      "text/plain": [
       "(390062,)"
      ]
     },
     "execution_count": 32,
     "metadata": {},
     "output_type": "execute_result"
    }
   ],
   "source": [
    "y_new.shape"
   ]
  },
  {
   "cell_type": "code",
   "execution_count": null,
   "id": "0e8afcaf",
   "metadata": {},
   "outputs": [],
   "source": [
    "y_new = y_new.reshape(-1, 1)"
   ]
  },
  {
   "cell_type": "code",
   "execution_count": 21,
   "id": "754e1c7c",
   "metadata": {},
   "outputs": [],
   "source": [
    "label = df['FAULT']"
   ]
  },
  {
   "cell_type": "code",
   "execution_count": 24,
   "id": "7961ed13",
   "metadata": {},
   "outputs": [],
   "source": [
    "label = label.values"
   ]
  },
  {
   "cell_type": "code",
   "execution_count": 25,
   "id": "ff460ec7",
   "metadata": {},
   "outputs": [],
   "source": [
    "import optuna"
   ]
  },
  {
   "cell_type": "code",
   "execution_count": 38,
   "id": "d22b8944",
   "metadata": {},
   "outputs": [
    {
     "ename": "TypeError",
     "evalue": "StudyRunner.__init__() missing 2 required positional arguments: 'objective' and 'cv'",
     "output_type": "error",
     "traceback": [
      "\u001b[1;31m---------------------------------------------------------------------------\u001b[0m",
      "\u001b[1;31mTypeError\u001b[0m                                 Traceback (most recent call last)",
      "Cell \u001b[1;32mIn[38], line 1\u001b[0m\n\u001b[1;32m----> 1\u001b[0m sr \u001b[38;5;241m=\u001b[39m \u001b[43magentic_modeling\u001b[49m\u001b[38;5;241;43m.\u001b[39;49m\u001b[43mStudyRunner\u001b[49m\u001b[43m(\u001b[49m\u001b[43m)\u001b[49m\n",
      "\u001b[1;31mTypeError\u001b[0m: StudyRunner.__init__() missing 2 required positional arguments: 'objective' and 'cv'"
     ]
    }
   ],
   "source": [
    "sr = agentic_modeling.StudyRunner()"
   ]
  },
  {
   "cell_type": "code",
   "execution_count": 39,
   "id": "76645c64",
   "metadata": {},
   "outputs": [
    {
     "data": {
      "text/plain": [
       "<function agentic_modeling.optuna_objective(trial, X, y, weights=None, n_splits=5)>"
      ]
     },
     "execution_count": 39,
     "metadata": {},
     "output_type": "execute_result"
    }
   ],
   "source": [
    "agentic_modeling.optuna_objective"
   ]
  },
  {
   "cell_type": "code",
   "execution_count": null,
   "id": "a1a239a4",
   "metadata": {},
   "outputs": [
    {
     "name": "stderr",
     "output_type": "stream",
     "text": [
      "[I 2025-10-21 09:44:10,147] A new study created in memory with name: no-name-309fbfda-ec80-493e-9092-c85094c57d91\n",
      "d:\\Anaconda\\envs\\ai-env-torch\\lib\\site-packages\\optuna\\distributions.py:518: UserWarning: Choices for a categorical distribution should be a tuple of None, bool, int, float and str for persistent storage but contains (128, 64) which is of type tuple.\n",
      "  warnings.warn(message)\n",
      "d:\\Anaconda\\envs\\ai-env-torch\\lib\\site-packages\\optuna\\distributions.py:518: UserWarning: Choices for a categorical distribution should be a tuple of None, bool, int, float and str for persistent storage but contains (64, 64, 32) which is of type tuple.\n",
      "  warnings.warn(message)\n",
      "D:\\Repositories\\PhD\\src\\classes\\agentic_modeling.py:127: FutureWarning: `torch.cuda.amp.GradScaler(args...)` is deprecated. Please use `torch.amp.GradScaler('cuda', args...)` instead.\n",
      "  return np.argmax(probs, axis=1)\n",
      "D:\\Repositories\\PhD\\src\\classes\\agentic_modeling.py:140: FutureWarning: `torch.cuda.amp.autocast(args...)` is deprecated. Please use `torch.amp.autocast('cuda', args...)` instead.\n",
      "  weight: float = 1.0\n",
      "D:\\Repositories\\PhD\\src\\classes\\agentic_modeling.py:160: FutureWarning: `torch.cuda.amp.autocast(args...)` is deprecated. Please use `torch.amp.autocast('cuda', args...)` instead.\n",
      "  @dataclass\n"
     ]
    },
    {
     "name": "stdout",
     "output_type": "stream",
     "text": [
      "[TorchANN] epoch 001 train_loss=0.6419 val_loss=0.6172\n",
      "[TorchANN] epoch 005 train_loss=0.6068 val_loss=0.5985\n",
      "[TorchANN] epoch 010 train_loss=0.6001 val_loss=0.5932\n",
      "[TorchANN] epoch 015 train_loss=0.5969 val_loss=0.5908\n",
      "[TorchANN] epoch 020 train_loss=0.5947 val_loss=0.5888\n",
      "[TorchANN] epoch 025 train_loss=0.5933 val_loss=0.5876\n",
      "[TorchANN] epoch 030 train_loss=0.5923 val_loss=0.5870\n",
      "[TorchANN] epoch 035 train_loss=0.5920 val_loss=0.5862\n"
     ]
    },
    {
     "name": "stderr",
     "output_type": "stream",
     "text": [
      "D:\\Repositories\\PhD\\src\\classes\\agentic_modeling.py:127: FutureWarning: `torch.cuda.amp.GradScaler(args...)` is deprecated. Please use `torch.amp.GradScaler('cuda', args...)` instead.\n",
      "  return np.argmax(probs, axis=1)\n",
      "D:\\Repositories\\PhD\\src\\classes\\agentic_modeling.py:140: FutureWarning: `torch.cuda.amp.autocast(args...)` is deprecated. Please use `torch.amp.autocast('cuda', args...)` instead.\n",
      "  weight: float = 1.0\n",
      "D:\\Repositories\\PhD\\src\\classes\\agentic_modeling.py:160: FutureWarning: `torch.cuda.amp.autocast(args...)` is deprecated. Please use `torch.amp.autocast('cuda', args...)` instead.\n",
      "  @dataclass\n"
     ]
    },
    {
     "name": "stdout",
     "output_type": "stream",
     "text": [
      "[TorchANN] epoch 001 train_loss=0.6429 val_loss=0.6167\n",
      "[TorchANN] epoch 005 train_loss=0.6081 val_loss=0.5968\n",
      "[TorchANN] epoch 010 train_loss=0.5997 val_loss=0.5917\n",
      "[TorchANN] epoch 015 train_loss=0.5967 val_loss=0.5891\n",
      "[TorchANN] epoch 020 train_loss=0.5948 val_loss=0.5885\n",
      "[TorchANN] epoch 025 train_loss=0.5933 val_loss=0.5864\n",
      "[TorchANN] epoch 030 train_loss=0.5921 val_loss=0.5853\n",
      "[TorchANN] epoch 035 train_loss=0.5915 val_loss=0.5850\n"
     ]
    },
    {
     "name": "stderr",
     "output_type": "stream",
     "text": [
      "D:\\Repositories\\PhD\\src\\classes\\agentic_modeling.py:127: FutureWarning: `torch.cuda.amp.GradScaler(args...)` is deprecated. Please use `torch.amp.GradScaler('cuda', args...)` instead.\n",
      "  return np.argmax(probs, axis=1)\n",
      "D:\\Repositories\\PhD\\src\\classes\\agentic_modeling.py:140: FutureWarning: `torch.cuda.amp.autocast(args...)` is deprecated. Please use `torch.amp.autocast('cuda', args...)` instead.\n",
      "  weight: float = 1.0\n",
      "D:\\Repositories\\PhD\\src\\classes\\agentic_modeling.py:160: FutureWarning: `torch.cuda.amp.autocast(args...)` is deprecated. Please use `torch.amp.autocast('cuda', args...)` instead.\n",
      "  @dataclass\n"
     ]
    },
    {
     "name": "stdout",
     "output_type": "stream",
     "text": [
      "[TorchANN] epoch 001 train_loss=0.6406 val_loss=0.6205\n",
      "[TorchANN] epoch 005 train_loss=0.6084 val_loss=0.5998\n",
      "[TorchANN] epoch 010 train_loss=0.6008 val_loss=0.5940\n",
      "[TorchANN] epoch 015 train_loss=0.5971 val_loss=0.5916\n",
      "[TorchANN] epoch 020 train_loss=0.5949 val_loss=0.5889\n",
      "[TorchANN] epoch 025 train_loss=0.5930 val_loss=0.5874\n",
      "[TorchANN] epoch 030 train_loss=0.5917 val_loss=0.5876\n",
      "[TorchANN] epoch 035 train_loss=0.5912 val_loss=0.5866\n"
     ]
    },
    {
     "name": "stderr",
     "output_type": "stream",
     "text": [
      "D:\\Repositories\\PhD\\src\\classes\\agentic_modeling.py:127: FutureWarning: `torch.cuda.amp.GradScaler(args...)` is deprecated. Please use `torch.amp.GradScaler('cuda', args...)` instead.\n",
      "  return np.argmax(probs, axis=1)\n",
      "D:\\Repositories\\PhD\\src\\classes\\agentic_modeling.py:140: FutureWarning: `torch.cuda.amp.autocast(args...)` is deprecated. Please use `torch.amp.autocast('cuda', args...)` instead.\n",
      "  weight: float = 1.0\n",
      "D:\\Repositories\\PhD\\src\\classes\\agentic_modeling.py:160: FutureWarning: `torch.cuda.amp.autocast(args...)` is deprecated. Please use `torch.amp.autocast('cuda', args...)` instead.\n",
      "  @dataclass\n"
     ]
    },
    {
     "name": "stdout",
     "output_type": "stream",
     "text": [
      "[TorchANN] epoch 001 train_loss=0.6430 val_loss=0.6182\n",
      "[TorchANN] epoch 005 train_loss=0.6072 val_loss=0.5981\n",
      "[TorchANN] epoch 010 train_loss=0.6008 val_loss=0.5938\n",
      "[TorchANN] epoch 015 train_loss=0.5987 val_loss=0.5912\n",
      "[TorchANN] epoch 020 train_loss=0.5972 val_loss=0.5896\n",
      "[TorchANN] epoch 025 train_loss=0.5954 val_loss=0.5888\n",
      "[TorchANN] epoch 030 train_loss=0.5946 val_loss=0.5881\n",
      "[TorchANN] epoch 035 train_loss=0.5935 val_loss=0.5874\n"
     ]
    },
    {
     "name": "stderr",
     "output_type": "stream",
     "text": [
      "D:\\Repositories\\PhD\\src\\classes\\agentic_modeling.py:127: FutureWarning: `torch.cuda.amp.GradScaler(args...)` is deprecated. Please use `torch.amp.GradScaler('cuda', args...)` instead.\n",
      "  return np.argmax(probs, axis=1)\n",
      "D:\\Repositories\\PhD\\src\\classes\\agentic_modeling.py:140: FutureWarning: `torch.cuda.amp.autocast(args...)` is deprecated. Please use `torch.amp.autocast('cuda', args...)` instead.\n",
      "  weight: float = 1.0\n",
      "D:\\Repositories\\PhD\\src\\classes\\agentic_modeling.py:160: FutureWarning: `torch.cuda.amp.autocast(args...)` is deprecated. Please use `torch.amp.autocast('cuda', args...)` instead.\n",
      "  @dataclass\n"
     ]
    },
    {
     "name": "stdout",
     "output_type": "stream",
     "text": [
      "[TorchANN] epoch 001 train_loss=0.6447 val_loss=0.6202\n",
      "[TorchANN] epoch 005 train_loss=0.6095 val_loss=0.6003\n",
      "[TorchANN] epoch 010 train_loss=0.6012 val_loss=0.5949\n",
      "[TorchANN] epoch 015 train_loss=0.5983 val_loss=0.5922\n",
      "[TorchANN] epoch 020 train_loss=0.5964 val_loss=0.5912\n",
      "[TorchANN] epoch 025 train_loss=0.5953 val_loss=0.5894\n",
      "[TorchANN] epoch 030 train_loss=0.5937 val_loss=0.5884\n",
      "[TorchANN] epoch 035 train_loss=0.5926 val_loss=0.5875\n"
     ]
    },
    {
     "name": "stderr",
     "output_type": "stream",
     "text": [
      "[I 2025-10-21 09:58:08,507] Trial 0 finished with value: 0.7274639456226708 and parameters: {'model_type': 'torch', 'torch_hidden': (128, 64), 'torch_dropout': 0.3440334052743669, 'torch_lr': 0.0001059349356808285, 'torch_batch': 128, 'torch_epochs': 35}. Best is trial 0 with value: 0.7274639456226708.\n"
     ]
    }
   ],
   "source": [
    "weights = {\"accuracy\": 0.1, \"precision\": 0.3, \"recall\": 0.3, \"f1\": 0.2, \"roc_auc\": 0.1}\n",
    "\n",
    "study = optuna.create_study(direction=\"maximize\", pruner=optuna.pruners.MedianPruner(n_startup_trials=5, n_warmup_steps=5))\n",
    "study.optimize(lambda t: agentic_modeling.optuna_objective(t, y_new.reshape(-1, 1), label,\n",
    "                  weights=weights, n_splits=5),\n",
    "               n_trials=100)\n",
    "\n",
    "\n",
    "print(\"Best score:\", study.best_value)\n",
    "print(\"Best config:\", study.best_trial.params)\n",
    "cfg = study.best_trial.user_attrs if \"config\" in study.best_trial.user_attrs else None"
   ]
  },
  {
   "cell_type": "code",
   "execution_count": null,
   "id": "eafbddaa",
   "metadata": {},
   "outputs": [],
   "source": []
  }
 ],
 "metadata": {
  "kernelspec": {
   "display_name": "ai-env-torch",
   "language": "python",
   "name": "python3"
  },
  "language_info": {
   "codemirror_mode": {
    "name": "ipython",
    "version": 3
   },
   "file_extension": ".py",
   "mimetype": "text/x-python",
   "name": "python",
   "nbconvert_exporter": "python",
   "pygments_lexer": "ipython3",
   "version": "3.10.13"
  }
 },
 "nbformat": 4,
 "nbformat_minor": 5
}
