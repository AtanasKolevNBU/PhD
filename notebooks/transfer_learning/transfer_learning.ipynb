{
 "cells": [
  {
   "cell_type": "code",
   "execution_count": 1,
   "metadata": {},
   "outputs": [
    {
     "name": "stdout",
     "output_type": "stream",
     "text": [
      "['d:\\\\Repositories\\\\PhD\\\\notebooks\\\\transfer_learning', 'd:\\\\HackoAcademic_Anaconda\\\\python312.zip', 'd:\\\\HackoAcademic_Anaconda\\\\DLLs', 'd:\\\\HackoAcademic_Anaconda\\\\Lib', 'd:\\\\HackoAcademic_Anaconda', '', 'd:\\\\HackoAcademic_Anaconda\\\\Lib\\\\site-packages', 'd:\\\\HackoAcademic_Anaconda\\\\Lib\\\\site-packages\\\\win32', 'd:\\\\HackoAcademic_Anaconda\\\\Lib\\\\site-packages\\\\win32\\\\lib', 'd:\\\\HackoAcademic_Anaconda\\\\Lib\\\\site-packages\\\\Pythonwin', 'd:\\\\HackoAcademic_Anaconda\\\\Lib\\\\site-packages\\\\setuptools\\\\_vendor', 'D:\\\\Repositories\\\\PhD\\\\src\\\\functions', 'D:\\\\Repositories\\\\PhD\\\\src\\\\classes']\n"
     ]
    }
   ],
   "source": [
    "import numpy as np\n",
    "import pandas as pd\n",
    "\n",
    "import sys\n",
    "import os\n",
    "\n",
    "classes_path = os.path.abspath(r\"D:\\Repositories\\PhD\\src\\classes\")\n",
    "src_path = os.path.abspath(r\"D:\\Repositories\\PhD\\src\\functions\")\n",
    "sys.path.append(src_path)\n",
    "sys.path.append(classes_path)\n",
    "print(sys.path)\n",
    "\n",
    "import helpers\n",
    "import data_processer as dp\n",
    "import lstm\n",
    "import ee_model\n",
    "\n",
    "from sklearn.model_selection import train_test_split"
   ]
  },
  {
   "cell_type": "code",
   "execution_count": 74,
   "metadata": {},
   "outputs": [
    {
     "data": {
      "text/plain": [
       "<module 'data_processer' from 'D:\\\\Repositories\\\\PhD\\\\src\\\\classes\\\\data_processer.py'>"
      ]
     },
     "execution_count": 74,
     "metadata": {},
     "output_type": "execute_result"
    }
   ],
   "source": [
    "import importlib\n",
    "\n",
    "importlib.reload(lstm)\n",
    "importlib.reload(dp)"
   ]
  },
  {
   "cell_type": "markdown",
   "metadata": {},
   "source": [
    "# Electric Engine LSTM Experiments\n",
    "## Measure:\n",
    "## - Energy to train\n",
    "## - Time to train\n",
    "## - Score the LSTM model - MSE/MAE\n",
    "## - Extract features to input to XGBoost\n",
    "## - Compare ROC curves with ARIMA\n",
    "## - Score the classifier - print_scores and confusion matrix, compare with ARIMA"
   ]
  },
  {
   "cell_type": "markdown",
   "metadata": {},
   "source": [
    "### Use 1730 case edu data and make sure the data is the same for both LSTM and ARIMA"
   ]
  },
  {
   "cell_type": "code",
   "execution_count": 3,
   "metadata": {},
   "outputs": [],
   "source": [
    "df = pd.read_csv(r\"D:\\Repositories\\PhD\\parsed_data\\EE data\\1730_case_edu.csv\")\n",
    "df_fault = df[(df['fault_diameter'] == 14) & (df['fault_element'] == 1) & (df['fault'] == 1) & (df['fault_end'] == 2)]\n",
    "df_normal = df[df['fault'] == 0]\n",
    "\n",
    "df_final = pd.concat((df_normal, df_fault))\n",
    "df_final = df_final.sample(frac = 1)"
   ]
  },
  {
   "cell_type": "code",
   "execution_count": 4,
   "metadata": {},
   "outputs": [
    {
     "data": {
      "application/vnd.microsoft.datawrangler.viewer.v0+json": {
       "columns": [
        {
         "name": "index",
         "rawType": "int64",
         "type": "integer"
        },
        {
         "name": "DE",
         "rawType": "float64",
         "type": "float"
        },
        {
         "name": "FE",
         "rawType": "float64",
         "type": "float"
        },
        {
         "name": "fault_diameter",
         "rawType": "int64",
         "type": "integer"
        },
        {
         "name": "horse_power",
         "rawType": "int64",
         "type": "integer"
        },
        {
         "name": "rounds_per_minute",
         "rawType": "int64",
         "type": "integer"
        },
        {
         "name": "fault_end",
         "rawType": "int64",
         "type": "integer"
        },
        {
         "name": "samples_per_second",
         "rawType": "int64",
         "type": "integer"
        },
        {
         "name": "fault_element",
         "rawType": "int64",
         "type": "integer"
        },
        {
         "name": "fault",
         "rawType": "int64",
         "type": "integer"
        }
       ],
       "conversionMethod": "pd.DataFrame",
       "ref": "c6a47f74-5b6c-4d9e-bb8e-5f3e1ccf666a",
       "rows": [
        [
         "439984",
         "0.0444350769230769",
         "-0.0211618181818181",
         "0",
         "3",
         "1730",
         "0",
         "12000",
         "0",
         "0"
        ],
        [
         "452536",
         "-0.0573692307692307",
         "-0.04972",
         "0",
         "3",
         "1730",
         "0",
         "12000",
         "0",
         "0"
        ],
        [
         "3059227",
         "0.0531162874251497",
         "0.1455246753246753",
         "14",
         "3",
         "1730",
         "2",
         "48000",
         "1",
         "1"
        ],
        [
         "194713",
         "-0.0951286153846153",
         "0.115670909090909",
         "0",
         "3",
         "1730",
         "0",
         "12000",
         "0",
         "0"
        ],
        [
         "131388",
         "-0.0187753846153846",
         "-0.1099181818181818",
         "0",
         "3",
         "1730",
         "0",
         "12000",
         "0",
         "0"
        ],
        [
         "286060",
         "0.066756923076923",
         "0.0028763636363636",
         "0",
         "3",
         "1730",
         "0",
         "12000",
         "0",
         "0"
        ],
        [
         "70723",
         "0.0187753846153846",
         "-0.0102727272727272",
         "0",
         "3",
         "1730",
         "0",
         "12000",
         "0",
         "0"
        ],
        [
         "447686",
         "0.0410972307692307",
         "0.0871127272727272",
         "0",
         "3",
         "1730",
         "0",
         "12000",
         "0",
         "0"
        ],
        [
         "263800",
         "0.0173150769230769",
         "-0.0242436363636363",
         "0",
         "3",
         "1730",
         "0",
         "12000",
         "0",
         "0"
        ],
        [
         "271860",
         "-0.0408886153846153",
         "0.0873181818181818",
         "0",
         "3",
         "1730",
         "0",
         "12000",
         "0",
         "0"
        ],
        [
         "3125307",
         "0.4509199201596806",
         "0.6479506493506495",
         "14",
         "3",
         "1730",
         "2",
         "48000",
         "1",
         "1"
        ],
        [
         "238657",
         "0.0448523076923077",
         "-0.0341054545454545",
         "0",
         "3",
         "1730",
         "0",
         "12000",
         "0",
         "0"
        ],
        [
         "363849",
         "0.034212923076923",
         "0.05876",
         "0",
         "3",
         "1730",
         "0",
         "12000",
         "0",
         "0"
        ],
        [
         "3098593",
         "-0.0196546506986027",
         "0.0638194805194805",
         "14",
         "3",
         "1730",
         "2",
         "48000",
         "1",
         "1"
        ],
        [
         "3097040",
         "0.0742328542914171",
         "0.0365844155844155",
         "14",
         "3",
         "1730",
         "2",
         "48000",
         "1",
         "1"
        ],
        [
         "351753",
         "-0.111192",
         "0.086290909090909",
         "0",
         "3",
         "1730",
         "0",
         "12000",
         "0",
         "0"
        ],
        [
         "322119",
         "0.045060923076923",
         "0.0024654545454545",
         "0",
         "3",
         "1730",
         "0",
         "12000",
         "0",
         "0"
        ],
        [
         "188091",
         "0.0567433846153846",
         "0.0762236363636363",
         "0",
         "3",
         "1730",
         "0",
         "12000",
         "0",
         "0"
        ],
        [
         "163345",
         "0.0463126153846153",
         "-0.0571163636363636",
         "0",
         "3",
         "1730",
         "0",
         "12000",
         "0",
         "0"
        ],
        [
         "154478",
         "-0.0196098461538461",
         "0.0696490909090909",
         "0",
         "3",
         "1730",
         "0",
         "12000",
         "0",
         "0"
        ],
        [
         "3071063",
         "0.4744730139720559",
         "-0.6577064935064936",
         "14",
         "3",
         "1730",
         "2",
         "48000",
         "1",
         "1"
        ],
        [
         "3153564",
         "0.05636499001996",
         "0.0914610389610389",
         "14",
         "3",
         "1730",
         "2",
         "48000",
         "1",
         "1"
        ],
        [
         "189188",
         "0.0636276923076923",
         "-0.0154090909090909",
         "0",
         "3",
         "1730",
         "0",
         "12000",
         "0",
         "0"
        ],
        [
         "75850",
         "0.0454781538461538",
         "0.0306127272727272",
         "0",
         "3",
         "1730",
         "0",
         "12000",
         "0",
         "0"
        ],
        [
         "226625",
         "0.0552830769230769",
         "-0.007190909090909",
         "0",
         "3",
         "1730",
         "0",
         "12000",
         "0",
         "0"
        ],
        [
         "244948",
         "-0.0225304615384615",
         "-0.0947145454545454",
         "0",
         "3",
         "1730",
         "0",
         "12000",
         "0",
         "0"
        ],
        [
         "3128713",
         "0.5383100199600799",
         "-1.0942805194805196",
         "14",
         "3",
         "1730",
         "2",
         "48000",
         "1",
         "1"
        ],
        [
         "412777",
         "-0.0077187692307692",
         "0.0778672727272727",
         "0",
         "3",
         "1730",
         "0",
         "12000",
         "0",
         "0"
        ],
        [
         "283731",
         "0.0838633846153846",
         "-0.0213672727272727",
         "0",
         "3",
         "1730",
         "0",
         "12000",
         "0",
         "0"
        ],
        [
         "110062",
         "-0.0621673846153846",
         "0.0645127272727272",
         "0",
         "3",
         "1730",
         "0",
         "12000",
         "0",
         "0"
        ],
        [
         "273015",
         "0.0494418461538461",
         "-0.0601981818181818",
         "0",
         "3",
         "1730",
         "0",
         "12000",
         "0",
         "0"
        ],
        [
         "178089",
         "0.0137686153846153",
         "-0.0821818181818181",
         "0",
         "3",
         "1730",
         "0",
         "12000",
         "0",
         "0"
        ],
        [
         "406846",
         "0.0358818461538461",
         "0.0419127272727272",
         "0",
         "3",
         "1730",
         "0",
         "12000",
         "0",
         "0"
        ],
        [
         "404295",
         "-0.0740584615384615",
         "0.0778672727272727",
         "0",
         "3",
         "1730",
         "0",
         "12000",
         "0",
         "0"
        ],
        [
         "178614",
         "0.0436006153846153",
         "-0.0073963636363636",
         "0",
         "3",
         "1730",
         "0",
         "12000",
         "0",
         "0"
        ],
        [
         "46730",
         "-0.0548658461538461",
         "0.1481327272727272",
         "0",
         "3",
         "1730",
         "0",
         "12000",
         "0",
         "0"
        ],
        [
         "211531",
         "-0.0930424615384615",
         "0.0943036363636363",
         "0",
         "3",
         "1730",
         "0",
         "12000",
         "0",
         "0"
        ],
        [
         "324891",
         "0.1748196923076923",
         "0.1206018181818181",
         "0",
         "3",
         "1730",
         "0",
         "12000",
         "0",
         "0"
        ],
        [
         "137806",
         "-0.0742670769230769",
         "-0.0316399999999999",
         "0",
         "3",
         "1730",
         "0",
         "12000",
         "0",
         "0"
        ],
        [
         "58793",
         "-0.007092923076923",
         "0.1362163636363636",
         "0",
         "3",
         "1730",
         "0",
         "12000",
         "0",
         "0"
        ],
        [
         "3074948",
         "0.2345563273453093",
         "-0.0788597402597402",
         "14",
         "3",
         "1730",
         "2",
         "48000",
         "1",
         "1"
        ],
        [
         "395206",
         "-0.0811513846153846",
         "0.0548563636363636",
         "0",
         "3",
         "1730",
         "0",
         "12000",
         "0",
         "0"
        ],
        [
         "475219",
         "0.0757273846153846",
         "-0.0922490909090909",
         "0",
         "3",
         "1730",
         "0",
         "12000",
         "0",
         "0"
        ],
        [
         "101515",
         "-0.0625846153846153",
         "0.0367763636363636",
         "0",
         "3",
         "1730",
         "0",
         "12000",
         "0",
         "0"
        ],
        [
         "37549",
         "0.0047981538461538",
         "-0.0540345454545454",
         "0",
         "3",
         "1730",
         "0",
         "12000",
         "0",
         "0"
        ],
        [
         "116154",
         "-0.0458953846153846",
         "-0.0698545454545454",
         "0",
         "3",
         "1730",
         "0",
         "12000",
         "0",
         "0"
        ],
        [
         "478612",
         "0.0713464615384615",
         "0.1594327272727272",
         "0",
         "3",
         "1730",
         "0",
         "12000",
         "0",
         "0"
        ],
        [
         "3154564",
         "0.5763198403193612",
         "0.9544467532467532",
         "14",
         "3",
         "1730",
         "2",
         "48000",
         "1",
         "1"
        ],
        [
         "465222",
         "-0.1184935384615384",
         "0.0310236363636363",
         "0",
         "3",
         "1730",
         "0",
         "12000",
         "0",
         "0"
        ],
        [
         "197774",
         "-0.0060498461538461",
         "-0.0663618181818181",
         "0",
         "3",
         "1730",
         "0",
         "12000",
         "0",
         "0"
        ]
       ],
       "shape": {
        "columns": 9,
        "rows": 606627
       }
      },
      "text/html": [
       "<div>\n",
       "<style scoped>\n",
       "    .dataframe tbody tr th:only-of-type {\n",
       "        vertical-align: middle;\n",
       "    }\n",
       "\n",
       "    .dataframe tbody tr th {\n",
       "        vertical-align: top;\n",
       "    }\n",
       "\n",
       "    .dataframe thead th {\n",
       "        text-align: right;\n",
       "    }\n",
       "</style>\n",
       "<table border=\"1\" class=\"dataframe\">\n",
       "  <thead>\n",
       "    <tr style=\"text-align: right;\">\n",
       "      <th></th>\n",
       "      <th>DE</th>\n",
       "      <th>FE</th>\n",
       "      <th>fault_diameter</th>\n",
       "      <th>horse_power</th>\n",
       "      <th>rounds_per_minute</th>\n",
       "      <th>fault_end</th>\n",
       "      <th>samples_per_second</th>\n",
       "      <th>fault_element</th>\n",
       "      <th>fault</th>\n",
       "    </tr>\n",
       "  </thead>\n",
       "  <tbody>\n",
       "    <tr>\n",
       "      <th>439984</th>\n",
       "      <td>0.044435</td>\n",
       "      <td>-0.021162</td>\n",
       "      <td>0</td>\n",
       "      <td>3</td>\n",
       "      <td>1730</td>\n",
       "      <td>0</td>\n",
       "      <td>12000</td>\n",
       "      <td>0</td>\n",
       "      <td>0</td>\n",
       "    </tr>\n",
       "    <tr>\n",
       "      <th>452536</th>\n",
       "      <td>-0.057369</td>\n",
       "      <td>-0.049720</td>\n",
       "      <td>0</td>\n",
       "      <td>3</td>\n",
       "      <td>1730</td>\n",
       "      <td>0</td>\n",
       "      <td>12000</td>\n",
       "      <td>0</td>\n",
       "      <td>0</td>\n",
       "    </tr>\n",
       "    <tr>\n",
       "      <th>3059227</th>\n",
       "      <td>0.053116</td>\n",
       "      <td>0.145525</td>\n",
       "      <td>14</td>\n",
       "      <td>3</td>\n",
       "      <td>1730</td>\n",
       "      <td>2</td>\n",
       "      <td>48000</td>\n",
       "      <td>1</td>\n",
       "      <td>1</td>\n",
       "    </tr>\n",
       "    <tr>\n",
       "      <th>194713</th>\n",
       "      <td>-0.095129</td>\n",
       "      <td>0.115671</td>\n",
       "      <td>0</td>\n",
       "      <td>3</td>\n",
       "      <td>1730</td>\n",
       "      <td>0</td>\n",
       "      <td>12000</td>\n",
       "      <td>0</td>\n",
       "      <td>0</td>\n",
       "    </tr>\n",
       "    <tr>\n",
       "      <th>131388</th>\n",
       "      <td>-0.018775</td>\n",
       "      <td>-0.109918</td>\n",
       "      <td>0</td>\n",
       "      <td>3</td>\n",
       "      <td>1730</td>\n",
       "      <td>0</td>\n",
       "      <td>12000</td>\n",
       "      <td>0</td>\n",
       "      <td>0</td>\n",
       "    </tr>\n",
       "    <tr>\n",
       "      <th>...</th>\n",
       "      <td>...</td>\n",
       "      <td>...</td>\n",
       "      <td>...</td>\n",
       "      <td>...</td>\n",
       "      <td>...</td>\n",
       "      <td>...</td>\n",
       "      <td>...</td>\n",
       "      <td>...</td>\n",
       "      <td>...</td>\n",
       "    </tr>\n",
       "    <tr>\n",
       "      <th>3152808</th>\n",
       "      <td>-0.489417</td>\n",
       "      <td>2.656029</td>\n",
       "      <td>14</td>\n",
       "      <td>3</td>\n",
       "      <td>1730</td>\n",
       "      <td>2</td>\n",
       "      <td>48000</td>\n",
       "      <td>1</td>\n",
       "      <td>1</td>\n",
       "    </tr>\n",
       "    <tr>\n",
       "      <th>3113040</th>\n",
       "      <td>0.023716</td>\n",
       "      <td>0.306090</td>\n",
       "      <td>14</td>\n",
       "      <td>3</td>\n",
       "      <td>1730</td>\n",
       "      <td>2</td>\n",
       "      <td>48000</td>\n",
       "      <td>1</td>\n",
       "      <td>1</td>\n",
       "    </tr>\n",
       "    <tr>\n",
       "      <th>335953</th>\n",
       "      <td>0.083029</td>\n",
       "      <td>0.051364</td>\n",
       "      <td>0</td>\n",
       "      <td>3</td>\n",
       "      <td>1730</td>\n",
       "      <td>0</td>\n",
       "      <td>12000</td>\n",
       "      <td>0</td>\n",
       "      <td>0</td>\n",
       "    </tr>\n",
       "    <tr>\n",
       "      <th>118686</th>\n",
       "      <td>0.111609</td>\n",
       "      <td>-0.100262</td>\n",
       "      <td>0</td>\n",
       "      <td>3</td>\n",
       "      <td>1730</td>\n",
       "      <td>0</td>\n",
       "      <td>12000</td>\n",
       "      <td>0</td>\n",
       "      <td>0</td>\n",
       "    </tr>\n",
       "    <tr>\n",
       "      <th>3086945</th>\n",
       "      <td>-0.721050</td>\n",
       "      <td>-2.822284</td>\n",
       "      <td>14</td>\n",
       "      <td>3</td>\n",
       "      <td>1730</td>\n",
       "      <td>2</td>\n",
       "      <td>48000</td>\n",
       "      <td>1</td>\n",
       "      <td>1</td>\n",
       "    </tr>\n",
       "  </tbody>\n",
       "</table>\n",
       "<p>606627 rows × 9 columns</p>\n",
       "</div>"
      ],
      "text/plain": [
       "               DE        FE  fault_diameter  horse_power  rounds_per_minute  \\\n",
       "439984   0.044435 -0.021162               0            3               1730   \n",
       "452536  -0.057369 -0.049720               0            3               1730   \n",
       "3059227  0.053116  0.145525              14            3               1730   \n",
       "194713  -0.095129  0.115671               0            3               1730   \n",
       "131388  -0.018775 -0.109918               0            3               1730   \n",
       "...           ...       ...             ...          ...                ...   \n",
       "3152808 -0.489417  2.656029              14            3               1730   \n",
       "3113040  0.023716  0.306090              14            3               1730   \n",
       "335953   0.083029  0.051364               0            3               1730   \n",
       "118686   0.111609 -0.100262               0            3               1730   \n",
       "3086945 -0.721050 -2.822284              14            3               1730   \n",
       "\n",
       "         fault_end  samples_per_second  fault_element  fault  \n",
       "439984           0               12000              0      0  \n",
       "452536           0               12000              0      0  \n",
       "3059227          2               48000              1      1  \n",
       "194713           0               12000              0      0  \n",
       "131388           0               12000              0      0  \n",
       "...            ...                 ...            ...    ...  \n",
       "3152808          2               48000              1      1  \n",
       "3113040          2               48000              1      1  \n",
       "335953           0               12000              0      0  \n",
       "118686           0               12000              0      0  \n",
       "3086945          2               48000              1      1  \n",
       "\n",
       "[606627 rows x 9 columns]"
      ]
     },
     "execution_count": 4,
     "metadata": {},
     "output_type": "execute_result"
    }
   ],
   "source": [
    "df_final"
   ]
  },
  {
   "cell_type": "code",
   "execution_count": 5,
   "metadata": {},
   "outputs": [],
   "source": [
    "de_train, de_test, fe_train, fe_test = train_test_split(df_final[df_final['fault'] == 0]['DE'], df_final[df_final['fault'] == 0]['FE'], test_size=0.25, random_state=42)\n",
    "faults = df_final[df_final['fault'] == 1][['DE', 'FE', 'fault']].sample(len(de_test)//2)\n",
    "de_test = pd.concat((de_test, faults['DE']))\n",
    "fe_test = pd.concat((fe_test, faults['FE']))\n",
    "y_test = df.loc[de_test.index, 'fault']"
   ]
  },
  {
   "cell_type": "code",
   "execution_count": 6,
   "metadata": {},
   "outputs": [],
   "source": [
    "de_train = de_train.reset_index(drop = True)\n",
    "de_test = de_test.reset_index(drop = True)\n",
    "fe_train = fe_train.reset_index(drop = True)\n",
    "fe_test = fe_test.reset_index(drop = True)\n",
    "y_test = y_test.reset_index(drop = True)"
   ]
  },
  {
   "cell_type": "code",
   "execution_count": 75,
   "metadata": {},
   "outputs": [],
   "source": [
    "data_processer = dp.DataProcesser()"
   ]
  },
  {
   "cell_type": "code",
   "execution_count": 56,
   "metadata": {},
   "outputs": [],
   "source": [
    "train_loader, val_loader, test_loader, scaler = data_processer.prepare_autoregressive_data(df_final[df_final['fault'] == 0]['DE'], window_size=10, stride=1, train_ratio=0.7, val_ratio=0.15, batch_size=32, test=False)"
   ]
  },
  {
   "cell_type": "code",
   "execution_count": 97,
   "metadata": {},
   "outputs": [],
   "source": [
    "train_loader_mm, val_loader_mm, test_loader_mm, _ = data_processer.prepare_autoregressive_data(df_final[df_final['fault'] == 0]['DE'], window_size=10, stride=1, train_ratio=0.7, val_ratio=0.15, batch_size=128, test=False, scaler_method='minmax')"
   ]
  },
  {
   "cell_type": "code",
   "execution_count": 70,
   "metadata": {},
   "outputs": [],
   "source": [
    "from sklearn.preprocessing import minmax_scale"
   ]
  },
  {
   "cell_type": "code",
   "execution_count": 71,
   "metadata": {},
   "outputs": [
    {
     "data": {
      "text/plain": [
       "<Axes: ylabel='Frequency'>"
      ]
     },
     "execution_count": 71,
     "metadata": {},
     "output_type": "execute_result"
    },
    {
     "data": {
      "image/png": "[encoded data removed]",
      "text/plain": [
       "<Figure size 640x480 with 1 Axes>"
      ]
     },
     "metadata": {},
     "output_type": "display_data"
    }
   ],
   "source": [
    "pd.Series(minmax_scale(scaler.fit_transform(df_final[df_final['fault'] == 0]['DE'].values.reshape(-1, 1)).flatten())).plot(kind = 'hist')"
   ]
  },
  {
   "cell_type": "code",
   "execution_count": null,
   "metadata": {},
   "outputs": [],
   "source": []
  },
  {
   "cell_type": "code",
   "execution_count": 98,
   "metadata": {},
   "outputs": [],
   "source": [
    "lstm_ee = lstm.LSTMModel(input_size = 1, hidden_size = 128, num_layers = 3, output_size = 1)"
   ]
  },
  {
   "cell_type": "code",
   "execution_count": 62,
   "metadata": {},
   "outputs": [
    {
     "name": "stderr",
     "output_type": "stream",
     "text": [
      "[codecarbon INFO @ 11:25:34] [setup] RAM Tracking...\n",
      "[codecarbon INFO @ 11:25:34] [setup] CPU Tracking...\n",
      "[codecarbon WARNING @ 11:25:34] No CPU tracking mode found. Falling back on CPU constant mode. \n",
      " Windows OS detected: Please install Intel Power Gadget to measure CPU\n",
      "\n",
      "[codecarbon WARNING @ 11:25:35] We saw that you have a AMD Ryzen 7 6800H with Radeon Graphics but we don't know it. Please contact us.\n",
      "[codecarbon INFO @ 11:25:35] CPU Model on constant consumption mode: AMD Ryzen 7 6800H with Radeon Graphics\n",
      "[codecarbon INFO @ 11:25:35] [setup] GPU Tracking...\n",
      "[codecarbon INFO @ 11:25:35] Tracking Nvidia GPU via pynvml\n",
      "[codecarbon INFO @ 11:25:35] >>> Tracker's metadata:\n",
      "[codecarbon INFO @ 11:25:35]   Platform system: Windows-11-10.0.22631-SP0\n",
      "[codecarbon INFO @ 11:25:35]   Python version: 3.12.7\n",
      "[codecarbon INFO @ 11:25:35]   CodeCarbon version: 2.8.3\n",
      "[codecarbon INFO @ 11:25:35]   Available RAM : 31.192 GB\n",
      "[codecarbon INFO @ 11:25:35]   CPU count: 16\n",
      "[codecarbon INFO @ 11:25:35]   CPU model: AMD Ryzen 7 6800H with Radeon Graphics\n",
      "[codecarbon INFO @ 11:25:35]   GPU count: 1\n",
      "[codecarbon INFO @ 11:25:35]   GPU model: 1 x NVIDIA GeForce RTX 3060 Laptop GPU\n",
      "[codecarbon INFO @ 11:25:35] Saving emissions data to file d:\\Repositories\\PhD\\notebooks\\transfer_learning\\emissions.csv\n",
      "[codecarbon INFO @ 11:25:50] Energy consumed for RAM : 0.000049 kWh. RAM Power : 11.697037696838379 W\n",
      "[codecarbon INFO @ 11:25:50] Energy consumed for all CPUs : 0.000177 kWh. Total CPU Power : 42.5 W\n",
      "[codecarbon INFO @ 11:25:50] Energy consumed for all GPUs : 0.000172 kWh. Total GPU Power : 41.22387163660714 W\n",
      "[codecarbon INFO @ 11:25:50] 0.000398 kWh of electricity used since the beginning.\n",
      "[codecarbon INFO @ 11:26:05] Energy consumed for RAM : 0.000097 kWh. RAM Power : 11.697037696838379 W\n",
      "[codecarbon INFO @ 11:26:05] Energy consumed for all CPUs : 0.000354 kWh. Total CPU Power : 42.5 W\n",
      "[codecarbon INFO @ 11:26:05] Energy consumed for all GPUs : 0.000345 kWh. Total GPU Power : 41.56540353857599 W\n",
      "[codecarbon INFO @ 11:26:05] 0.000797 kWh of electricity used since the beginning.\n"
     ]
    },
    {
     "name": "stdout",
     "output_type": "stream",
     "text": [
      "53650\n",
      "Epoch [1/20], Train Loss: 1.0096, Val Loss: 1.0638, Energy Used: 2116.92 J\n",
      "Model saved to best_lstm_model_EE.pth\n"
     ]
    },
    {
     "name": "stderr",
     "output_type": "stream",
     "text": [
      "[codecarbon INFO @ 11:26:20] Energy consumed for RAM : 0.000146 kWh. RAM Power : 11.697037696838379 W\n",
      "[codecarbon INFO @ 11:26:20] Energy consumed for all CPUs : 0.000531 kWh. Total CPU Power : 42.5 W\n",
      "[codecarbon INFO @ 11:26:20] Energy consumed for all GPUs : 0.000537 kWh. Total GPU Power : 46.00850273675369 W\n",
      "[codecarbon INFO @ 11:26:20] 0.001214 kWh of electricity used since the beginning.\n",
      "[codecarbon INFO @ 11:26:35] Energy consumed for RAM : 0.000195 kWh. RAM Power : 11.697037696838379 W\n",
      "[codecarbon INFO @ 11:26:35] Energy consumed for all CPUs : 0.000709 kWh. Total CPU Power : 42.5 W\n",
      "[codecarbon INFO @ 11:26:35] Energy consumed for all GPUs : 0.000702 kWh. Total GPU Power : 39.612092329479005 W\n",
      "[codecarbon INFO @ 11:26:35] 0.001605 kWh of electricity used since the beginning.\n",
      "[codecarbon INFO @ 11:26:50] Energy consumed for RAM : 0.000244 kWh. RAM Power : 11.697037696838379 W\n",
      "[codecarbon INFO @ 11:26:50] Energy consumed for all CPUs : 0.000886 kWh. Total CPU Power : 42.5 W\n",
      "[codecarbon INFO @ 11:26:50] Energy consumed for all GPUs : 0.000869 kWh. Total GPU Power : 40.07319663974506 W\n",
      "[codecarbon INFO @ 11:26:50] 0.001998 kWh of electricity used since the beginning.\n"
     ]
    },
    {
     "name": "stdout",
     "output_type": "stream",
     "text": [
      "55477\n",
      "Epoch [2/20], Train Loss: 1.0098, Val Loss: 1.0058, Energy Used: 2129.36 J\n",
      "Model saved to best_lstm_model_EE.pth\n"
     ]
    },
    {
     "name": "stderr",
     "output_type": "stream",
     "text": [
      "[codecarbon INFO @ 11:27:05] Energy consumed for RAM : 0.000292 kWh. RAM Power : 11.697037696838379 W\n",
      "[codecarbon INFO @ 11:27:05] Energy consumed for all CPUs : 0.001063 kWh. Total CPU Power : 42.5 W\n",
      "[codecarbon INFO @ 11:27:05] Energy consumed for all GPUs : 0.001063 kWh. Total GPU Power : 46.65705987754238 W\n",
      "[codecarbon INFO @ 11:27:05] 0.002419 kWh of electricity used since the beginning.\n",
      "[codecarbon INFO @ 11:27:20] Energy consumed for RAM : 0.000341 kWh. RAM Power : 11.697037696838379 W\n",
      "[codecarbon INFO @ 11:27:20] Energy consumed for all CPUs : 0.001240 kWh. Total CPU Power : 42.5 W\n",
      "[codecarbon INFO @ 11:27:20] Energy consumed for all GPUs : 0.001233 kWh. Total GPU Power : 40.66431216473216 W\n",
      "[codecarbon INFO @ 11:27:20] 0.002814 kWh of electricity used since the beginning.\n"
     ]
    },
    {
     "name": "stdout",
     "output_type": "stream",
     "text": [
      "53552\n",
      "Epoch [3/20], Train Loss: 1.0104, Val Loss: 1.0060, Energy Used: 2045.49 J\n"
     ]
    },
    {
     "name": "stderr",
     "output_type": "stream",
     "text": [
      "[codecarbon INFO @ 11:27:35] Energy consumed for RAM : 0.000390 kWh. RAM Power : 11.697037696838379 W\n",
      "[codecarbon INFO @ 11:27:35] Energy consumed for all CPUs : 0.001417 kWh. Total CPU Power : 42.5 W\n",
      "[codecarbon INFO @ 11:27:35] Energy consumed for all GPUs : 0.001429 kWh. Total GPU Power : 47.08116850330704 W\n",
      "[codecarbon INFO @ 11:27:35] 0.003236 kWh of electricity used since the beginning.\n",
      "[codecarbon INFO @ 11:27:35] 0.009039 g.CO2eq/s mean an estimation of 285.0526601401323 kg.CO2eq/year\n",
      "[codecarbon INFO @ 11:27:50] Energy consumed for RAM : 0.000439 kWh. RAM Power : 11.697037696838379 W\n",
      "[codecarbon INFO @ 11:27:50] Energy consumed for all CPUs : 0.001594 kWh. Total CPU Power : 42.5 W\n",
      "[codecarbon INFO @ 11:27:50] Energy consumed for all GPUs : 0.001593 kWh. Total GPU Power : 39.235362071975615 W\n",
      "[codecarbon INFO @ 11:27:50] 0.003625 kWh of electricity used since the beginning.\n",
      "[codecarbon INFO @ 11:28:05] Energy consumed for RAM : 0.000487 kWh. RAM Power : 11.697037696838379 W\n",
      "[codecarbon INFO @ 11:28:05] Energy consumed for all CPUs : 0.001771 kWh. Total CPU Power : 42.5 W\n",
      "[codecarbon INFO @ 11:28:05] Energy consumed for all GPUs : 0.001763 kWh. Total GPU Power : 41.006255710101605 W\n",
      "[codecarbon INFO @ 11:28:05] 0.004022 kWh of electricity used since the beginning.\n"
     ]
    },
    {
     "name": "stdout",
     "output_type": "stream",
     "text": [
      "54222\n",
      "Epoch [4/20], Train Loss: 1.0096, Val Loss: 1.0202, Energy Used: 2064.62 J\n"
     ]
    },
    {
     "name": "stderr",
     "output_type": "stream",
     "text": [
      "[codecarbon INFO @ 11:28:20] Energy consumed for RAM : 0.000536 kWh. RAM Power : 11.697037696838379 W\n",
      "[codecarbon INFO @ 11:28:20] Energy consumed for all CPUs : 0.001948 kWh. Total CPU Power : 42.5 W\n",
      "[codecarbon INFO @ 11:28:20] Energy consumed for all GPUs : 0.001955 kWh. Total GPU Power : 46.04954885993568 W\n",
      "[codecarbon INFO @ 11:28:20] 0.004440 kWh of electricity used since the beginning.\n",
      "[codecarbon INFO @ 11:28:35] Energy consumed for RAM : 0.000585 kWh. RAM Power : 11.697037696838379 W\n",
      "[codecarbon INFO @ 11:28:35] Energy consumed for all CPUs : 0.002125 kWh. Total CPU Power : 42.5 W\n",
      "[codecarbon INFO @ 11:28:35] Energy consumed for all GPUs : 0.002133 kWh. Total GPU Power : 42.56978505053505 W\n",
      "[codecarbon INFO @ 11:28:35] 0.004843 kWh of electricity used since the beginning.\n",
      "[codecarbon INFO @ 11:28:47] Energy consumed for RAM : 0.000624 kWh. RAM Power : 11.697037696838379 W\n",
      "[codecarbon INFO @ 11:28:48] Energy consumed for all CPUs : 0.002269 kWh. Total CPU Power : 42.5 W\n",
      "[codecarbon INFO @ 11:28:48] Energy consumed for all GPUs : 0.002283 kWh. Total GPU Power : 44.57546188831555 W\n",
      "[codecarbon INFO @ 11:28:48] 0.005176 kWh of electricity used since the beginning.\n"
     ]
    },
    {
     "name": "stdout",
     "output_type": "stream",
     "text": [
      "55277\n",
      "Epoch [5/20], Train Loss: 1.0094, Val Loss: 1.0270, Energy Used: 2105.13 J\n",
      "Early stopping triggered.\n",
      "Training complete! Time to converge: 192.22 seconds\n",
      "Cumulative GPU Energy Used: 10461.52 Joules\n"
     ]
    }
   ],
   "source": [
    "lstm_ee_fit, time_per_epoch, cum_energy_per_epoch = lstm_ee.train_lstm_and_track_time_and_efficiency(train_loader, val_loader, num_epochs=20, learning_rate=0.005)"
   ]
  },
  {
   "cell_type": "code",
   "execution_count": 99,
   "metadata": {},
   "outputs": [
    {
     "name": "stderr",
     "output_type": "stream",
     "text": [
      "[codecarbon INFO @ 17:14:45] [setup] RAM Tracking...\n",
      "[codecarbon INFO @ 17:14:45] [setup] CPU Tracking...\n",
      "[codecarbon WARNING @ 17:14:45] No CPU tracking mode found. Falling back on CPU constant mode. \n",
      " Windows OS detected: Please install Intel Power Gadget to measure CPU\n",
      "\n",
      "[codecarbon WARNING @ 17:14:47] We saw that you have a AMD Ryzen 7 6800H with Radeon Graphics but we don't know it. Please contact us.\n",
      "[codecarbon INFO @ 17:14:47] CPU Model on constant consumption mode: AMD Ryzen 7 6800H with Radeon Graphics\n",
      "[codecarbon INFO @ 17:14:47] [setup] GPU Tracking...\n",
      "[codecarbon INFO @ 17:14:47] Tracking Nvidia GPU via pynvml\n",
      "[codecarbon INFO @ 17:14:47] >>> Tracker's metadata:\n",
      "[codecarbon INFO @ 17:14:47]   Platform system: Windows-11-10.0.22631-SP0\n",
      "[codecarbon INFO @ 17:14:47]   Python version: 3.12.7\n",
      "[codecarbon INFO @ 17:14:47]   CodeCarbon version: 2.8.3\n",
      "[codecarbon INFO @ 17:14:47]   Available RAM : 31.192 GB\n",
      "[codecarbon INFO @ 17:14:47]   CPU count: 16\n",
      "[codecarbon INFO @ 17:14:47]   CPU model: AMD Ryzen 7 6800H with Radeon Graphics\n",
      "[codecarbon INFO @ 17:14:47]   GPU count: 1\n",
      "[codecarbon INFO @ 17:14:47]   GPU model: 1 x NVIDIA GeForce RTX 3060 Laptop GPU\n",
      "[codecarbon INFO @ 17:14:47] Saving emissions data to file d:\\Repositories\\PhD\\notebooks\\transfer_learning\\emissions.csv\n"
     ]
    },
    {
     "name": "stdout",
     "output_type": "stream",
     "text": [
      "63474\n",
      "Epoch [1/20], Train Loss: 0.0342, Val Loss: 0.0169, Energy Used: 878.59 J\n",
      "Model saved to best_lstm_model_EE.pth\n"
     ]
    },
    {
     "name": "stderr",
     "output_type": "stream",
     "text": [
      "[codecarbon INFO @ 17:15:02] Energy consumed for RAM : 0.000049 kWh. RAM Power : 11.697037696838379 W\n",
      "[codecarbon INFO @ 17:15:02] Energy consumed for all CPUs : 0.000177 kWh. Total CPU Power : 42.5 W\n",
      "[codecarbon INFO @ 17:15:02] Energy consumed for all GPUs : 0.000307 kWh. Total GPU Power : 73.50632964938595 W\n",
      "[codecarbon INFO @ 17:15:02] 0.000533 kWh of electricity used since the beginning.\n"
     ]
    },
    {
     "name": "stdout",
     "output_type": "stream",
     "text": [
      "63967\n",
      "Epoch [2/20], Train Loss: 0.0127, Val Loss: 0.0135, Energy Used: 894.60 J\n",
      "Model saved to best_lstm_model_EE.pth\n"
     ]
    },
    {
     "name": "stderr",
     "output_type": "stream",
     "text": [
      "[codecarbon INFO @ 17:15:17] Energy consumed for RAM : 0.000098 kWh. RAM Power : 11.697037696838379 W\n",
      "[codecarbon INFO @ 17:15:17] Energy consumed for all CPUs : 0.000354 kWh. Total CPU Power : 42.5 W\n",
      "[codecarbon INFO @ 17:15:17] Energy consumed for all GPUs : 0.000617 kWh. Total GPU Power : 74.38479197176191 W\n",
      "[codecarbon INFO @ 17:15:17] 0.001069 kWh of electricity used since the beginning.\n"
     ]
    },
    {
     "name": "stdout",
     "output_type": "stream",
     "text": [
      "64659\n",
      "Epoch [3/20], Train Loss: 0.0129, Val Loss: 0.0122, Energy Used: 915.44 J\n",
      "Model saved to best_lstm_model_EE.pth\n"
     ]
    },
    {
     "name": "stderr",
     "output_type": "stream",
     "text": [
      "[codecarbon INFO @ 17:15:32] Energy consumed for RAM : 0.000146 kWh. RAM Power : 11.697037696838379 W\n",
      "[codecarbon INFO @ 17:15:32] Energy consumed for all CPUs : 0.000532 kWh. Total CPU Power : 42.5 W\n",
      "[codecarbon INFO @ 17:15:32] Energy consumed for all GPUs : 0.000927 kWh. Total GPU Power : 74.46830156516096 W\n",
      "[codecarbon INFO @ 17:15:32] 0.001605 kWh of electricity used since the beginning.\n"
     ]
    },
    {
     "name": "stdout",
     "output_type": "stream",
     "text": [
      "65942\n",
      "Epoch [4/20], Train Loss: 0.0128, Val Loss: 0.0123, Energy Used: 926.79 J\n"
     ]
    },
    {
     "name": "stderr",
     "output_type": "stream",
     "text": [
      "[codecarbon INFO @ 17:15:47] Energy consumed for RAM : 0.000195 kWh. RAM Power : 11.697037696838379 W\n",
      "[codecarbon INFO @ 17:15:47] Energy consumed for all CPUs : 0.000709 kWh. Total CPU Power : 42.5 W\n",
      "[codecarbon INFO @ 17:15:47] Energy consumed for all GPUs : 0.001245 kWh. Total GPU Power : 76.36155385167633 W\n",
      "[codecarbon INFO @ 17:15:47] 0.002149 kWh of electricity used since the beginning.\n"
     ]
    },
    {
     "name": "stdout",
     "output_type": "stream",
     "text": [
      "65753\n",
      "Epoch [5/20], Train Loss: 0.0128, Val Loss: 0.0129, Energy Used: 959.56 J\n"
     ]
    },
    {
     "name": "stderr",
     "output_type": "stream",
     "text": [
      "[codecarbon INFO @ 17:16:02] Energy consumed for RAM : 0.000244 kWh. RAM Power : 11.697037696838379 W\n",
      "[codecarbon INFO @ 17:16:02] Energy consumed for all CPUs : 0.000886 kWh. Total CPU Power : 42.5 W\n",
      "[codecarbon INFO @ 17:16:02] Energy consumed for all GPUs : 0.001568 kWh. Total GPU Power : 77.50241525784877 W\n",
      "[codecarbon INFO @ 17:16:02] 0.002698 kWh of electricity used since the beginning.\n",
      "[codecarbon INFO @ 17:16:12] Energy consumed for RAM : 0.000276 kWh. RAM Power : 11.697037696838379 W\n",
      "[codecarbon INFO @ 17:16:12] Energy consumed for all CPUs : 0.001002 kWh. Total CPU Power : 42.5 W\n",
      "[codecarbon INFO @ 17:16:12] Energy consumed for all GPUs : 0.001784 kWh. Total GPU Power : 79.20505010170466 W\n",
      "[codecarbon INFO @ 17:16:12] 0.003062 kWh of electricity used since the beginning.\n"
     ]
    },
    {
     "name": "stdout",
     "output_type": "stream",
     "text": [
      "65480\n",
      "Epoch [6/20], Train Loss: 0.0129, Val Loss: 0.0126, Energy Used: 931.73 J\n",
      "Early stopping triggered.\n",
      "Training complete! Time to converge: 84.89 seconds\n",
      "Cumulative GPU Energy Used: 5506.71 Joules\n"
     ]
    }
   ],
   "source": [
    "lstm_ee_fit_mm, time_per_epoch_mm, cum_energy_per_epoch_mm = lstm_ee.train_lstm_and_track_time_and_efficiency(train_loader_mm, val_loader_mm, num_epochs=20, learning_rate=0.05)"
   ]
  },
  {
   "cell_type": "markdown",
   "metadata": {},
   "source": [
    "### Use healthy ICE model as a starting point for EE"
   ]
  },
  {
   "cell_type": "code",
   "execution_count": 83,
   "metadata": {},
   "outputs": [
    {
     "name": "stdout",
     "output_type": "stream",
     "text": [
      "Model successfully loaded from 'D:\\Repositories\\PhD\\models\\healthy_lstm_ICE.pth'\n"
     ]
    },
    {
     "name": "stderr",
     "output_type": "stream",
     "text": [
      "D:\\Repositories\\PhD\\src\\classes\\lstm.py:264: FutureWarning: You are using `torch.load` with `weights_only=False` (the current default value), which uses the default pickle module implicitly. It is possible to construct malicious pickle data which will execute arbitrary code during unpickling (See https://github.com/pytorch/pytorch/blob/main/SECURITY.md#untrusted-models for more details). In a future release, the default value for `weights_only` will be flipped to `True`. This limits the functions that could be executed during unpickling. Arbitrary objects will no longer be allowed to be loaded via this mode unless they are explicitly allowlisted by the user via `torch.serialization.add_safe_globals`. We recommend you start setting `weights_only=True` for any use case where you don't have full control of the loaded file. Please open an issue on GitHub for any issues related to this experimental feature.\n",
      "  self.load_state_dict(torch.load(file_path, map_location=self.device))\n"
     ]
    },
    {
     "data": {
      "text/plain": [
       "True"
      ]
     },
     "execution_count": 83,
     "metadata": {},
     "output_type": "execute_result"
    }
   ],
   "source": [
    "lstm_ee_tl = lstm.LSTMModel(input_size = 1, hidden_size = 128, num_layers = 3, output_size = 1)\n",
    "lstm_ee_tl.load_model(r\"D:\\Repositories\\PhD\\models\\healthy_lstm_ICE.pth\")"
   ]
  },
  {
   "cell_type": "code",
   "execution_count": 84,
   "metadata": {},
   "outputs": [
    {
     "name": "stderr",
     "output_type": "stream",
     "text": [
      "[codecarbon INFO @ 16:36:11] [setup] RAM Tracking...\n",
      "[codecarbon INFO @ 16:36:11] [setup] CPU Tracking...\n",
      "[codecarbon WARNING @ 16:36:11] No CPU tracking mode found. Falling back on CPU constant mode. \n",
      " Windows OS detected: Please install Intel Power Gadget to measure CPU\n",
      "\n",
      "[codecarbon WARNING @ 16:36:13] We saw that you have a AMD Ryzen 7 6800H with Radeon Graphics but we don't know it. Please contact us.\n",
      "[codecarbon INFO @ 16:36:13] CPU Model on constant consumption mode: AMD Ryzen 7 6800H with Radeon Graphics\n",
      "[codecarbon INFO @ 16:36:13] [setup] GPU Tracking...\n",
      "[codecarbon INFO @ 16:36:13] Tracking Nvidia GPU via pynvml\n",
      "[codecarbon INFO @ 16:36:13] >>> Tracker's metadata:\n",
      "[codecarbon INFO @ 16:36:13]   Platform system: Windows-11-10.0.22631-SP0\n",
      "[codecarbon INFO @ 16:36:13]   Python version: 3.12.7\n",
      "[codecarbon INFO @ 16:36:13]   CodeCarbon version: 2.8.3\n",
      "[codecarbon INFO @ 16:36:13]   Available RAM : 31.192 GB\n",
      "[codecarbon INFO @ 16:36:13]   CPU count: 16\n",
      "[codecarbon INFO @ 16:36:13]   CPU model: AMD Ryzen 7 6800H with Radeon Graphics\n",
      "[codecarbon INFO @ 16:36:13]   GPU count: 1\n",
      "[codecarbon INFO @ 16:36:13]   GPU model: 1 x NVIDIA GeForce RTX 3060 Laptop GPU\n",
      "[codecarbon INFO @ 16:36:13] Saving emissions data to file d:\\Repositories\\PhD\\notebooks\\transfer_learning\\emissions.csv\n",
      "[codecarbon INFO @ 16:36:28] Energy consumed for RAM : 0.000049 kWh. RAM Power : 11.697037696838379 W\n",
      "[codecarbon INFO @ 16:36:28] Energy consumed for all CPUs : 0.000177 kWh. Total CPU Power : 42.5 W\n",
      "[codecarbon INFO @ 16:36:28] Energy consumed for all GPUs : 0.000183 kWh. Total GPU Power : 43.86717590904649 W\n",
      "[codecarbon INFO @ 16:36:28] 0.000409 kWh of electricity used since the beginning.\n",
      "[codecarbon INFO @ 16:36:43] Energy consumed for RAM : 0.000098 kWh. RAM Power : 11.697037696838379 W\n",
      "[codecarbon INFO @ 16:36:43] Energy consumed for all CPUs : 0.000354 kWh. Total CPU Power : 42.5 W\n",
      "[codecarbon INFO @ 16:36:43] Energy consumed for all GPUs : 0.000366 kWh. Total GPU Power : 43.925429995009566 W\n",
      "[codecarbon INFO @ 16:36:43] 0.000818 kWh of electricity used since the beginning.\n"
     ]
    },
    {
     "name": "stdout",
     "output_type": "stream",
     "text": [
      "54427\n",
      "Epoch [1/20], Train Loss: 0.0121, Val Loss: 0.0121, Energy Used: 2155.58 J\n",
      "Model saved to best_lstm_model_EE.pth\n"
     ]
    },
    {
     "name": "stderr",
     "output_type": "stream",
     "text": [
      "[codecarbon INFO @ 16:36:58] Energy consumed for RAM : 0.000146 kWh. RAM Power : 11.697037696838379 W\n",
      "[codecarbon INFO @ 16:36:58] Energy consumed for all CPUs : 0.000532 kWh. Total CPU Power : 42.5 W\n",
      "[codecarbon INFO @ 16:36:58] Energy consumed for all GPUs : 0.000573 kWh. Total GPU Power : 49.588118501490904 W\n",
      "[codecarbon INFO @ 16:36:58] 0.001251 kWh of electricity used since the beginning.\n",
      "[codecarbon INFO @ 16:37:13] Energy consumed for RAM : 0.000195 kWh. RAM Power : 11.697037696838379 W\n",
      "[codecarbon INFO @ 16:37:13] Energy consumed for all CPUs : 0.000709 kWh. Total CPU Power : 42.5 W\n",
      "[codecarbon INFO @ 16:37:13] Energy consumed for all GPUs : 0.000770 kWh. Total GPU Power : 47.40569086793307 W\n",
      "[codecarbon INFO @ 16:37:13] 0.001674 kWh of electricity used since the beginning.\n",
      "[codecarbon INFO @ 16:37:28] Energy consumed for RAM : 0.000244 kWh. RAM Power : 11.697037696838379 W\n",
      "[codecarbon INFO @ 16:37:28] Energy consumed for all CPUs : 0.000886 kWh. Total CPU Power : 42.5 W\n",
      "[codecarbon INFO @ 16:37:28] Energy consumed for all GPUs : 0.000960 kWh. Total GPU Power : 45.492817712970286 W\n",
      "[codecarbon INFO @ 16:37:28] 0.002090 kWh of electricity used since the beginning.\n"
     ]
    },
    {
     "name": "stdout",
     "output_type": "stream",
     "text": [
      "55336\n",
      "Epoch [2/20], Train Loss: 0.0121, Val Loss: 0.0123, Energy Used: 2219.00 J\n"
     ]
    },
    {
     "name": "stderr",
     "output_type": "stream",
     "text": [
      "[codecarbon INFO @ 16:37:43] Energy consumed for RAM : 0.000293 kWh. RAM Power : 11.697037696838379 W\n",
      "[codecarbon INFO @ 16:37:43] Energy consumed for all CPUs : 0.001063 kWh. Total CPU Power : 42.5 W\n",
      "[codecarbon INFO @ 16:37:43] Energy consumed for all GPUs : 0.001179 kWh. Total GPU Power : 52.52662040301046 W\n",
      "[codecarbon INFO @ 16:37:43] 0.002534 kWh of electricity used since the beginning.\n",
      "[codecarbon INFO @ 16:37:58] Energy consumed for RAM : 0.000341 kWh. RAM Power : 11.697037696838379 W\n",
      "[codecarbon INFO @ 16:37:58] Energy consumed for all CPUs : 0.001240 kWh. Total CPU Power : 42.5 W\n",
      "[codecarbon INFO @ 16:37:58] Energy consumed for all GPUs : 0.001370 kWh. Total GPU Power : 45.80739056723475 W\n",
      "[codecarbon INFO @ 16:37:58] 0.002951 kWh of electricity used since the beginning.\n"
     ]
    },
    {
     "name": "stdout",
     "output_type": "stream",
     "text": [
      "55832\n",
      "Epoch [3/20], Train Loss: 0.0121, Val Loss: 0.0120, Energy Used: 2240.58 J\n",
      "Model saved to best_lstm_model_EE.pth\n"
     ]
    },
    {
     "name": "stderr",
     "output_type": "stream",
     "text": [
      "[codecarbon INFO @ 16:38:13] Energy consumed for RAM : 0.000390 kWh. RAM Power : 11.697037696838379 W\n",
      "[codecarbon INFO @ 16:38:13] Energy consumed for all CPUs : 0.001417 kWh. Total CPU Power : 42.5 W\n",
      "[codecarbon INFO @ 16:38:13] Energy consumed for all GPUs : 0.001583 kWh. Total GPU Power : 51.01357044177588 W\n",
      "[codecarbon INFO @ 16:38:13] 0.003390 kWh of electricity used since the beginning.\n",
      "[codecarbon INFO @ 16:38:13] 0.009467 g.CO2eq/s mean an estimation of 298.53703990346156 kg.CO2eq/year\n",
      "[codecarbon INFO @ 16:38:28] Energy consumed for RAM : 0.000439 kWh. RAM Power : 11.697037696838379 W\n",
      "[codecarbon INFO @ 16:38:28] Energy consumed for all CPUs : 0.001594 kWh. Total CPU Power : 42.5 W\n",
      "[codecarbon INFO @ 16:38:28] Energy consumed for all GPUs : 0.001784 kWh. Total GPU Power : 48.259619937788614 W\n",
      "[codecarbon INFO @ 16:38:28] 0.003817 kWh of electricity used since the beginning.\n",
      "[codecarbon INFO @ 16:38:43] Energy consumed for RAM : 0.000488 kWh. RAM Power : 11.697037696838379 W\n",
      "[codecarbon INFO @ 16:38:43] Energy consumed for all CPUs : 0.001772 kWh. Total CPU Power : 42.5 W\n",
      "[codecarbon INFO @ 16:38:43] Energy consumed for all GPUs : 0.001977 kWh. Total GPU Power : 46.33137730641865 W\n",
      "[codecarbon INFO @ 16:38:43] 0.004236 kWh of electricity used since the beginning.\n"
     ]
    },
    {
     "name": "stdout",
     "output_type": "stream",
     "text": [
      "56497\n",
      "Epoch [4/20], Train Loss: 0.0121, Val Loss: 0.0121, Energy Used: 2268.98 J\n"
     ]
    },
    {
     "name": "stderr",
     "output_type": "stream",
     "text": [
      "[codecarbon INFO @ 16:38:58] Energy consumed for RAM : 0.000536 kWh. RAM Power : 11.697037696838379 W\n",
      "[codecarbon INFO @ 16:38:58] Energy consumed for all CPUs : 0.001949 kWh. Total CPU Power : 42.5 W\n",
      "[codecarbon INFO @ 16:38:58] Energy consumed for all GPUs : 0.002204 kWh. Total GPU Power : 54.3634295412599 W\n",
      "[codecarbon INFO @ 16:38:58] 0.004689 kWh of electricity used since the beginning.\n",
      "[codecarbon INFO @ 16:39:13] Energy consumed for RAM : 0.000585 kWh. RAM Power : 11.697037696838379 W\n",
      "[codecarbon INFO @ 16:39:13] Energy consumed for all CPUs : 0.002126 kWh. Total CPU Power : 42.5 W\n",
      "[codecarbon INFO @ 16:39:13] Energy consumed for all GPUs : 0.002392 kWh. Total GPU Power : 45.30172186166113 W\n",
      "[codecarbon INFO @ 16:39:13] 0.005104 kWh of electricity used since the beginning.\n",
      "[codecarbon INFO @ 16:39:28] Energy consumed for RAM : 0.000634 kWh. RAM Power : 11.697037696838379 W\n",
      "[codecarbon INFO @ 16:39:28] Energy consumed for all CPUs : 0.002303 kWh. Total CPU Power : 42.5 W\n",
      "[codecarbon INFO @ 16:39:28] Energy consumed for all GPUs : 0.002590 kWh. Total GPU Power : 47.2952429992712 W\n",
      "[codecarbon INFO @ 16:39:28] 0.005527 kWh of electricity used since the beginning.\n"
     ]
    },
    {
     "name": "stdout",
     "output_type": "stream",
     "text": [
      "55391\n",
      "Epoch [5/20], Train Loss: 0.0121, Val Loss: 0.0120, Energy Used: 2226.47 J\n",
      "Model saved to best_lstm_model_EE.pth\n"
     ]
    },
    {
     "name": "stderr",
     "output_type": "stream",
     "text": [
      "[codecarbon INFO @ 16:39:43] Energy consumed for RAM : 0.000683 kWh. RAM Power : 11.697037696838379 W\n",
      "[codecarbon INFO @ 16:39:43] Energy consumed for all CPUs : 0.002480 kWh. Total CPU Power : 42.5 W\n",
      "[codecarbon INFO @ 16:39:43] Energy consumed for all GPUs : 0.002802 kWh. Total GPU Power : 50.867516061535575 W\n",
      "[codecarbon INFO @ 16:39:43] 0.005965 kWh of electricity used since the beginning.\n",
      "[codecarbon INFO @ 16:39:58] Energy consumed for RAM : 0.000731 kWh. RAM Power : 11.697037696838379 W\n",
      "[codecarbon INFO @ 16:39:58] Energy consumed for all CPUs : 0.002658 kWh. Total CPU Power : 42.5 W\n",
      "[codecarbon INFO @ 16:39:58] Energy consumed for all GPUs : 0.002998 kWh. Total GPU Power : 46.99942350383654 W\n",
      "[codecarbon INFO @ 16:39:58] 0.006387 kWh of electricity used since the beginning.\n",
      "[codecarbon INFO @ 16:40:13] Energy consumed for RAM : 0.000780 kWh. RAM Power : 11.697037696838379 W\n",
      "[codecarbon INFO @ 16:40:13] Energy consumed for all CPUs : 0.002835 kWh. Total CPU Power : 42.5 W\n",
      "[codecarbon INFO @ 16:40:13] Energy consumed for all GPUs : 0.003193 kWh. Total GPU Power : 46.91062694614918 W\n",
      "[codecarbon INFO @ 16:40:13] 0.006808 kWh of electricity used since the beginning.\n",
      "[codecarbon INFO @ 16:40:13] 0.009545 g.CO2eq/s mean an estimation of 301.0071623604726 kg.CO2eq/year\n"
     ]
    },
    {
     "name": "stdout",
     "output_type": "stream",
     "text": [
      "55425\n",
      "Epoch [6/20], Train Loss: 0.0121, Val Loss: 0.0121, Energy Used: 2253.00 J\n"
     ]
    },
    {
     "name": "stderr",
     "output_type": "stream",
     "text": [
      "[codecarbon INFO @ 16:40:28] Energy consumed for RAM : 0.000829 kWh. RAM Power : 11.697037696838379 W\n",
      "[codecarbon INFO @ 16:40:28] Energy consumed for all CPUs : 0.003012 kWh. Total CPU Power : 42.5 W\n",
      "[codecarbon INFO @ 16:40:28] Energy consumed for all GPUs : 0.003396 kWh. Total GPU Power : 48.73375734483723 W\n",
      "[codecarbon INFO @ 16:40:28] 0.007237 kWh of electricity used since the beginning.\n",
      "[codecarbon INFO @ 16:40:43] Energy consumed for RAM : 0.000878 kWh. RAM Power : 11.697037696838379 W\n",
      "[codecarbon INFO @ 16:40:43] Energy consumed for all CPUs : 0.003189 kWh. Total CPU Power : 42.5 W\n",
      "[codecarbon INFO @ 16:40:43] Energy consumed for all GPUs : 0.003581 kWh. Total GPU Power : 44.18549975824154 W\n",
      "[codecarbon INFO @ 16:40:43] 0.007647 kWh of electricity used since the beginning.\n"
     ]
    },
    {
     "name": "stdout",
     "output_type": "stream",
     "text": [
      "55705\n",
      "Epoch [7/20], Train Loss: 0.0121, Val Loss: 0.0121, Energy Used: 2220.97 J\n"
     ]
    },
    {
     "name": "stderr",
     "output_type": "stream",
     "text": [
      "[codecarbon INFO @ 16:40:58] Energy consumed for RAM : 0.000926 kWh. RAM Power : 11.697037696838379 W\n",
      "[codecarbon INFO @ 16:40:58] Energy consumed for all CPUs : 0.003366 kWh. Total CPU Power : 42.5 W\n",
      "[codecarbon INFO @ 16:40:58] Energy consumed for all GPUs : 0.003776 kWh. Total GPU Power : 46.956799092098244 W\n",
      "[codecarbon INFO @ 16:40:58] 0.008069 kWh of electricity used since the beginning.\n",
      "[codecarbon INFO @ 16:41:13] Energy consumed for RAM : 0.000975 kWh. RAM Power : 11.697037696838379 W\n",
      "[codecarbon INFO @ 16:41:13] Energy consumed for all CPUs : 0.003543 kWh. Total CPU Power : 42.5 W\n",
      "[codecarbon INFO @ 16:41:13] Energy consumed for all GPUs : 0.003958 kWh. Total GPU Power : 43.57077663224701 W\n",
      "[codecarbon INFO @ 16:41:13] 0.008476 kWh of electricity used since the beginning.\n",
      "[codecarbon INFO @ 16:41:28] Energy consumed for RAM : 0.001024 kWh. RAM Power : 11.697037696838379 W\n",
      "[codecarbon INFO @ 16:41:28] Energy consumed for all CPUs : 0.003720 kWh. Total CPU Power : 42.5 W\n",
      "[codecarbon INFO @ 16:41:28] Energy consumed for all GPUs : 0.004131 kWh. Total GPU Power : 41.57904338637402 W\n",
      "[codecarbon INFO @ 16:41:28] 0.008875 kWh of electricity used since the beginning.\n",
      "[codecarbon INFO @ 16:41:32] Energy consumed for RAM : 0.001035 kWh. RAM Power : 11.697037696838379 W\n",
      "[codecarbon INFO @ 16:41:32] Energy consumed for all CPUs : 0.003760 kWh. Total CPU Power : 42.5 W\n",
      "[codecarbon INFO @ 16:41:32] Energy consumed for all GPUs : 0.004185 kWh. Total GPU Power : 57.36289707246162 W\n",
      "[codecarbon INFO @ 16:41:32] 0.008979 kWh of electricity used since the beginning.\n"
     ]
    },
    {
     "name": "stdout",
     "output_type": "stream",
     "text": [
      "56281\n",
      "Epoch [8/20], Train Loss: 0.0121, Val Loss: 0.0121, Energy Used: 2129.38 J\n",
      "Early stopping triggered.\n",
      "Training complete! Time to converge: 318.58 seconds\n",
      "Cumulative GPU Energy Used: 17713.97 Joules\n"
     ]
    }
   ],
   "source": [
    "lstm_ee_fit_mm_tl, time_per_epoch_mm_tl, cum_energy_per_epoch_mm_tl = lstm_ee_tl.train_lstm_and_track_time_and_efficiency(train_loader_mm, val_loader_mm, num_epochs=20, learning_rate=0.01)"
   ]
  },
  {
   "cell_type": "code",
   "execution_count": 24,
   "metadata": {},
   "outputs": [],
   "source": [
    "import matplotlib.pyplot as plt"
   ]
  },
  {
   "cell_type": "code",
   "execution_count": 88,
   "metadata": {},
   "outputs": [
    {
     "data": {
      "text/plain": [
       "<matplotlib.legend.Legend at 0x24387bd9550>"
      ]
     },
     "execution_count": 88,
     "metadata": {},
     "output_type": "execute_result"
    },
    {
     "data": {
      "image/png": "[encoded data removed]",
      "text/plain": [
       "<Figure size 640x480 with 1 Axes>"
      ]
     },
     "metadata": {},
     "output_type": "display_data"
    }
   ],
   "source": [
    "plt.plot(range(1, len(cum_energy_per_epoch_mm)+1), cum_energy_per_epoch_mm, label = 'Energy without TL')\n",
    "plt.plot(range(1, len(cum_energy_per_epoch_mm_tl)+1), cum_energy_per_epoch_mm_tl, label = 'Energy with TL')\n",
    "plt.xlabel('Epoch')\n",
    "plt.xlabel('Energy, J')\n",
    "plt.title('Energy consumed in training')\n",
    "plt.legend()"
   ]
  },
  {
   "cell_type": "code",
   "execution_count": 89,
   "metadata": {},
   "outputs": [
    {
     "data": {
      "text/plain": [
       "<matplotlib.legend.Legend at 0x24387c39eb0>"
      ]
     },
     "execution_count": 89,
     "metadata": {},
     "output_type": "execute_result"
    },
    {
     "data": {
      "image/png": "[encoded data removed]",
      "text/plain": [
       "<Figure size 640x480 with 1 Axes>"
      ]
     },
     "metadata": {},
     "output_type": "display_data"
    }
   ],
   "source": [
    "plt.plot(range(1, len(time_per_epoch_mm)+1), time_per_epoch_mm, label = 'Time without TL')\n",
    "plt.plot(range(1, len(time_per_epoch_mm_tl)+1), time_per_epoch_mm_tl, label = 'Time with TL')\n",
    "plt.xlabel('Epoch')\n",
    "plt.xlabel('Time, s')\n",
    "plt.title('Cumulative Time in training')\n",
    "plt.legend()"
   ]
  },
  {
   "cell_type": "code",
   "execution_count": 45,
   "metadata": {},
   "outputs": [
    {
     "data": {
      "text/plain": [
       "Text(0.5, 0, 'Epoch')"
      ]
     },
     "execution_count": 45,
     "metadata": {},
     "output_type": "execute_result"
    },
    {
     "data": {
      "image/png": "[encoded data removed]",
      "text/plain": [
       "<Figure size 640x480 with 1 Axes>"
      ]
     },
     "metadata": {},
     "output_type": "display_data"
    }
   ],
   "source": [
    "plt.plot(range(1, len(time_per_epoch)+1), time_per_epoch)\n",
    "plt.title(\"Cumulative Time per Epoch\")\n",
    "plt.ylabel('Time, s')\n",
    "plt.xlabel('Epoch')"
   ]
  },
  {
   "cell_type": "code",
   "execution_count": 41,
   "metadata": {},
   "outputs": [
    {
     "data": {
      "text/plain": [
       "Text(0.5, 0, 'Epoch')"
      ]
     },
     "execution_count": 41,
     "metadata": {},
     "output_type": "execute_result"
    },
    {
     "data": {
      "image/png": "[encoded data removed]",
      "text/plain": [
       "<Figure size 640x480 with 1 Axes>"
      ]
     },
     "metadata": {},
     "output_type": "display_data"
    }
   ],
   "source": [
    "plt.plot(range(1, len(cum_energy_per_epoch)), cum_energy_per_epoch[1:])\n",
    "plt.title(\"Cumulative Energy per Epoch\")\n",
    "plt.ylabel('Energy, J')\n",
    "plt.xlabel('Epoch')"
   ]
  },
  {
   "cell_type": "code",
   "execution_count": 47,
   "metadata": {},
   "outputs": [],
   "source": [
    "emisions_df = pd.read_csv('emissions.csv')"
   ]
  },
  {
   "cell_type": "code",
   "execution_count": 48,
   "metadata": {},
   "outputs": [
    {
     "data": {
      "application/vnd.microsoft.datawrangler.viewer.v0+json": {
       "columns": [
        {
         "name": "index",
         "rawType": "int64",
         "type": "integer"
        },
        {
         "name": "timestamp",
         "rawType": "object",
         "type": "string"
        },
        {
         "name": "project_name",
         "rawType": "object",
         "type": "string"
        },
        {
         "name": "run_id",
         "rawType": "object",
         "type": "string"
        },
        {
         "name": "experiment_id",
         "rawType": "object",
         "type": "string"
        },
        {
         "name": "duration",
         "rawType": "float64",
         "type": "float"
        },
        {
         "name": "emissions",
         "rawType": "float64",
         "type": "float"
        },
        {
         "name": "emissions_rate",
         "rawType": "float64",
         "type": "float"
        },
        {
         "name": "cpu_power",
         "rawType": "float64",
         "type": "float"
        },
        {
         "name": "gpu_power",
         "rawType": "float64",
         "type": "float"
        },
        {
         "name": "ram_power",
         "rawType": "float64",
         "type": "float"
        },
        {
         "name": "cpu_energy",
         "rawType": "float64",
         "type": "float"
        },
        {
         "name": "gpu_energy",
         "rawType": "float64",
         "type": "float"
        },
        {
         "name": "ram_energy",
         "rawType": "float64",
         "type": "float"
        },
        {
         "name": "energy_consumed",
         "rawType": "float64",
         "type": "float"
        },
        {
         "name": "country_name",
         "rawType": "object",
         "type": "string"
        },
        {
         "name": "country_iso_code",
         "rawType": "object",
         "type": "string"
        },
        {
         "name": "region",
         "rawType": "object",
         "type": "string"
        },
        {
         "name": "cloud_provider",
         "rawType": "float64",
         "type": "float"
        },
        {
         "name": "cloud_region",
         "rawType": "float64",
         "type": "float"
        },
        {
         "name": "os",
         "rawType": "object",
         "type": "string"
        },
        {
         "name": "python_version",
         "rawType": "object",
         "type": "string"
        },
        {
         "name": "codecarbon_version",
         "rawType": "object",
         "type": "string"
        },
        {
         "name": "cpu_count",
         "rawType": "int64",
         "type": "integer"
        },
        {
         "name": "cpu_model",
         "rawType": "object",
         "type": "string"
        },
        {
         "name": "gpu_count",
         "rawType": "int64",
         "type": "integer"
        },
        {
         "name": "gpu_model",
         "rawType": "object",
         "type": "string"
        },
        {
         "name": "longitude",
         "rawType": "float64",
         "type": "float"
        },
        {
         "name": "latitude",
         "rawType": "float64",
         "type": "float"
        },
        {
         "name": "ram_total_size",
         "rawType": "float64",
         "type": "float"
        },
        {
         "name": "tracking_mode",
         "rawType": "object",
         "type": "string"
        },
        {
         "name": "on_cloud",
         "rawType": "object",
         "type": "string"
        },
        {
         "name": "pue",
         "rawType": "float64",
         "type": "float"
        }
       ],
       "conversionMethod": "pd.DataFrame",
       "ref": "efa83d2a-d22d-4729-942f-a28bdc2873dd",
       "rows": [
        [
         "0",
         "2025-03-16T20:01:37",
         "codecarbon",
         "5c36cffe-1319-41d8-aa75-3c0da269cb1e",
         "5b0fa12a-3dd7-45bb-9766-cc326314d9f1",
         "46.49217110000609",
         "0.0004173938501375",
         "8.977723351308079e-06",
         "42.5",
         "63.56149991304737",
         "11.69703769683838",
         "0.00054869712125",
         "0.0005450201582379",
         "0.0001509935167257",
         "0.0012447107962137",
         "Bulgaria",
         "BGR",
         "sofia-capital",
         null,
         null,
         "Windows-11-10.0.22631-SP0",
         "3.12.7",
         "2.8.3",
         "16",
         "AMD Ryzen 7 6800H with Radeon Graphics",
         "1",
         "1 x NVIDIA GeForce RTX 3060 Laptop GPU",
         "23.3223",
         "42.6826",
         "31.192100524902344",
         "machine",
         "N",
         "1.0"
        ],
        [
         "1",
         "2025-03-16T20:04:32",
         "codecarbon",
         "734571c9-a510-4538-97e2-a405634e1ae6",
         "5b0fa12a-3dd7-45bb-9766-cc326314d9f1",
         "47.58254560000205",
         "0.0004298907861569",
         "9.03463193774456e-06",
         "42.5",
         "64.18224180408019",
         "11.69703769683838",
         "0.0005615616186111",
         "0.0005658815638159",
         "0.0001545347445261",
         "0.0012819779269533",
         "Bulgaria",
         "BGR",
         "sofia-capital",
         null,
         null,
         "Windows-11-10.0.22631-SP0",
         "3.12.7",
         "2.8.3",
         "16",
         "AMD Ryzen 7 6800H with Radeon Graphics",
         "1",
         "1 x NVIDIA GeForce RTX 3060 Laptop GPU",
         "23.3223",
         "42.6826",
         "31.192100524902344",
         "machine",
         "N",
         "1.0"
        ],
        [
         "2",
         "2025-03-16T20:06:24",
         "codecarbon",
         "cd83d053-c565-462a-88ca-39b60c21638c",
         "5b0fa12a-3dd7-45bb-9766-cc326314d9f1",
         "46.8660499999969",
         "0.0004217017077621",
         "8.998021121092806e-06",
         "42.5",
         "65.75407389740992",
         "11.69703769683838",
         "0.0005531338367361",
         "0.000552208219544",
         "0.0001522152083043",
         "0.0012575572645844",
         "Bulgaria",
         "BGR",
         "sofia-capital",
         null,
         null,
         "Windows-11-10.0.22631-SP0",
         "3.12.7",
         "2.8.3",
         "16",
         "AMD Ryzen 7 6800H with Radeon Graphics",
         "1",
         "1 x NVIDIA GeForce RTX 3060 Laptop GPU",
         "23.3223",
         "42.6826",
         "31.192100524902344",
         "machine",
         "N",
         "1.0"
        ],
        [
         "3",
         "2025-03-16T20:08:13",
         "codecarbon",
         "6aca22cb-b8ad-4ae1-9a54-1d3d51e151b0",
         "5b0fa12a-3dd7-45bb-9766-cc326314d9f1",
         "47.87446790000831",
         "0.0004380272316042",
         "9.149495562417996e-06",
         "42.5",
         "58.63190420811588",
         "11.69703769683838",
         "0.0005650039675002",
         "0.000585755746382",
         "0.000155481918652",
         "0.0013062416325342",
         "Bulgaria",
         "BGR",
         "sofia-capital",
         null,
         null,
         "Windows-11-10.0.22631-SP0",
         "3.12.7",
         "2.8.3",
         "16",
         "AMD Ryzen 7 6800H with Radeon Graphics",
         "1",
         "1 x NVIDIA GeForce RTX 3060 Laptop GPU",
         "23.3223",
         "42.6826",
         "31.192100524902344",
         "machine",
         "N",
         "1.0"
        ],
        [
         "4",
         "2025-03-16T20:09:44",
         "codecarbon",
         "cf495b90-e11f-4300-838d-96fdff1a32ea",
         "5b0fa12a-3dd7-45bb-9766-cc326314d9f1",
         "47.86938469999586",
         "0.0004318870162574",
         "9.02219694203669e-06",
         "42.5",
         "60.76002405092966",
         "11.69703769683838",
         "0.0005649790577776",
         "0.000567476009536",
         "0.0001554758202715",
         "0.0012879308875851",
         "Bulgaria",
         "BGR",
         "sofia-capital",
         null,
         null,
         "Windows-11-10.0.22631-SP0",
         "3.12.7",
         "2.8.3",
         "16",
         "AMD Ryzen 7 6800H with Radeon Graphics",
         "1",
         "1 x NVIDIA GeForce RTX 3060 Laptop GPU",
         "23.3223",
         "42.6826",
         "31.192100524902344",
         "machine",
         "N",
         "1.0"
        ],
        [
         "5",
         "2025-03-16T20:11:56",
         "codecarbon",
         "d42cb6dd-470a-4cd5-9b14-7ed8eeb362a3",
         "5b0fa12a-3dd7-45bb-9766-cc326314d9f1",
         "47.94532530001016",
         "0.0004294236302788",
         "8.956527619570473e-06",
         "42.5",
         "57.21596259835595",
         "11.69703769683838",
         "0.000565895798125",
         "0.0005589665582839",
         "0.0001557224643333",
         "0.0012805848207423",
         "Bulgaria",
         "BGR",
         "sofia-capital",
         null,
         null,
         "Windows-11-10.0.22631-SP0",
         "3.12.7",
         "2.8.3",
         "16",
         "AMD Ryzen 7 6800H with Radeon Graphics",
         "1",
         "1 x NVIDIA GeForce RTX 3060 Laptop GPU",
         "23.3223",
         "42.6826",
         "31.192100524902344",
         "machine",
         "N",
         "1.0"
        ],
        [
         "6",
         "2025-03-16T20:19:35",
         "codecarbon",
         "cb847467-a004-4d0a-b7d7-32b32cc4f12a",
         "5b0fa12a-3dd7-45bb-9766-cc326314d9f1",
         "342.37029309998616",
         "0.0030889602398712",
         "9.022278807843636e-06",
         "42.5",
         "43.88572158589732",
         "11.69703769683838",
         "0.004040982305972",
         "0.0040585649135159",
         "0.0011120455205001",
         "0.0092115927399882",
         "Bulgaria",
         "BGR",
         "sofia-capital",
         null,
         null,
         "Windows-11-10.0.22631-SP0",
         "3.12.7",
         "2.8.3",
         "16",
         "AMD Ryzen 7 6800H with Radeon Graphics",
         "1",
         "1 x NVIDIA GeForce RTX 3060 Laptop GPU",
         "23.3223",
         "42.6826",
         "31.192100524902344",
         "machine",
         "N",
         "1.0"
        ]
       ],
       "shape": {
        "columns": 32,
        "rows": 7
       }
      },
      "text/html": [
       "<div>\n",
       "<style scoped>\n",
       "    .dataframe tbody tr th:only-of-type {\n",
       "        vertical-align: middle;\n",
       "    }\n",
       "\n",
       "    .dataframe tbody tr th {\n",
       "        vertical-align: top;\n",
       "    }\n",
       "\n",
       "    .dataframe thead th {\n",
       "        text-align: right;\n",
       "    }\n",
       "</style>\n",
       "<table border=\"1\" class=\"dataframe\">\n",
       "  <thead>\n",
       "    <tr style=\"text-align: right;\">\n",
       "      <th></th>\n",
       "      <th>timestamp</th>\n",
       "      <th>project_name</th>\n",
       "      <th>run_id</th>\n",
       "      <th>experiment_id</th>\n",
       "      <th>duration</th>\n",
       "      <th>emissions</th>\n",
       "      <th>emissions_rate</th>\n",
       "      <th>cpu_power</th>\n",
       "      <th>gpu_power</th>\n",
       "      <th>ram_power</th>\n",
       "      <th>...</th>\n",
       "      <th>cpu_count</th>\n",
       "      <th>cpu_model</th>\n",
       "      <th>gpu_count</th>\n",
       "      <th>gpu_model</th>\n",
       "      <th>longitude</th>\n",
       "      <th>latitude</th>\n",
       "      <th>ram_total_size</th>\n",
       "      <th>tracking_mode</th>\n",
       "      <th>on_cloud</th>\n",
       "      <th>pue</th>\n",
       "    </tr>\n",
       "  </thead>\n",
       "  <tbody>\n",
       "    <tr>\n",
       "      <th>0</th>\n",
       "      <td>2025-03-16T20:01:37</td>\n",
       "      <td>codecarbon</td>\n",
       "      <td>5c36cffe-1319-41d8-aa75-3c0da269cb1e</td>\n",
       "      <td>5b0fa12a-3dd7-45bb-9766-cc326314d9f1</td>\n",
       "      <td>46.492171</td>\n",
       "      <td>0.000417</td>\n",
       "      <td>0.000009</td>\n",
       "      <td>42.5</td>\n",
       "      <td>63.561500</td>\n",
       "      <td>11.697038</td>\n",
       "      <td>...</td>\n",
       "      <td>16</td>\n",
       "      <td>AMD Ryzen 7 6800H with Radeon Graphics</td>\n",
       "      <td>1</td>\n",
       "      <td>1 x NVIDIA GeForce RTX 3060 Laptop GPU</td>\n",
       "      <td>23.3223</td>\n",
       "      <td>42.6826</td>\n",
       "      <td>31.192101</td>\n",
       "      <td>machine</td>\n",
       "      <td>N</td>\n",
       "      <td>1.0</td>\n",
       "    </tr>\n",
       "    <tr>\n",
       "      <th>1</th>\n",
       "      <td>2025-03-16T20:04:32</td>\n",
       "      <td>codecarbon</td>\n",
       "      <td>734571c9-a510-4538-97e2-a405634e1ae6</td>\n",
       "      <td>5b0fa12a-3dd7-45bb-9766-cc326314d9f1</td>\n",
       "      <td>47.582546</td>\n",
       "      <td>0.000430</td>\n",
       "      <td>0.000009</td>\n",
       "      <td>42.5</td>\n",
       "      <td>64.182242</td>\n",
       "      <td>11.697038</td>\n",
       "      <td>...</td>\n",
       "      <td>16</td>\n",
       "      <td>AMD Ryzen 7 6800H with Radeon Graphics</td>\n",
       "      <td>1</td>\n",
       "      <td>1 x NVIDIA GeForce RTX 3060 Laptop GPU</td>\n",
       "      <td>23.3223</td>\n",
       "      <td>42.6826</td>\n",
       "      <td>31.192101</td>\n",
       "      <td>machine</td>\n",
       "      <td>N</td>\n",
       "      <td>1.0</td>\n",
       "    </tr>\n",
       "    <tr>\n",
       "      <th>2</th>\n",
       "      <td>2025-03-16T20:06:24</td>\n",
       "      <td>codecarbon</td>\n",
       "      <td>cd83d053-c565-462a-88ca-39b60c21638c</td>\n",
       "      <td>5b0fa12a-3dd7-45bb-9766-cc326314d9f1</td>\n",
       "      <td>46.866050</td>\n",
       "      <td>0.000422</td>\n",
       "      <td>0.000009</td>\n",
       "      <td>42.5</td>\n",
       "      <td>65.754074</td>\n",
       "      <td>11.697038</td>\n",
       "      <td>...</td>\n",
       "      <td>16</td>\n",
       "      <td>AMD Ryzen 7 6800H with Radeon Graphics</td>\n",
       "      <td>1</td>\n",
       "      <td>1 x NVIDIA GeForce RTX 3060 Laptop GPU</td>\n",
       "      <td>23.3223</td>\n",
       "      <td>42.6826</td>\n",
       "      <td>31.192101</td>\n",
       "      <td>machine</td>\n",
       "      <td>N</td>\n",
       "      <td>1.0</td>\n",
       "    </tr>\n",
       "    <tr>\n",
       "      <th>3</th>\n",
       "      <td>2025-03-16T20:08:13</td>\n",
       "      <td>codecarbon</td>\n",
       "      <td>6aca22cb-b8ad-4ae1-9a54-1d3d51e151b0</td>\n",
       "      <td>5b0fa12a-3dd7-45bb-9766-cc326314d9f1</td>\n",
       "      <td>47.874468</td>\n",
       "      <td>0.000438</td>\n",
       "      <td>0.000009</td>\n",
       "      <td>42.5</td>\n",
       "      <td>58.631904</td>\n",
       "      <td>11.697038</td>\n",
       "      <td>...</td>\n",
       "      <td>16</td>\n",
       "      <td>AMD Ryzen 7 6800H with Radeon Graphics</td>\n",
       "      <td>1</td>\n",
       "      <td>1 x NVIDIA GeForce RTX 3060 Laptop GPU</td>\n",
       "      <td>23.3223</td>\n",
       "      <td>42.6826</td>\n",
       "      <td>31.192101</td>\n",
       "      <td>machine</td>\n",
       "      <td>N</td>\n",
       "      <td>1.0</td>\n",
       "    </tr>\n",
       "    <tr>\n",
       "      <th>4</th>\n",
       "      <td>2025-03-16T20:09:44</td>\n",
       "      <td>codecarbon</td>\n",
       "      <td>cf495b90-e11f-4300-838d-96fdff1a32ea</td>\n",
       "      <td>5b0fa12a-3dd7-45bb-9766-cc326314d9f1</td>\n",
       "      <td>47.869385</td>\n",
       "      <td>0.000432</td>\n",
       "      <td>0.000009</td>\n",
       "      <td>42.5</td>\n",
       "      <td>60.760024</td>\n",
       "      <td>11.697038</td>\n",
       "      <td>...</td>\n",
       "      <td>16</td>\n",
       "      <td>AMD Ryzen 7 6800H with Radeon Graphics</td>\n",
       "      <td>1</td>\n",
       "      <td>1 x NVIDIA GeForce RTX 3060 Laptop GPU</td>\n",
       "      <td>23.3223</td>\n",
       "      <td>42.6826</td>\n",
       "      <td>31.192101</td>\n",
       "      <td>machine</td>\n",
       "      <td>N</td>\n",
       "      <td>1.0</td>\n",
       "    </tr>\n",
       "    <tr>\n",
       "      <th>5</th>\n",
       "      <td>2025-03-16T20:11:56</td>\n",
       "      <td>codecarbon</td>\n",
       "      <td>d42cb6dd-470a-4cd5-9b14-7ed8eeb362a3</td>\n",
       "      <td>5b0fa12a-3dd7-45bb-9766-cc326314d9f1</td>\n",
       "      <td>47.945325</td>\n",
       "      <td>0.000429</td>\n",
       "      <td>0.000009</td>\n",
       "      <td>42.5</td>\n",
       "      <td>57.215963</td>\n",
       "      <td>11.697038</td>\n",
       "      <td>...</td>\n",
       "      <td>16</td>\n",
       "      <td>AMD Ryzen 7 6800H with Radeon Graphics</td>\n",
       "      <td>1</td>\n",
       "      <td>1 x NVIDIA GeForce RTX 3060 Laptop GPU</td>\n",
       "      <td>23.3223</td>\n",
       "      <td>42.6826</td>\n",
       "      <td>31.192101</td>\n",
       "      <td>machine</td>\n",
       "      <td>N</td>\n",
       "      <td>1.0</td>\n",
       "    </tr>\n",
       "    <tr>\n",
       "      <th>6</th>\n",
       "      <td>2025-03-16T20:19:35</td>\n",
       "      <td>codecarbon</td>\n",
       "      <td>cb847467-a004-4d0a-b7d7-32b32cc4f12a</td>\n",
       "      <td>5b0fa12a-3dd7-45bb-9766-cc326314d9f1</td>\n",
       "      <td>342.370293</td>\n",
       "      <td>0.003089</td>\n",
       "      <td>0.000009</td>\n",
       "      <td>42.5</td>\n",
       "      <td>43.885722</td>\n",
       "      <td>11.697038</td>\n",
       "      <td>...</td>\n",
       "      <td>16</td>\n",
       "      <td>AMD Ryzen 7 6800H with Radeon Graphics</td>\n",
       "      <td>1</td>\n",
       "      <td>1 x NVIDIA GeForce RTX 3060 Laptop GPU</td>\n",
       "      <td>23.3223</td>\n",
       "      <td>42.6826</td>\n",
       "      <td>31.192101</td>\n",
       "      <td>machine</td>\n",
       "      <td>N</td>\n",
       "      <td>1.0</td>\n",
       "    </tr>\n",
       "  </tbody>\n",
       "</table>\n",
       "<p>7 rows × 32 columns</p>\n",
       "</div>"
      ],
      "text/plain": [
       "             timestamp project_name                                run_id  \\\n",
       "0  2025-03-16T20:01:37   codecarbon  5c36cffe-1319-41d8-aa75-3c0da269cb1e   \n",
       "1  2025-03-16T20:04:32   codecarbon  734571c9-a510-4538-97e2-a405634e1ae6   \n",
       "2  2025-03-16T20:06:24   codecarbon  cd83d053-c565-462a-88ca-39b60c21638c   \n",
       "3  2025-03-16T20:08:13   codecarbon  6aca22cb-b8ad-4ae1-9a54-1d3d51e151b0   \n",
       "4  2025-03-16T20:09:44   codecarbon  cf495b90-e11f-4300-838d-96fdff1a32ea   \n",
       "5  2025-03-16T20:11:56   codecarbon  d42cb6dd-470a-4cd5-9b14-7ed8eeb362a3   \n",
       "6  2025-03-16T20:19:35   codecarbon  cb847467-a004-4d0a-b7d7-32b32cc4f12a   \n",
       "\n",
       "                          experiment_id    duration  emissions  \\\n",
       "0  5b0fa12a-3dd7-45bb-9766-cc326314d9f1   46.492171   0.000417   \n",
       "1  5b0fa12a-3dd7-45bb-9766-cc326314d9f1   47.582546   0.000430   \n",
       "2  5b0fa12a-3dd7-45bb-9766-cc326314d9f1   46.866050   0.000422   \n",
       "3  5b0fa12a-3dd7-45bb-9766-cc326314d9f1   47.874468   0.000438   \n",
       "4  5b0fa12a-3dd7-45bb-9766-cc326314d9f1   47.869385   0.000432   \n",
       "5  5b0fa12a-3dd7-45bb-9766-cc326314d9f1   47.945325   0.000429   \n",
       "6  5b0fa12a-3dd7-45bb-9766-cc326314d9f1  342.370293   0.003089   \n",
       "\n",
       "   emissions_rate  cpu_power  gpu_power  ram_power  ...  cpu_count  \\\n",
       "0        0.000009       42.5  63.561500  11.697038  ...         16   \n",
       "1        0.000009       42.5  64.182242  11.697038  ...         16   \n",
       "2        0.000009       42.5  65.754074  11.697038  ...         16   \n",
       "3        0.000009       42.5  58.631904  11.697038  ...         16   \n",
       "4        0.000009       42.5  60.760024  11.697038  ...         16   \n",
       "5        0.000009       42.5  57.215963  11.697038  ...         16   \n",
       "6        0.000009       42.5  43.885722  11.697038  ...         16   \n",
       "\n",
       "                                cpu_model  gpu_count  \\\n",
       "0  AMD Ryzen 7 6800H with Radeon Graphics          1   \n",
       "1  AMD Ryzen 7 6800H with Radeon Graphics          1   \n",
       "2  AMD Ryzen 7 6800H with Radeon Graphics          1   \n",
       "3  AMD Ryzen 7 6800H with Radeon Graphics          1   \n",
       "4  AMD Ryzen 7 6800H with Radeon Graphics          1   \n",
       "5  AMD Ryzen 7 6800H with Radeon Graphics          1   \n",
       "6  AMD Ryzen 7 6800H with Radeon Graphics          1   \n",
       "\n",
       "                                gpu_model longitude latitude ram_total_size  \\\n",
       "0  1 x NVIDIA GeForce RTX 3060 Laptop GPU   23.3223  42.6826      31.192101   \n",
       "1  1 x NVIDIA GeForce RTX 3060 Laptop GPU   23.3223  42.6826      31.192101   \n",
       "2  1 x NVIDIA GeForce RTX 3060 Laptop GPU   23.3223  42.6826      31.192101   \n",
       "3  1 x NVIDIA GeForce RTX 3060 Laptop GPU   23.3223  42.6826      31.192101   \n",
       "4  1 x NVIDIA GeForce RTX 3060 Laptop GPU   23.3223  42.6826      31.192101   \n",
       "5  1 x NVIDIA GeForce RTX 3060 Laptop GPU   23.3223  42.6826      31.192101   \n",
       "6  1 x NVIDIA GeForce RTX 3060 Laptop GPU   23.3223  42.6826      31.192101   \n",
       "\n",
       "   tracking_mode  on_cloud  pue  \n",
       "0        machine         N  1.0  \n",
       "1        machine         N  1.0  \n",
       "2        machine         N  1.0  \n",
       "3        machine         N  1.0  \n",
       "4        machine         N  1.0  \n",
       "5        machine         N  1.0  \n",
       "6        machine         N  1.0  \n",
       "\n",
       "[7 rows x 32 columns]"
      ]
     },
     "execution_count": 48,
     "metadata": {},
     "output_type": "execute_result"
    }
   ],
   "source": [
    "emisions_df"
   ]
  },
  {
   "cell_type": "code",
   "execution_count": 53,
   "metadata": {},
   "outputs": [
    {
     "data": {
      "text/plain": [
       "[<matplotlib.lines.Line2D at 0x24383c562d0>]"
      ]
     },
     "execution_count": 53,
     "metadata": {},
     "output_type": "execute_result"
    },
    {
     "data": {
      "image/png": "[encoded data removed]",
      "text/plain": [
       "<Figure size 640x480 with 1 Axes>"
      ]
     },
     "metadata": {},
     "output_type": "display_data"
    }
   ],
   "source": [
    "plt.plot(emisions_df['timestamp'], emisions_df['gpu_power'].cumsum())"
   ]
  },
  {
   "cell_type": "markdown",
   "metadata": {},
   "source": [
    "#### Transfer ICE parameters to the EE network"
   ]
  },
  {
   "cell_type": "code",
   "execution_count": 63,
   "metadata": {},
   "outputs": [],
   "source": [
    "lstm_ee_tl = lstm.LSTMModel(input_size = 1, hidden_size = 128, num_layers = 3, output_size = 1)"
   ]
  },
  {
   "cell_type": "code",
   "execution_count": 64,
   "metadata": {},
   "outputs": [
    {
     "name": "stdout",
     "output_type": "stream",
     "text": [
      "Model successfully loaded from 'D:\\Repositories\\PhD\\models\\healthy_lstm.pth'\n"
     ]
    },
    {
     "name": "stderr",
     "output_type": "stream",
     "text": [
      "D:\\Repositories\\PhD\\src\\classes\\lstm.py:264: FutureWarning: You are using `torch.load` with `weights_only=False` (the current default value), which uses the default pickle module implicitly. It is possible to construct malicious pickle data which will execute arbitrary code during unpickling (See https://github.com/pytorch/pytorch/blob/main/SECURITY.md#untrusted-models for more details). In a future release, the default value for `weights_only` will be flipped to `True`. This limits the functions that could be executed during unpickling. Arbitrary objects will no longer be allowed to be loaded via this mode unless they are explicitly allowlisted by the user via `torch.serialization.add_safe_globals`. We recommend you start setting `weights_only=True` for any use case where you don't have full control of the loaded file. Please open an issue on GitHub for any issues related to this experimental feature.\n",
      "  self.load_state_dict(torch.load(file_path, map_location=self.device))\n"
     ]
    },
    {
     "data": {
      "text/plain": [
       "True"
      ]
     },
     "execution_count": 64,
     "metadata": {},
     "output_type": "execute_result"
    }
   ],
   "source": [
    "lstm_ee_tl.load_model(file_path=r\"D:\\Repositories\\PhD\\models\\healthy_lstm.pth\")"
   ]
  },
  {
   "cell_type": "code",
   "execution_count": 65,
   "metadata": {},
   "outputs": [
    {
     "name": "stderr",
     "output_type": "stream",
     "text": [
      "[codecarbon INFO @ 11:33:17] [setup] RAM Tracking...\n",
      "[codecarbon INFO @ 11:33:17] [setup] CPU Tracking...\n",
      "[codecarbon WARNING @ 11:33:17] No CPU tracking mode found. Falling back on CPU constant mode. \n",
      " Windows OS detected: Please install Intel Power Gadget to measure CPU\n",
      "\n",
      "[codecarbon WARNING @ 11:33:19] We saw that you have a AMD Ryzen 7 6800H with Radeon Graphics but we don't know it. Please contact us.\n",
      "[codecarbon INFO @ 11:33:19] CPU Model on constant consumption mode: AMD Ryzen 7 6800H with Radeon Graphics\n",
      "[codecarbon INFO @ 11:33:19] [setup] GPU Tracking...\n",
      "[codecarbon INFO @ 11:33:19] Tracking Nvidia GPU via pynvml\n",
      "[codecarbon INFO @ 11:33:19] >>> Tracker's metadata:\n",
      "[codecarbon INFO @ 11:33:19]   Platform system: Windows-11-10.0.22631-SP0\n",
      "[codecarbon INFO @ 11:33:19]   Python version: 3.12.7\n",
      "[codecarbon INFO @ 11:33:19]   CodeCarbon version: 2.8.3\n",
      "[codecarbon INFO @ 11:33:19]   Available RAM : 31.192 GB\n",
      "[codecarbon INFO @ 11:33:19]   CPU count: 16\n",
      "[codecarbon INFO @ 11:33:19]   CPU model: AMD Ryzen 7 6800H with Radeon Graphics\n",
      "[codecarbon INFO @ 11:33:19]   GPU count: 1\n",
      "[codecarbon INFO @ 11:33:19]   GPU model: 1 x NVIDIA GeForce RTX 3060 Laptop GPU\n",
      "[codecarbon INFO @ 11:33:19] Saving emissions data to file d:\\Repositories\\PhD\\notebooks\\transfer_learning\\emissions.csv\n",
      "[codecarbon INFO @ 11:33:34] Energy consumed for RAM : 0.000049 kWh. RAM Power : 11.697037696838379 W\n",
      "[codecarbon INFO @ 11:33:34] Energy consumed for all CPUs : 0.000177 kWh. Total CPU Power : 42.5 W\n",
      "[codecarbon INFO @ 11:33:34] Energy consumed for all GPUs : 0.000175 kWh. Total GPU Power : 41.910332012900795 W\n",
      "[codecarbon INFO @ 11:33:34] 0.000401 kWh of electricity used since the beginning.\n",
      "[codecarbon INFO @ 11:33:49] Energy consumed for RAM : 0.000098 kWh. RAM Power : 11.697037696838379 W\n",
      "[codecarbon INFO @ 11:33:49] Energy consumed for all CPUs : 0.000354 kWh. Total CPU Power : 42.5 W\n",
      "[codecarbon INFO @ 11:33:49] Energy consumed for all GPUs : 0.000350 kWh. Total GPU Power : 41.945706085663 W\n",
      "[codecarbon INFO @ 11:33:49] 0.000801 kWh of electricity used since the beginning.\n"
     ]
    },
    {
     "name": "stdout",
     "output_type": "stream",
     "text": [
      "54282\n",
      "Epoch [1/20], Train Loss: 1.0022, Val Loss: 1.0027, Energy Used: 2143.05 J\n",
      "Model saved to best_lstm_model_EE.pth\n"
     ]
    },
    {
     "name": "stderr",
     "output_type": "stream",
     "text": [
      "[codecarbon INFO @ 11:34:04] Energy consumed for RAM : 0.000146 kWh. RAM Power : 11.697037696838379 W\n",
      "[codecarbon INFO @ 11:34:04] Energy consumed for all CPUs : 0.000531 kWh. Total CPU Power : 42.5 W\n",
      "[codecarbon INFO @ 11:34:04] Energy consumed for all GPUs : 0.000545 kWh. Total GPU Power : 46.80108333104406 W\n",
      "[codecarbon INFO @ 11:34:04] 0.001222 kWh of electricity used since the beginning.\n",
      "[codecarbon INFO @ 11:34:19] Energy consumed for RAM : 0.000195 kWh. RAM Power : 11.697037696838379 W\n",
      "[codecarbon INFO @ 11:34:19] Energy consumed for all CPUs : 0.000709 kWh. Total CPU Power : 42.5 W\n",
      "[codecarbon INFO @ 11:34:19] Energy consumed for all GPUs : 0.000720 kWh. Total GPU Power : 42.090751206701995 W\n",
      "[codecarbon INFO @ 11:34:19] 0.001624 kWh of electricity used since the beginning.\n",
      "[codecarbon INFO @ 11:34:34] Energy consumed for RAM : 0.000244 kWh. RAM Power : 11.697037696838379 W\n",
      "[codecarbon INFO @ 11:34:34] Energy consumed for all CPUs : 0.000886 kWh. Total CPU Power : 42.5 W\n",
      "[codecarbon INFO @ 11:34:34] Energy consumed for all GPUs : 0.000891 kWh. Total GPU Power : 41.0600632897369 W\n",
      "[codecarbon INFO @ 11:34:34] 0.002021 kWh of electricity used since the beginning.\n"
     ]
    },
    {
     "name": "stdout",
     "output_type": "stream",
     "text": [
      "54329\n",
      "Epoch [2/20], Train Loss: 0.9999, Val Loss: 1.0027, Energy Used: 2152.68 J\n"
     ]
    },
    {
     "name": "stderr",
     "output_type": "stream",
     "text": [
      "[codecarbon INFO @ 11:34:49] Energy consumed for RAM : 0.000293 kWh. RAM Power : 11.697037696838379 W\n",
      "[codecarbon INFO @ 11:34:49] Energy consumed for all CPUs : 0.001063 kWh. Total CPU Power : 42.5 W\n",
      "[codecarbon INFO @ 11:34:49] Energy consumed for all GPUs : 0.001096 kWh. Total GPU Power : 49.20445333788489 W\n",
      "[codecarbon INFO @ 11:34:49] 0.002452 kWh of electricity used since the beginning.\n",
      "[codecarbon INFO @ 11:35:04] Energy consumed for RAM : 0.000341 kWh. RAM Power : 11.697037696838379 W\n",
      "[codecarbon INFO @ 11:35:04] Energy consumed for all CPUs : 0.001240 kWh. Total CPU Power : 42.5 W\n",
      "[codecarbon INFO @ 11:35:04] Energy consumed for all GPUs : 0.001266 kWh. Total GPU Power : 40.69587274627127 W\n",
      "[codecarbon INFO @ 11:35:04] 0.002847 kWh of electricity used since the beginning.\n"
     ]
    },
    {
     "name": "stdout",
     "output_type": "stream",
     "text": [
      "54283\n",
      "Epoch [3/20], Train Loss: 0.9999, Val Loss: 1.0028, Energy Used: 2156.01 J\n"
     ]
    },
    {
     "name": "stderr",
     "output_type": "stream",
     "text": [
      "[codecarbon INFO @ 11:35:19] Energy consumed for RAM : 0.000390 kWh. RAM Power : 11.697037696838379 W\n",
      "[codecarbon INFO @ 11:35:19] Energy consumed for all CPUs : 0.001417 kWh. Total CPU Power : 42.5 W\n",
      "[codecarbon INFO @ 11:35:19] Energy consumed for all GPUs : 0.001455 kWh. Total GPU Power : 45.33615576195521 W\n",
      "[codecarbon INFO @ 11:35:19] 0.003262 kWh of electricity used since the beginning.\n",
      "[codecarbon INFO @ 11:35:19] 0.009110 g.CO2eq/s mean an estimation of 287.3037576616025 kg.CO2eq/year\n",
      "[codecarbon INFO @ 11:35:34] Energy consumed for RAM : 0.000439 kWh. RAM Power : 11.697037696838379 W\n",
      "[codecarbon INFO @ 11:35:34] Energy consumed for all CPUs : 0.001594 kWh. Total CPU Power : 42.5 W\n",
      "[codecarbon INFO @ 11:35:34] Energy consumed for all GPUs : 0.001632 kWh. Total GPU Power : 42.488798837798235 W\n",
      "[codecarbon INFO @ 11:35:34] 0.003665 kWh of electricity used since the beginning.\n",
      "[codecarbon INFO @ 11:35:49] Energy consumed for RAM : 0.000487 kWh. RAM Power : 11.697037696838379 W\n",
      "[codecarbon INFO @ 11:35:49] Energy consumed for all CPUs : 0.001771 kWh. Total CPU Power : 42.5 W\n",
      "[codecarbon INFO @ 11:35:49] Energy consumed for all GPUs : 0.001804 kWh. Total GPU Power : 41.28486771529152 W\n",
      "[codecarbon INFO @ 11:35:49] 0.004063 kWh of electricity used since the beginning.\n"
     ]
    },
    {
     "name": "stdout",
     "output_type": "stream",
     "text": [
      "53954\n",
      "Epoch [4/20], Train Loss: 1.0000, Val Loss: 1.0026, Energy Used: 2129.62 J\n",
      "Model saved to best_lstm_model_EE.pth\n"
     ]
    },
    {
     "name": "stderr",
     "output_type": "stream",
     "text": [
      "[codecarbon INFO @ 11:36:04] Energy consumed for RAM : 0.000536 kWh. RAM Power : 11.697037696838379 W\n",
      "[codecarbon INFO @ 11:36:04] Energy consumed for all CPUs : 0.001949 kWh. Total CPU Power : 42.5 W\n",
      "[codecarbon INFO @ 11:36:04] Energy consumed for all GPUs : 0.002000 kWh. Total GPU Power : 47.09633118056415 W\n",
      "[codecarbon INFO @ 11:36:04] 0.004485 kWh of electricity used since the beginning.\n",
      "[codecarbon INFO @ 11:36:19] Energy consumed for RAM : 0.000585 kWh. RAM Power : 11.697037696838379 W\n",
      "[codecarbon INFO @ 11:36:19] Energy consumed for all CPUs : 0.002126 kWh. Total CPU Power : 42.5 W\n",
      "[codecarbon INFO @ 11:36:19] Energy consumed for all GPUs : 0.002169 kWh. Total GPU Power : 40.582830674379494 W\n",
      "[codecarbon INFO @ 11:36:19] 0.004880 kWh of electricity used since the beginning.\n",
      "[codecarbon INFO @ 11:36:34] Energy consumed for RAM : 0.000634 kWh. RAM Power : 11.697037696838379 W\n",
      "[codecarbon INFO @ 11:36:34] Energy consumed for all CPUs : 0.002303 kWh. Total CPU Power : 42.5 W\n",
      "[codecarbon INFO @ 11:36:34] Energy consumed for all GPUs : 0.002340 kWh. Total GPU Power : 40.97755463367704 W\n",
      "[codecarbon INFO @ 11:36:34] 0.005276 kWh of electricity used since the beginning.\n"
     ]
    },
    {
     "name": "stdout",
     "output_type": "stream",
     "text": [
      "54791\n",
      "Epoch [5/20], Train Loss: 1.0000, Val Loss: 1.0027, Energy Used: 2177.24 J\n"
     ]
    },
    {
     "name": "stderr",
     "output_type": "stream",
     "text": [
      "[codecarbon INFO @ 11:36:49] Energy consumed for RAM : 0.000682 kWh. RAM Power : 11.697037696838379 W\n",
      "[codecarbon INFO @ 11:36:49] Energy consumed for all CPUs : 0.002480 kWh. Total CPU Power : 42.5 W\n",
      "[codecarbon INFO @ 11:36:49] Energy consumed for all GPUs : 0.002539 kWh. Total GPU Power : 47.67572252347714 W\n",
      "[codecarbon INFO @ 11:36:49] 0.005701 kWh of electricity used since the beginning.\n",
      "[codecarbon INFO @ 11:37:04] Energy consumed for RAM : 0.000731 kWh. RAM Power : 11.697037696838379 W\n",
      "[codecarbon INFO @ 11:37:04] Energy consumed for all CPUs : 0.002657 kWh. Total CPU Power : 42.5 W\n",
      "[codecarbon INFO @ 11:37:04] Energy consumed for all GPUs : 0.002711 kWh. Total GPU Power : 41.43381774650539 W\n",
      "[codecarbon INFO @ 11:37:04] 0.006099 kWh of electricity used since the beginning.\n"
     ]
    },
    {
     "name": "stdout",
     "output_type": "stream",
     "text": [
      "54937\n",
      "Epoch [6/20], Train Loss: 0.9999, Val Loss: 1.0027, Energy Used: 2173.43 J\n"
     ]
    },
    {
     "name": "stderr",
     "output_type": "stream",
     "text": [
      "[codecarbon INFO @ 11:37:19] Energy consumed for RAM : 0.000780 kWh. RAM Power : 11.697037696838379 W\n",
      "[codecarbon INFO @ 11:37:19] Energy consumed for all CPUs : 0.002834 kWh. Total CPU Power : 42.5 W\n",
      "[codecarbon INFO @ 11:37:19] Energy consumed for all GPUs : 0.002904 kWh. Total GPU Power : 46.26220163294867 W\n",
      "[codecarbon INFO @ 11:37:19] 0.006518 kWh of electricity used since the beginning.\n",
      "[codecarbon INFO @ 11:37:19] 0.009096 g.CO2eq/s mean an estimation of 286.8553900345896 kg.CO2eq/year\n",
      "[codecarbon INFO @ 11:37:34] Energy consumed for RAM : 0.000829 kWh. RAM Power : 11.697037696838379 W\n",
      "[codecarbon INFO @ 11:37:34] Energy consumed for all CPUs : 0.003011 kWh. Total CPU Power : 42.5 W\n",
      "[codecarbon INFO @ 11:37:34] Energy consumed for all GPUs : 0.003082 kWh. Total GPU Power : 42.69587712705651 W\n",
      "[codecarbon INFO @ 11:37:34] 0.006922 kWh of electricity used since the beginning.\n",
      "[codecarbon INFO @ 11:37:49] Energy consumed for RAM : 0.000877 kWh. RAM Power : 11.697037696838379 W\n",
      "[codecarbon INFO @ 11:37:49] Energy consumed for all CPUs : 0.003188 kWh. Total CPU Power : 42.5 W\n",
      "[codecarbon INFO @ 11:37:49] Energy consumed for all GPUs : 0.003259 kWh. Total GPU Power : 42.4150217346052 W\n",
      "[codecarbon INFO @ 11:37:49] 0.007325 kWh of electricity used since the beginning.\n"
     ]
    },
    {
     "name": "stdout",
     "output_type": "stream",
     "text": [
      "55118\n",
      "Epoch [7/20], Train Loss: 1.0000, Val Loss: 1.0026, Energy Used: 2181.18 J\n",
      "Model saved to best_lstm_model_EE.pth\n"
     ]
    },
    {
     "name": "stderr",
     "output_type": "stream",
     "text": [
      "[codecarbon INFO @ 11:38:04] Energy consumed for RAM : 0.000926 kWh. RAM Power : 11.697037696838379 W\n",
      "[codecarbon INFO @ 11:38:04] Energy consumed for all CPUs : 0.003365 kWh. Total CPU Power : 42.5 W\n",
      "[codecarbon INFO @ 11:38:04] Energy consumed for all GPUs : 0.003459 kWh. Total GPU Power : 48.04961935304795 W\n",
      "[codecarbon INFO @ 11:38:04] 0.007751 kWh of electricity used since the beginning.\n",
      "[codecarbon INFO @ 11:38:19] Energy consumed for RAM : 0.000975 kWh. RAM Power : 11.697037696838379 W\n",
      "[codecarbon INFO @ 11:38:19] Energy consumed for all CPUs : 0.003542 kWh. Total CPU Power : 42.5 W\n",
      "[codecarbon INFO @ 11:38:19] Energy consumed for all GPUs : 0.003633 kWh. Total GPU Power : 41.76849469100514 W\n",
      "[codecarbon INFO @ 11:38:19] 0.008150 kWh of electricity used since the beginning.\n",
      "[codecarbon INFO @ 11:38:34] Energy consumed for RAM : 0.001024 kWh. RAM Power : 11.697037696838379 W\n",
      "[codecarbon INFO @ 11:38:34] Energy consumed for all CPUs : 0.003719 kWh. Total CPU Power : 42.5 W\n",
      "[codecarbon INFO @ 11:38:34] Energy consumed for all GPUs : 0.003812 kWh. Total GPU Power : 42.95235345998363 W\n",
      "[codecarbon INFO @ 11:38:34] 0.008555 kWh of electricity used since the beginning.\n"
     ]
    },
    {
     "name": "stdout",
     "output_type": "stream",
     "text": [
      "55713\n",
      "Epoch [8/20], Train Loss: 0.9998, Val Loss: 1.0042, Energy Used: 2227.32 J\n"
     ]
    },
    {
     "name": "stderr",
     "output_type": "stream",
     "text": [
      "[codecarbon INFO @ 11:38:49] Energy consumed for RAM : 0.001072 kWh. RAM Power : 11.697037696838379 W\n",
      "[codecarbon INFO @ 11:38:49] Energy consumed for all CPUs : 0.003897 kWh. Total CPU Power : 42.5 W\n",
      "[codecarbon INFO @ 11:38:49] Energy consumed for all GPUs : 0.004009 kWh. Total GPU Power : 47.10485516230922 W\n",
      "[codecarbon INFO @ 11:38:49] 0.008977 kWh of electricity used since the beginning.\n",
      "[codecarbon INFO @ 11:39:04] Energy consumed for RAM : 0.001121 kWh. RAM Power : 11.697037696838379 W\n",
      "[codecarbon INFO @ 11:39:04] Energy consumed for all CPUs : 0.004074 kWh. Total CPU Power : 42.5 W\n",
      "[codecarbon INFO @ 11:39:04] Energy consumed for all GPUs : 0.004177 kWh. Total GPU Power : 40.53116546843258 W\n",
      "[codecarbon INFO @ 11:39:04] 0.009372 kWh of electricity used since the beginning.\n"
     ]
    },
    {
     "name": "stdout",
     "output_type": "stream",
     "text": [
      "55171\n",
      "Epoch [9/20], Train Loss: 0.9999, Val Loss: 1.0043, Energy Used: 2185.57 J\n"
     ]
    },
    {
     "name": "stderr",
     "output_type": "stream",
     "text": [
      "[codecarbon INFO @ 11:39:19] Energy consumed for RAM : 0.001170 kWh. RAM Power : 11.697037696838379 W\n",
      "[codecarbon INFO @ 11:39:19] Energy consumed for all CPUs : 0.004251 kWh. Total CPU Power : 42.5 W\n",
      "[codecarbon INFO @ 11:39:19] Energy consumed for all GPUs : 0.004372 kWh. Total GPU Power : 46.7219448393275 W\n",
      "[codecarbon INFO @ 11:39:19] 0.009793 kWh of electricity used since the beginning.\n",
      "[codecarbon INFO @ 11:39:19] 0.009148 g.CO2eq/s mean an estimation of 288.4819178941978 kg.CO2eq/year\n",
      "[codecarbon INFO @ 11:39:34] Energy consumed for RAM : 0.001219 kWh. RAM Power : 11.697037696838379 W\n",
      "[codecarbon INFO @ 11:39:34] Energy consumed for all CPUs : 0.004428 kWh. Total CPU Power : 42.5 W\n",
      "[codecarbon INFO @ 11:39:34] Energy consumed for all GPUs : 0.004544 kWh. Total GPU Power : 41.19382169313457 W\n",
      "[codecarbon INFO @ 11:39:34] 0.010190 kWh of electricity used since the beginning.\n",
      "[codecarbon INFO @ 11:39:49] Energy consumed for RAM : 0.001267 kWh. RAM Power : 11.697037696838379 W\n",
      "[codecarbon INFO @ 11:39:49] Energy consumed for all CPUs : 0.004605 kWh. Total CPU Power : 42.5 W\n",
      "[codecarbon INFO @ 11:39:49] Energy consumed for all GPUs : 0.004715 kWh. Total GPU Power : 40.99685525158059 W\n",
      "[codecarbon INFO @ 11:39:49] 0.010587 kWh of electricity used since the beginning.\n",
      "[codecarbon INFO @ 11:39:55] Energy consumed for RAM : 0.001287 kWh. RAM Power : 11.697037696838379 W\n",
      "[codecarbon INFO @ 11:39:55] Energy consumed for all CPUs : 0.004678 kWh. Total CPU Power : 42.5 W\n",
      "[codecarbon INFO @ 11:39:55] Energy consumed for all GPUs : 0.004797 kWh. Total GPU Power : 48.37779148509213 W\n",
      "[codecarbon INFO @ 11:39:55] 0.010762 kWh of electricity used since the beginning.\n"
     ]
    },
    {
     "name": "stdout",
     "output_type": "stream",
     "text": [
      "54791\n",
      "Epoch [10/20], Train Loss: 1.0000, Val Loss: 1.0038, Energy Used: 2166.31 J\n",
      "Early stopping triggered.\n",
      "Training complete! Time to converge: 396.32 seconds\n",
      "Cumulative GPU Energy Used: 21692.43 Joules\n"
     ]
    }
   ],
   "source": [
    "lstm_ee_fit_tl, time_per_epoch_tl, cum_energy_per_epoch_tl = lstm_ee_tl.train_lstm_and_track_time_and_efficiency(train_loader, val_loader, num_epochs=20, learning_rate=0.005)"
   ]
  },
  {
   "cell_type": "code",
   "execution_count": null,
   "metadata": {},
   "outputs": [],
   "source": []
  }
 ],
 "metadata": {
  "kernelspec": {
   "display_name": "base",
   "language": "python",
   "name": "python3"
  },
  "language_info": {
   "codemirror_mode": {
    "name": "ipython",
    "version": 3
   },
   "file_extension": ".py",
   "mimetype": "text/x-python",
   "name": "python",
   "nbconvert_exporter": "python",
   "pygments_lexer": "ipython3",
   "version": "3.12.7"
  }
 },
 "nbformat": 4,
 "nbformat_minor": 2
}
