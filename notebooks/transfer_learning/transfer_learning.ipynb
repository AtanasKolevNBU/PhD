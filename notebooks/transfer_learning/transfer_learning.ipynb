{
 "cells": [
  {
   "cell_type": "code",
   "execution_count": 1,
   "metadata": {},
   "outputs": [],
   "source": [
    "import numpy as np\n",
    "import pandas as pd"
   ]
  },
  {
   "cell_type": "code",
   "execution_count": 2,
   "metadata": {},
   "outputs": [],
   "source": [
    "df = pd.read_csv(r\"D:\\Repositories\\PhD\\parsed_data\\ICE_data\\internal_combustion_engine_bearings_fixed_duplicates.csv\")"
   ]
  },
  {
   "cell_type": "code",
   "execution_count": 3,
   "metadata": {},
   "outputs": [
    {
     "data": {
      "text/html": [
       "<div>\n",
       "<style scoped>\n",
       "    .dataframe tbody tr th:only-of-type {\n",
       "        vertical-align: middle;\n",
       "    }\n",
       "\n",
       "    .dataframe tbody tr th {\n",
       "        vertical-align: top;\n",
       "    }\n",
       "\n",
       "    .dataframe thead th {\n",
       "        text-align: right;\n",
       "    }\n",
       "</style>\n",
       "<table border=\"1\" class=\"dataframe\">\n",
       "  <thead>\n",
       "    <tr style=\"text-align: right;\">\n",
       "      <th></th>\n",
       "      <th>Time</th>\n",
       "      <th>Demand 1</th>\n",
       "      <th>Control 1</th>\n",
       "      <th>Output Drive 1</th>\n",
       "      <th>Channel 1</th>\n",
       "      <th>Channel 2</th>\n",
       "      <th>Channel 3</th>\n",
       "      <th>Channel 4</th>\n",
       "      <th>Channel 1 Kurtosis</th>\n",
       "      <th>Channel 2 Kurtosis</th>\n",
       "      <th>...</th>\n",
       "      <th>Rear Input 5</th>\n",
       "      <th>Rear Input 6</th>\n",
       "      <th>Rear Input 7</th>\n",
       "      <th>Rear Input 8</th>\n",
       "      <th>FAULT</th>\n",
       "      <th>RPM</th>\n",
       "      <th>HUMIDITY%</th>\n",
       "      <th>TEMPERATURE_Celsius</th>\n",
       "      <th>resultant_vibration_magnitude</th>\n",
       "      <th>resultant_vibration_magnitude_normal_dist</th>\n",
       "    </tr>\n",
       "  </thead>\n",
       "  <tbody>\n",
       "    <tr>\n",
       "      <th>0</th>\n",
       "      <td>0.001450</td>\n",
       "      <td>0.125011</td>\n",
       "      <td>0.176033</td>\n",
       "      <td>0.000000</td>\n",
       "      <td>0.211458</td>\n",
       "      <td>0.209182</td>\n",
       "      <td>0.145823</td>\n",
       "      <td>1.624200e-15</td>\n",
       "      <td>2.52457</td>\n",
       "      <td>2.94874</td>\n",
       "      <td>...</td>\n",
       "      <td>0</td>\n",
       "      <td>0</td>\n",
       "      <td>0</td>\n",
       "      <td>0</td>\n",
       "      <td>1</td>\n",
       "      <td>1000</td>\n",
       "      <td>0</td>\n",
       "      <td>-10</td>\n",
       "      <td>0.331264</td>\n",
       "      <td>-1.104839</td>\n",
       "    </tr>\n",
       "    <tr>\n",
       "      <th>1</th>\n",
       "      <td>0.006283</td>\n",
       "      <td>0.125011</td>\n",
       "      <td>0.176033</td>\n",
       "      <td>0.000012</td>\n",
       "      <td>0.206329</td>\n",
       "      <td>0.206513</td>\n",
       "      <td>0.150478</td>\n",
       "      <td>1.643320e-15</td>\n",
       "      <td>2.32290</td>\n",
       "      <td>2.46553</td>\n",
       "      <td>...</td>\n",
       "      <td>0</td>\n",
       "      <td>0</td>\n",
       "      <td>0</td>\n",
       "      <td>0</td>\n",
       "      <td>1</td>\n",
       "      <td>1000</td>\n",
       "      <td>0</td>\n",
       "      <td>-10</td>\n",
       "      <td>0.328425</td>\n",
       "      <td>-1.113447</td>\n",
       "    </tr>\n",
       "    <tr>\n",
       "      <th>2</th>\n",
       "      <td>0.009633</td>\n",
       "      <td>0.125011</td>\n",
       "      <td>0.172626</td>\n",
       "      <td>0.000013</td>\n",
       "      <td>0.206351</td>\n",
       "      <td>0.194663</td>\n",
       "      <td>0.148313</td>\n",
       "      <td>1.528270e-15</td>\n",
       "      <td>2.26458</td>\n",
       "      <td>2.55488</td>\n",
       "      <td>...</td>\n",
       "      <td>0</td>\n",
       "      <td>0</td>\n",
       "      <td>0</td>\n",
       "      <td>0</td>\n",
       "      <td>1</td>\n",
       "      <td>1000</td>\n",
       "      <td>0</td>\n",
       "      <td>-10</td>\n",
       "      <td>0.320111</td>\n",
       "      <td>-1.139087</td>\n",
       "    </tr>\n",
       "    <tr>\n",
       "      <th>3</th>\n",
       "      <td>0.013200</td>\n",
       "      <td>0.125011</td>\n",
       "      <td>0.172626</td>\n",
       "      <td>0.000014</td>\n",
       "      <td>0.214463</td>\n",
       "      <td>0.214489</td>\n",
       "      <td>0.155652</td>\n",
       "      <td>1.791370e-15</td>\n",
       "      <td>2.53380</td>\n",
       "      <td>2.66379</td>\n",
       "      <td>...</td>\n",
       "      <td>0</td>\n",
       "      <td>0</td>\n",
       "      <td>0</td>\n",
       "      <td>0</td>\n",
       "      <td>1</td>\n",
       "      <td>1000</td>\n",
       "      <td>0</td>\n",
       "      <td>-10</td>\n",
       "      <td>0.340921</td>\n",
       "      <td>-1.076103</td>\n",
       "    </tr>\n",
       "    <tr>\n",
       "      <th>4</th>\n",
       "      <td>0.016583</td>\n",
       "      <td>0.125011</td>\n",
       "      <td>0.172626</td>\n",
       "      <td>0.000015</td>\n",
       "      <td>0.210449</td>\n",
       "      <td>0.198857</td>\n",
       "      <td>0.154162</td>\n",
       "      <td>1.594310e-15</td>\n",
       "      <td>2.51443</td>\n",
       "      <td>2.81510</td>\n",
       "      <td>...</td>\n",
       "      <td>0</td>\n",
       "      <td>0</td>\n",
       "      <td>0</td>\n",
       "      <td>0</td>\n",
       "      <td>1</td>\n",
       "      <td>1000</td>\n",
       "      <td>0</td>\n",
       "      <td>-10</td>\n",
       "      <td>0.328023</td>\n",
       "      <td>-1.114673</td>\n",
       "    </tr>\n",
       "    <tr>\n",
       "      <th>...</th>\n",
       "      <td>...</td>\n",
       "      <td>...</td>\n",
       "      <td>...</td>\n",
       "      <td>...</td>\n",
       "      <td>...</td>\n",
       "      <td>...</td>\n",
       "      <td>...</td>\n",
       "      <td>...</td>\n",
       "      <td>...</td>\n",
       "      <td>...</td>\n",
       "      <td>...</td>\n",
       "      <td>...</td>\n",
       "      <td>...</td>\n",
       "      <td>...</td>\n",
       "      <td>...</td>\n",
       "      <td>...</td>\n",
       "      <td>...</td>\n",
       "      <td>...</td>\n",
       "      <td>...</td>\n",
       "      <td>...</td>\n",
       "      <td>...</td>\n",
       "    </tr>\n",
       "    <tr>\n",
       "      <th>390057</th>\n",
       "      <td>27.302300</td>\n",
       "      <td>0.500044</td>\n",
       "      <td>0.515140</td>\n",
       "      <td>0.043543</td>\n",
       "      <td>0.554265</td>\n",
       "      <td>0.560519</td>\n",
       "      <td>1.633510</td>\n",
       "      <td>1.712510e-15</td>\n",
       "      <td>3.10602</td>\n",
       "      <td>3.09644</td>\n",
       "      <td>...</td>\n",
       "      <td>0</td>\n",
       "      <td>0</td>\n",
       "      <td>0</td>\n",
       "      <td>0</td>\n",
       "      <td>0</td>\n",
       "      <td>2000</td>\n",
       "      <td>50</td>\n",
       "      <td>45</td>\n",
       "      <td>1.813766</td>\n",
       "      <td>0.595405</td>\n",
       "    </tr>\n",
       "    <tr>\n",
       "      <th>390058</th>\n",
       "      <td>27.305700</td>\n",
       "      <td>0.500044</td>\n",
       "      <td>0.515140</td>\n",
       "      <td>0.043541</td>\n",
       "      <td>0.554672</td>\n",
       "      <td>0.560996</td>\n",
       "      <td>1.646360</td>\n",
       "      <td>1.711110e-15</td>\n",
       "      <td>3.10423</td>\n",
       "      <td>3.09293</td>\n",
       "      <td>...</td>\n",
       "      <td>0</td>\n",
       "      <td>0</td>\n",
       "      <td>0</td>\n",
       "      <td>0</td>\n",
       "      <td>0</td>\n",
       "      <td>2000</td>\n",
       "      <td>50</td>\n",
       "      <td>45</td>\n",
       "      <td>1.825617</td>\n",
       "      <td>0.601918</td>\n",
       "    </tr>\n",
       "    <tr>\n",
       "      <th>390059</th>\n",
       "      <td>27.309200</td>\n",
       "      <td>0.500044</td>\n",
       "      <td>0.515140</td>\n",
       "      <td>0.043536</td>\n",
       "      <td>0.555249</td>\n",
       "      <td>0.561109</td>\n",
       "      <td>1.645410</td>\n",
       "      <td>1.710140e-15</td>\n",
       "      <td>3.11372</td>\n",
       "      <td>3.09118</td>\n",
       "      <td>...</td>\n",
       "      <td>0</td>\n",
       "      <td>0</td>\n",
       "      <td>0</td>\n",
       "      <td>0</td>\n",
       "      <td>0</td>\n",
       "      <td>2000</td>\n",
       "      <td>50</td>\n",
       "      <td>45</td>\n",
       "      <td>1.824971</td>\n",
       "      <td>0.601564</td>\n",
       "    </tr>\n",
       "    <tr>\n",
       "      <th>390060</th>\n",
       "      <td>27.312500</td>\n",
       "      <td>0.500044</td>\n",
       "      <td>0.515305</td>\n",
       "      <td>0.043532</td>\n",
       "      <td>0.555029</td>\n",
       "      <td>0.560672</td>\n",
       "      <td>1.640060</td>\n",
       "      <td>1.711640e-15</td>\n",
       "      <td>3.11269</td>\n",
       "      <td>3.09097</td>\n",
       "      <td>...</td>\n",
       "      <td>0</td>\n",
       "      <td>0</td>\n",
       "      <td>0</td>\n",
       "      <td>0</td>\n",
       "      <td>0</td>\n",
       "      <td>2000</td>\n",
       "      <td>50</td>\n",
       "      <td>45</td>\n",
       "      <td>1.819947</td>\n",
       "      <td>0.598807</td>\n",
       "    </tr>\n",
       "    <tr>\n",
       "      <th>390061</th>\n",
       "      <td>27.315800</td>\n",
       "      <td>0.500044</td>\n",
       "      <td>0.515305</td>\n",
       "      <td>0.043526</td>\n",
       "      <td>0.554786</td>\n",
       "      <td>0.560474</td>\n",
       "      <td>1.632540</td>\n",
       "      <td>1.710060e-15</td>\n",
       "      <td>3.11065</td>\n",
       "      <td>3.09005</td>\n",
       "      <td>...</td>\n",
       "      <td>0</td>\n",
       "      <td>0</td>\n",
       "      <td>0</td>\n",
       "      <td>0</td>\n",
       "      <td>0</td>\n",
       "      <td>2000</td>\n",
       "      <td>50</td>\n",
       "      <td>45</td>\n",
       "      <td>1.813038</td>\n",
       "      <td>0.595004</td>\n",
       "    </tr>\n",
       "  </tbody>\n",
       "</table>\n",
       "<p>390062 rows × 26 columns</p>\n",
       "</div>"
      ],
      "text/plain": [
       "             Time  Demand 1  Control 1  Output Drive 1  Channel 1  Channel 2  \\\n",
       "0        0.001450  0.125011   0.176033        0.000000   0.211458   0.209182   \n",
       "1        0.006283  0.125011   0.176033        0.000012   0.206329   0.206513   \n",
       "2        0.009633  0.125011   0.172626        0.000013   0.206351   0.194663   \n",
       "3        0.013200  0.125011   0.172626        0.000014   0.214463   0.214489   \n",
       "4        0.016583  0.125011   0.172626        0.000015   0.210449   0.198857   \n",
       "...           ...       ...        ...             ...        ...        ...   \n",
       "390057  27.302300  0.500044   0.515140        0.043543   0.554265   0.560519   \n",
       "390058  27.305700  0.500044   0.515140        0.043541   0.554672   0.560996   \n",
       "390059  27.309200  0.500044   0.515140        0.043536   0.555249   0.561109   \n",
       "390060  27.312500  0.500044   0.515305        0.043532   0.555029   0.560672   \n",
       "390061  27.315800  0.500044   0.515305        0.043526   0.554786   0.560474   \n",
       "\n",
       "        Channel 3     Channel 4  Channel 1 Kurtosis  Channel 2 Kurtosis  ...  \\\n",
       "0        0.145823  1.624200e-15             2.52457             2.94874  ...   \n",
       "1        0.150478  1.643320e-15             2.32290             2.46553  ...   \n",
       "2        0.148313  1.528270e-15             2.26458             2.55488  ...   \n",
       "3        0.155652  1.791370e-15             2.53380             2.66379  ...   \n",
       "4        0.154162  1.594310e-15             2.51443             2.81510  ...   \n",
       "...           ...           ...                 ...                 ...  ...   \n",
       "390057   1.633510  1.712510e-15             3.10602             3.09644  ...   \n",
       "390058   1.646360  1.711110e-15             3.10423             3.09293  ...   \n",
       "390059   1.645410  1.710140e-15             3.11372             3.09118  ...   \n",
       "390060   1.640060  1.711640e-15             3.11269             3.09097  ...   \n",
       "390061   1.632540  1.710060e-15             3.11065             3.09005  ...   \n",
       "\n",
       "        Rear Input 5  Rear Input 6  Rear Input 7  Rear Input 8  FAULT   RPM  \\\n",
       "0                  0             0             0             0      1  1000   \n",
       "1                  0             0             0             0      1  1000   \n",
       "2                  0             0             0             0      1  1000   \n",
       "3                  0             0             0             0      1  1000   \n",
       "4                  0             0             0             0      1  1000   \n",
       "...              ...           ...           ...           ...    ...   ...   \n",
       "390057             0             0             0             0      0  2000   \n",
       "390058             0             0             0             0      0  2000   \n",
       "390059             0             0             0             0      0  2000   \n",
       "390060             0             0             0             0      0  2000   \n",
       "390061             0             0             0             0      0  2000   \n",
       "\n",
       "        HUMIDITY%  TEMPERATURE_Celsius  resultant_vibration_magnitude  \\\n",
       "0               0                  -10                       0.331264   \n",
       "1               0                  -10                       0.328425   \n",
       "2               0                  -10                       0.320111   \n",
       "3               0                  -10                       0.340921   \n",
       "4               0                  -10                       0.328023   \n",
       "...           ...                  ...                            ...   \n",
       "390057         50                   45                       1.813766   \n",
       "390058         50                   45                       1.825617   \n",
       "390059         50                   45                       1.824971   \n",
       "390060         50                   45                       1.819947   \n",
       "390061         50                   45                       1.813038   \n",
       "\n",
       "        resultant_vibration_magnitude_normal_dist  \n",
       "0                                       -1.104839  \n",
       "1                                       -1.113447  \n",
       "2                                       -1.139087  \n",
       "3                                       -1.076103  \n",
       "4                                       -1.114673  \n",
       "...                                           ...  \n",
       "390057                                   0.595405  \n",
       "390058                                   0.601918  \n",
       "390059                                   0.601564  \n",
       "390060                                   0.598807  \n",
       "390061                                   0.595004  \n",
       "\n",
       "[390062 rows x 26 columns]"
      ]
     },
     "execution_count": 3,
     "metadata": {},
     "output_type": "execute_result"
    }
   ],
   "source": [
    "df"
   ]
  },
  {
   "cell_type": "code",
   "execution_count": 4,
   "metadata": {},
   "outputs": [],
   "source": [
    "import sys\n",
    "import os\n",
    "\n",
    "src_path = os.path.abspath(r\"D:\\Repositories\\PhD\\src\\classes\")\n",
    "sys.path.append(src_path)"
   ]
  },
  {
   "cell_type": "code",
   "execution_count": 5,
   "metadata": {},
   "outputs": [
    {
     "data": {
      "text/plain": [
       "['d:\\\\Repositories\\\\PhD\\\\notebooks\\\\transfer_learning',\n",
       " 'd:\\\\HackoAcademic_Anaconda\\\\python312.zip',\n",
       " 'd:\\\\HackoAcademic_Anaconda\\\\DLLs',\n",
       " 'd:\\\\HackoAcademic_Anaconda\\\\Lib',\n",
       " 'd:\\\\HackoAcademic_Anaconda',\n",
       " '',\n",
       " 'd:\\\\HackoAcademic_Anaconda\\\\Lib\\\\site-packages',\n",
       " 'd:\\\\HackoAcademic_Anaconda\\\\Lib\\\\site-packages\\\\win32',\n",
       " 'd:\\\\HackoAcademic_Anaconda\\\\Lib\\\\site-packages\\\\win32\\\\lib',\n",
       " 'd:\\\\HackoAcademic_Anaconda\\\\Lib\\\\site-packages\\\\Pythonwin',\n",
       " 'd:\\\\HackoAcademic_Anaconda\\\\Lib\\\\site-packages\\\\setuptools\\\\_vendor',\n",
       " 'D:\\\\Repositories\\\\PhD\\\\src\\\\classes']"
      ]
     },
     "execution_count": 5,
     "metadata": {},
     "output_type": "execute_result"
    }
   ],
   "source": [
    "sys.path"
   ]
  },
  {
   "cell_type": "code",
   "execution_count": 6,
   "metadata": {},
   "outputs": [],
   "source": [
    "import lstm\n",
    "import data_processer"
   ]
  },
  {
   "cell_type": "code",
   "execution_count": 13,
   "metadata": {},
   "outputs": [
    {
     "data": {
      "text/plain": [
       "<module 'data_processer' from 'D:\\\\Repositories\\\\PhD\\\\src\\\\classes\\\\data_processer.py'>"
      ]
     },
     "execution_count": 13,
     "metadata": {},
     "output_type": "execute_result"
    }
   ],
   "source": [
    "import importlib\n",
    "\n",
    "importlib.reload(lstm)\n",
    "importlib.reload(data_processer)"
   ]
  },
  {
   "cell_type": "code",
   "execution_count": 14,
   "metadata": {},
   "outputs": [],
   "source": [
    "dp = data_processer.DataProcesser()"
   ]
  },
  {
   "cell_type": "code",
   "execution_count": 20,
   "metadata": {},
   "outputs": [],
   "source": [
    "train_loader, val_loader, test_loader, scaler, y_train, y_val, y_test = dp.prepare_autoregressive_data(df['resultant_vibration_magnitude_normal_dist'])"
   ]
  },
  {
   "cell_type": "code",
   "execution_count": 15,
   "metadata": {},
   "outputs": [],
   "source": [
    "X = dp.prepare_tensor_for_lstm(df['resultant_vibration_magnitude_normal_dist'], 10)"
   ]
  },
  {
   "cell_type": "code",
   "execution_count": 16,
   "metadata": {},
   "outputs": [
    {
     "data": {
      "text/plain": [
       "tensor([[[-1.1048],\n",
       "         [-1.1134],\n",
       "         [-1.1391],\n",
       "         ...,\n",
       "         [-1.1274],\n",
       "         [-1.1188],\n",
       "         [-1.1299]],\n",
       "\n",
       "        [[-1.1134],\n",
       "         [-1.1391],\n",
       "         [-1.0761],\n",
       "         ...,\n",
       "         [-1.1188],\n",
       "         [-1.1299],\n",
       "         [-1.1389]],\n",
       "\n",
       "        [[-1.1391],\n",
       "         [-1.0761],\n",
       "         [-1.1147],\n",
       "         ...,\n",
       "         [-1.1299],\n",
       "         [-1.1389],\n",
       "         [-1.0839]],\n",
       "\n",
       "        ...,\n",
       "\n",
       "        [[ 0.5602],\n",
       "         [ 0.5732],\n",
       "         [ 0.5830],\n",
       "         ...,\n",
       "         [ 0.5954],\n",
       "         [ 0.6019],\n",
       "         [ 0.6016]],\n",
       "\n",
       "        [[ 0.5732],\n",
       "         [ 0.5830],\n",
       "         [ 0.5866],\n",
       "         ...,\n",
       "         [ 0.6019],\n",
       "         [ 0.6016],\n",
       "         [ 0.5988]],\n",
       "\n",
       "        [[ 0.5830],\n",
       "         [ 0.5866],\n",
       "         [ 0.5944],\n",
       "         ...,\n",
       "         [ 0.6016],\n",
       "         [ 0.5988],\n",
       "         [ 0.5950]]])"
      ]
     },
     "execution_count": 16,
     "metadata": {},
     "output_type": "execute_result"
    }
   ],
   "source": [
    "X.to(\"cpu\")\n",
    "X"
   ]
  },
  {
   "cell_type": "code",
   "execution_count": 20,
   "metadata": {},
   "outputs": [],
   "source": [
    "lstm_net = lstm.LSTMModel(1, 128, 3, 1, device=\"cpu\")"
   ]
  },
  {
   "cell_type": "code",
   "execution_count": 21,
   "metadata": {},
   "outputs": [
    {
     "name": "stdout",
     "output_type": "stream",
     "text": [
      "Model successfully loaded from 'D:\\Repositories\\PhD\\models\\healthy_lstm.pth'\n"
     ]
    },
    {
     "name": "stderr",
     "output_type": "stream",
     "text": [
      "D:\\Repositories\\PhD\\src\\classes\\lstm.py:144: FutureWarning: You are using `torch.load` with `weights_only=False` (the current default value), which uses the default pickle module implicitly. It is possible to construct malicious pickle data which will execute arbitrary code during unpickling (See https://github.com/pytorch/pytorch/blob/main/SECURITY.md#untrusted-models for more details). In a future release, the default value for `weights_only` will be flipped to `True`. This limits the functions that could be executed during unpickling. Arbitrary objects will no longer be allowed to be loaded via this mode unless they are explicitly allowlisted by the user via `torch.serialization.add_safe_globals`. We recommend you start setting `weights_only=True` for any use case where you don't have full control of the loaded file. Please open an issue on GitHub for any issues related to this experimental feature.\n",
      "  self.load_state_dict(torch.load(file_path, map_location=self.device))\n"
     ]
    },
    {
     "data": {
      "text/plain": [
       "True"
      ]
     },
     "execution_count": 21,
     "metadata": {},
     "output_type": "execute_result"
    }
   ],
   "source": [
    "lstm_net.load_model(r\"D:\\Repositories\\PhD\\models\\healthy_lstm.pth\")"
   ]
  },
  {
   "cell_type": "code",
   "execution_count": 22,
   "metadata": {},
   "outputs": [],
   "source": [
    "X_feat = lstm_net.extract_features(X.to(\"cpu\"))"
   ]
  },
  {
   "cell_type": "code",
   "execution_count": 24,
   "metadata": {},
   "outputs": [
    {
     "data": {
      "text/plain": [
       "(390053, 128)"
      ]
     },
     "execution_count": 24,
     "metadata": {},
     "output_type": "execute_result"
    }
   ],
   "source": [
    "X_feat.shape"
   ]
  },
  {
   "cell_type": "code",
   "execution_count": 27,
   "metadata": {},
   "outputs": [],
   "source": [
    "from sklearn.model_selection import train_test_split"
   ]
  },
  {
   "cell_type": "code",
   "execution_count": 36,
   "metadata": {},
   "outputs": [
    {
     "data": {
      "text/plain": [
       "0         1\n",
       "1         1\n",
       "2         1\n",
       "3         1\n",
       "4         1\n",
       "         ..\n",
       "390048    0\n",
       "390049    0\n",
       "390050    0\n",
       "390051    0\n",
       "390052    0\n",
       "Name: FAULT, Length: 390053, dtype: int64"
      ]
     },
     "execution_count": 36,
     "metadata": {},
     "output_type": "execute_result"
    }
   ],
   "source": [
    "df.iloc[:-9, -6]"
   ]
  },
  {
   "cell_type": "code",
   "execution_count": 37,
   "metadata": {},
   "outputs": [],
   "source": [
    "X_train, X_test, y_train, y_test = train_test_split(X_feat, df.iloc[:-9, -6].values, random_state=42, shuffle = True)"
   ]
  },
  {
   "cell_type": "code",
   "execution_count": null,
   "metadata": {},
   "outputs": [],
   "source": [
    "total_samples = df.shape[0]\n",
    "train_end = int(0.7 * total_samples)"
   ]
  },
  {
   "cell_type": "code",
   "execution_count": 26,
   "metadata": {},
   "outputs": [],
   "source": [
    "y_train = df.loc[:train_end, 'FAULT']"
   ]
  },
  {
   "cell_type": "code",
   "execution_count": 66,
   "metadata": {},
   "outputs": [],
   "source": [
    "y_test = df.loc[train_end+1:, 'FAULT']"
   ]
  },
  {
   "cell_type": "code",
   "execution_count": 67,
   "metadata": {},
   "outputs": [
    {
     "data": {
      "text/plain": [
       "array([ 6.7498512e-03, -2.3554699e-07,  7.6034482e-08, -2.4467900e-08,\n",
       "        5.2412691e-08,  4.4487134e-08, -3.8371579e-07, -6.3911521e-08,\n",
       "        1.2736035e-07, -6.2367313e-08, -7.0231589e-09, -5.2473001e-07,\n",
       "       -6.3041568e-08, -3.2401808e-02, -3.8925254e-08, -1.0368821e-08,\n",
       "        7.8229291e-08,  2.1073465e-07,  8.2166514e-07,  2.1618977e-08,\n",
       "       -1.1231175e-08,  2.3490447e-08,  1.0800392e-04,  2.7466388e-07,\n",
       "        5.0238704e-08,  5.6044801e-06,  7.8777887e-08,  3.3435101e-06,\n",
       "       -2.4268863e-07, -5.0260223e-09, -9.7473132e-09, -1.6961232e-08,\n",
       "        1.9211386e-07,  8.9193827e-06, -1.5792012e-02, -5.9024012e-07,\n",
       "        4.0914099e-09, -2.7103148e-08, -4.9780049e-08,  4.5473499e-08,\n",
       "        6.4737997e-09,  9.9395919e-08,  2.5960830e-07,  4.1633748e-06,\n",
       "        2.1855688e-07,  1.4736098e-07,  2.6168996e-06,  3.8699604e-09,\n",
       "        4.8213762e-09,  7.8835200e-08,  2.1047734e-08, -5.2346280e-07,\n",
       "        4.8162313e-08, -1.0486902e-07,  1.8195136e-08,  9.8084320e-07,\n",
       "        1.9026794e-08, -1.5906531e-08, -3.5792510e-07, -3.3826375e-06,\n",
       "        4.5229331e-07,  7.5343785e-08,  8.5278394e-08, -1.1164761e-06,\n",
       "       -7.8008725e-08,  2.2195204e-08, -9.6716427e-08,  2.2619631e-07,\n",
       "        5.2190918e-09,  3.8264384e-06,  1.6717054e-07, -3.2472521e-08,\n",
       "       -1.9913024e-01,  1.7533290e-04,  1.2323916e-07, -7.9192814e-06,\n",
       "        2.5058893e-07, -1.3688809e-07,  2.6751897e-07, -7.2278731e-08,\n",
       "        4.3356277e-08, -2.7470528e-06,  7.5407943e-06, -4.4105800e-08,\n",
       "        1.8063490e-07,  7.4946101e-08, -2.5914247e-08, -1.5620593e-06,\n",
       "       -9.4074153e-09, -1.6008546e-09, -7.7528926e-09,  4.5829502e-08,\n",
       "       -4.4640553e-09, -1.3360477e-07,  2.4459561e-07, -1.7439783e-08,\n",
       "       -1.7826070e-04, -1.6406561e-08, -1.5902380e-06,  6.2915220e-08,\n",
       "        1.6058965e-04,  4.8232457e-04,  5.1203961e-06, -2.8960267e-01,\n",
       "        9.3034600e-08, -7.8501159e-08, -1.2967538e-05,  2.9682760e-06,\n",
       "        3.2682486e-09,  5.5156120e-06,  7.6759044e-09, -1.5497244e-07,\n",
       "        4.2945318e-09,  1.8795978e-08, -1.7660263e-06,  3.5520105e-09,\n",
       "       -9.8676810e-06, -1.2782839e-04, -7.3428410e-08, -7.3491123e-08,\n",
       "       -3.7560919e-01, -3.5494942e-08, -5.3491604e-08, -7.1986108e-08,\n",
       "       -1.7930364e-02,  2.0471662e-08, -1.3170433e-07,  2.5006631e-08],\n",
       "      dtype=float32)"
      ]
     },
     "execution_count": 67,
     "metadata": {},
     "output_type": "execute_result"
    }
   ],
   "source": [
    "X_train[0]"
   ]
  },
  {
   "cell_type": "code",
   "execution_count": 38,
   "metadata": {},
   "outputs": [],
   "source": [
    "from xgboost import XGBClassifier"
   ]
  },
  {
   "cell_type": "code",
   "execution_count": 39,
   "metadata": {},
   "outputs": [],
   "source": [
    "xgbc = XGBClassifier()"
   ]
  },
  {
   "cell_type": "code",
   "execution_count": 70,
   "metadata": {},
   "outputs": [],
   "source": [
    "y_train = y_train.values.reshape(-1, 1)"
   ]
  },
  {
   "cell_type": "code",
   "execution_count": 73,
   "metadata": {},
   "outputs": [
    {
     "data": {
      "text/plain": [
       "(273036, 1)"
      ]
     },
     "execution_count": 73,
     "metadata": {},
     "output_type": "execute_result"
    }
   ],
   "source": [
    "y_train[:-8].shape"
   ]
  },
  {
   "cell_type": "code",
   "execution_count": 72,
   "metadata": {},
   "outputs": [
    {
     "data": {
      "text/plain": [
       "(273036, 128)"
      ]
     },
     "execution_count": 72,
     "metadata": {},
     "output_type": "execute_result"
    }
   ],
   "source": [
    "X_train.shape"
   ]
  },
  {
   "cell_type": "code",
   "execution_count": 40,
   "metadata": {},
   "outputs": [
    {
     "data": {
      "text/html": [
       "<style>#sk-container-id-1 {\n",
       "  /* Definition of color scheme common for light and dark mode */\n",
       "  --sklearn-color-text: black;\n",
       "  --sklearn-color-line: gray;\n",
       "  /* Definition of color scheme for unfitted estimators */\n",
       "  --sklearn-color-unfitted-level-0: #fff5e6;\n",
       "  --sklearn-color-unfitted-level-1: #f6e4d2;\n",
       "  --sklearn-color-unfitted-level-2: #ffe0b3;\n",
       "  --sklearn-color-unfitted-level-3: chocolate;\n",
       "  /* Definition of color scheme for fitted estimators */\n",
       "  --sklearn-color-fitted-level-0: #f0f8ff;\n",
       "  --sklearn-color-fitted-level-1: #d4ebff;\n",
       "  --sklearn-color-fitted-level-2: #b3dbfd;\n",
       "  --sklearn-color-fitted-level-3: cornflowerblue;\n",
       "\n",
       "  /* Specific color for light theme */\n",
       "  --sklearn-color-text-on-default-background: var(--sg-text-color, var(--theme-code-foreground, var(--jp-content-font-color1, black)));\n",
       "  --sklearn-color-background: var(--sg-background-color, var(--theme-background, var(--jp-layout-color0, white)));\n",
       "  --sklearn-color-border-box: var(--sg-text-color, var(--theme-code-foreground, var(--jp-content-font-color1, black)));\n",
       "  --sklearn-color-icon: #696969;\n",
       "\n",
       "  @media (prefers-color-scheme: dark) {\n",
       "    /* Redefinition of color scheme for dark theme */\n",
       "    --sklearn-color-text-on-default-background: var(--sg-text-color, var(--theme-code-foreground, var(--jp-content-font-color1, white)));\n",
       "    --sklearn-color-background: var(--sg-background-color, var(--theme-background, var(--jp-layout-color0, #111)));\n",
       "    --sklearn-color-border-box: var(--sg-text-color, var(--theme-code-foreground, var(--jp-content-font-color1, white)));\n",
       "    --sklearn-color-icon: #878787;\n",
       "  }\n",
       "}\n",
       "\n",
       "#sk-container-id-1 {\n",
       "  color: var(--sklearn-color-text);\n",
       "}\n",
       "\n",
       "#sk-container-id-1 pre {\n",
       "  padding: 0;\n",
       "}\n",
       "\n",
       "#sk-container-id-1 input.sk-hidden--visually {\n",
       "  border: 0;\n",
       "  clip: rect(1px 1px 1px 1px);\n",
       "  clip: rect(1px, 1px, 1px, 1px);\n",
       "  height: 1px;\n",
       "  margin: -1px;\n",
       "  overflow: hidden;\n",
       "  padding: 0;\n",
       "  position: absolute;\n",
       "  width: 1px;\n",
       "}\n",
       "\n",
       "#sk-container-id-1 div.sk-dashed-wrapped {\n",
       "  border: 1px dashed var(--sklearn-color-line);\n",
       "  margin: 0 0.4em 0.5em 0.4em;\n",
       "  box-sizing: border-box;\n",
       "  padding-bottom: 0.4em;\n",
       "  background-color: var(--sklearn-color-background);\n",
       "}\n",
       "\n",
       "#sk-container-id-1 div.sk-container {\n",
       "  /* jupyter's `normalize.less` sets `[hidden] { display: none; }`\n",
       "     but bootstrap.min.css set `[hidden] { display: none !important; }`\n",
       "     so we also need the `!important` here to be able to override the\n",
       "     default hidden behavior on the sphinx rendered scikit-learn.org.\n",
       "     See: https://github.com/scikit-learn/scikit-learn/issues/21755 */\n",
       "  display: inline-block !important;\n",
       "  position: relative;\n",
       "}\n",
       "\n",
       "#sk-container-id-1 div.sk-text-repr-fallback {\n",
       "  display: none;\n",
       "}\n",
       "\n",
       "div.sk-parallel-item,\n",
       "div.sk-serial,\n",
       "div.sk-item {\n",
       "  /* draw centered vertical line to link estimators */\n",
       "  background-image: linear-gradient(var(--sklearn-color-text-on-default-background), var(--sklearn-color-text-on-default-background));\n",
       "  background-size: 2px 100%;\n",
       "  background-repeat: no-repeat;\n",
       "  background-position: center center;\n",
       "}\n",
       "\n",
       "/* Parallel-specific style estimator block */\n",
       "\n",
       "#sk-container-id-1 div.sk-parallel-item::after {\n",
       "  content: \"\";\n",
       "  width: 100%;\n",
       "  border-bottom: 2px solid var(--sklearn-color-text-on-default-background);\n",
       "  flex-grow: 1;\n",
       "}\n",
       "\n",
       "#sk-container-id-1 div.sk-parallel {\n",
       "  display: flex;\n",
       "  align-items: stretch;\n",
       "  justify-content: center;\n",
       "  background-color: var(--sklearn-color-background);\n",
       "  position: relative;\n",
       "}\n",
       "\n",
       "#sk-container-id-1 div.sk-parallel-item {\n",
       "  display: flex;\n",
       "  flex-direction: column;\n",
       "}\n",
       "\n",
       "#sk-container-id-1 div.sk-parallel-item:first-child::after {\n",
       "  align-self: flex-end;\n",
       "  width: 50%;\n",
       "}\n",
       "\n",
       "#sk-container-id-1 div.sk-parallel-item:last-child::after {\n",
       "  align-self: flex-start;\n",
       "  width: 50%;\n",
       "}\n",
       "\n",
       "#sk-container-id-1 div.sk-parallel-item:only-child::after {\n",
       "  width: 0;\n",
       "}\n",
       "\n",
       "/* Serial-specific style estimator block */\n",
       "\n",
       "#sk-container-id-1 div.sk-serial {\n",
       "  display: flex;\n",
       "  flex-direction: column;\n",
       "  align-items: center;\n",
       "  background-color: var(--sklearn-color-background);\n",
       "  padding-right: 1em;\n",
       "  padding-left: 1em;\n",
       "}\n",
       "\n",
       "\n",
       "/* Toggleable style: style used for estimator/Pipeline/ColumnTransformer box that is\n",
       "clickable and can be expanded/collapsed.\n",
       "- Pipeline and ColumnTransformer use this feature and define the default style\n",
       "- Estimators will overwrite some part of the style using the `sk-estimator` class\n",
       "*/\n",
       "\n",
       "/* Pipeline and ColumnTransformer style (default) */\n",
       "\n",
       "#sk-container-id-1 div.sk-toggleable {\n",
       "  /* Default theme specific background. It is overwritten whether we have a\n",
       "  specific estimator or a Pipeline/ColumnTransformer */\n",
       "  background-color: var(--sklearn-color-background);\n",
       "}\n",
       "\n",
       "/* Toggleable label */\n",
       "#sk-container-id-1 label.sk-toggleable__label {\n",
       "  cursor: pointer;\n",
       "  display: block;\n",
       "  width: 100%;\n",
       "  margin-bottom: 0;\n",
       "  padding: 0.5em;\n",
       "  box-sizing: border-box;\n",
       "  text-align: center;\n",
       "}\n",
       "\n",
       "#sk-container-id-1 label.sk-toggleable__label-arrow:before {\n",
       "  /* Arrow on the left of the label */\n",
       "  content: \"▸\";\n",
       "  float: left;\n",
       "  margin-right: 0.25em;\n",
       "  color: var(--sklearn-color-icon);\n",
       "}\n",
       "\n",
       "#sk-container-id-1 label.sk-toggleable__label-arrow:hover:before {\n",
       "  color: var(--sklearn-color-text);\n",
       "}\n",
       "\n",
       "/* Toggleable content - dropdown */\n",
       "\n",
       "#sk-container-id-1 div.sk-toggleable__content {\n",
       "  max-height: 0;\n",
       "  max-width: 0;\n",
       "  overflow: hidden;\n",
       "  text-align: left;\n",
       "  /* unfitted */\n",
       "  background-color: var(--sklearn-color-unfitted-level-0);\n",
       "}\n",
       "\n",
       "#sk-container-id-1 div.sk-toggleable__content.fitted {\n",
       "  /* fitted */\n",
       "  background-color: var(--sklearn-color-fitted-level-0);\n",
       "}\n",
       "\n",
       "#sk-container-id-1 div.sk-toggleable__content pre {\n",
       "  margin: 0.2em;\n",
       "  border-radius: 0.25em;\n",
       "  color: var(--sklearn-color-text);\n",
       "  /* unfitted */\n",
       "  background-color: var(--sklearn-color-unfitted-level-0);\n",
       "}\n",
       "\n",
       "#sk-container-id-1 div.sk-toggleable__content.fitted pre {\n",
       "  /* unfitted */\n",
       "  background-color: var(--sklearn-color-fitted-level-0);\n",
       "}\n",
       "\n",
       "#sk-container-id-1 input.sk-toggleable__control:checked~div.sk-toggleable__content {\n",
       "  /* Expand drop-down */\n",
       "  max-height: 200px;\n",
       "  max-width: 100%;\n",
       "  overflow: auto;\n",
       "}\n",
       "\n",
       "#sk-container-id-1 input.sk-toggleable__control:checked~label.sk-toggleable__label-arrow:before {\n",
       "  content: \"▾\";\n",
       "}\n",
       "\n",
       "/* Pipeline/ColumnTransformer-specific style */\n",
       "\n",
       "#sk-container-id-1 div.sk-label input.sk-toggleable__control:checked~label.sk-toggleable__label {\n",
       "  color: var(--sklearn-color-text);\n",
       "  background-color: var(--sklearn-color-unfitted-level-2);\n",
       "}\n",
       "\n",
       "#sk-container-id-1 div.sk-label.fitted input.sk-toggleable__control:checked~label.sk-toggleable__label {\n",
       "  background-color: var(--sklearn-color-fitted-level-2);\n",
       "}\n",
       "\n",
       "/* Estimator-specific style */\n",
       "\n",
       "/* Colorize estimator box */\n",
       "#sk-container-id-1 div.sk-estimator input.sk-toggleable__control:checked~label.sk-toggleable__label {\n",
       "  /* unfitted */\n",
       "  background-color: var(--sklearn-color-unfitted-level-2);\n",
       "}\n",
       "\n",
       "#sk-container-id-1 div.sk-estimator.fitted input.sk-toggleable__control:checked~label.sk-toggleable__label {\n",
       "  /* fitted */\n",
       "  background-color: var(--sklearn-color-fitted-level-2);\n",
       "}\n",
       "\n",
       "#sk-container-id-1 div.sk-label label.sk-toggleable__label,\n",
       "#sk-container-id-1 div.sk-label label {\n",
       "  /* The background is the default theme color */\n",
       "  color: var(--sklearn-color-text-on-default-background);\n",
       "}\n",
       "\n",
       "/* On hover, darken the color of the background */\n",
       "#sk-container-id-1 div.sk-label:hover label.sk-toggleable__label {\n",
       "  color: var(--sklearn-color-text);\n",
       "  background-color: var(--sklearn-color-unfitted-level-2);\n",
       "}\n",
       "\n",
       "/* Label box, darken color on hover, fitted */\n",
       "#sk-container-id-1 div.sk-label.fitted:hover label.sk-toggleable__label.fitted {\n",
       "  color: var(--sklearn-color-text);\n",
       "  background-color: var(--sklearn-color-fitted-level-2);\n",
       "}\n",
       "\n",
       "/* Estimator label */\n",
       "\n",
       "#sk-container-id-1 div.sk-label label {\n",
       "  font-family: monospace;\n",
       "  font-weight: bold;\n",
       "  display: inline-block;\n",
       "  line-height: 1.2em;\n",
       "}\n",
       "\n",
       "#sk-container-id-1 div.sk-label-container {\n",
       "  text-align: center;\n",
       "}\n",
       "\n",
       "/* Estimator-specific */\n",
       "#sk-container-id-1 div.sk-estimator {\n",
       "  font-family: monospace;\n",
       "  border: 1px dotted var(--sklearn-color-border-box);\n",
       "  border-radius: 0.25em;\n",
       "  box-sizing: border-box;\n",
       "  margin-bottom: 0.5em;\n",
       "  /* unfitted */\n",
       "  background-color: var(--sklearn-color-unfitted-level-0);\n",
       "}\n",
       "\n",
       "#sk-container-id-1 div.sk-estimator.fitted {\n",
       "  /* fitted */\n",
       "  background-color: var(--sklearn-color-fitted-level-0);\n",
       "}\n",
       "\n",
       "/* on hover */\n",
       "#sk-container-id-1 div.sk-estimator:hover {\n",
       "  /* unfitted */\n",
       "  background-color: var(--sklearn-color-unfitted-level-2);\n",
       "}\n",
       "\n",
       "#sk-container-id-1 div.sk-estimator.fitted:hover {\n",
       "  /* fitted */\n",
       "  background-color: var(--sklearn-color-fitted-level-2);\n",
       "}\n",
       "\n",
       "/* Specification for estimator info (e.g. \"i\" and \"?\") */\n",
       "\n",
       "/* Common style for \"i\" and \"?\" */\n",
       "\n",
       ".sk-estimator-doc-link,\n",
       "a:link.sk-estimator-doc-link,\n",
       "a:visited.sk-estimator-doc-link {\n",
       "  float: right;\n",
       "  font-size: smaller;\n",
       "  line-height: 1em;\n",
       "  font-family: monospace;\n",
       "  background-color: var(--sklearn-color-background);\n",
       "  border-radius: 1em;\n",
       "  height: 1em;\n",
       "  width: 1em;\n",
       "  text-decoration: none !important;\n",
       "  margin-left: 1ex;\n",
       "  /* unfitted */\n",
       "  border: var(--sklearn-color-unfitted-level-1) 1pt solid;\n",
       "  color: var(--sklearn-color-unfitted-level-1);\n",
       "}\n",
       "\n",
       ".sk-estimator-doc-link.fitted,\n",
       "a:link.sk-estimator-doc-link.fitted,\n",
       "a:visited.sk-estimator-doc-link.fitted {\n",
       "  /* fitted */\n",
       "  border: var(--sklearn-color-fitted-level-1) 1pt solid;\n",
       "  color: var(--sklearn-color-fitted-level-1);\n",
       "}\n",
       "\n",
       "/* On hover */\n",
       "div.sk-estimator:hover .sk-estimator-doc-link:hover,\n",
       ".sk-estimator-doc-link:hover,\n",
       "div.sk-label-container:hover .sk-estimator-doc-link:hover,\n",
       ".sk-estimator-doc-link:hover {\n",
       "  /* unfitted */\n",
       "  background-color: var(--sklearn-color-unfitted-level-3);\n",
       "  color: var(--sklearn-color-background);\n",
       "  text-decoration: none;\n",
       "}\n",
       "\n",
       "div.sk-estimator.fitted:hover .sk-estimator-doc-link.fitted:hover,\n",
       ".sk-estimator-doc-link.fitted:hover,\n",
       "div.sk-label-container:hover .sk-estimator-doc-link.fitted:hover,\n",
       ".sk-estimator-doc-link.fitted:hover {\n",
       "  /* fitted */\n",
       "  background-color: var(--sklearn-color-fitted-level-3);\n",
       "  color: var(--sklearn-color-background);\n",
       "  text-decoration: none;\n",
       "}\n",
       "\n",
       "/* Span, style for the box shown on hovering the info icon */\n",
       ".sk-estimator-doc-link span {\n",
       "  display: none;\n",
       "  z-index: 9999;\n",
       "  position: relative;\n",
       "  font-weight: normal;\n",
       "  right: .2ex;\n",
       "  padding: .5ex;\n",
       "  margin: .5ex;\n",
       "  width: min-content;\n",
       "  min-width: 20ex;\n",
       "  max-width: 50ex;\n",
       "  color: var(--sklearn-color-text);\n",
       "  box-shadow: 2pt 2pt 4pt #999;\n",
       "  /* unfitted */\n",
       "  background: var(--sklearn-color-unfitted-level-0);\n",
       "  border: .5pt solid var(--sklearn-color-unfitted-level-3);\n",
       "}\n",
       "\n",
       ".sk-estimator-doc-link.fitted span {\n",
       "  /* fitted */\n",
       "  background: var(--sklearn-color-fitted-level-0);\n",
       "  border: var(--sklearn-color-fitted-level-3);\n",
       "}\n",
       "\n",
       ".sk-estimator-doc-link:hover span {\n",
       "  display: block;\n",
       "}\n",
       "\n",
       "/* \"?\"-specific style due to the `<a>` HTML tag */\n",
       "\n",
       "#sk-container-id-1 a.estimator_doc_link {\n",
       "  float: right;\n",
       "  font-size: 1rem;\n",
       "  line-height: 1em;\n",
       "  font-family: monospace;\n",
       "  background-color: var(--sklearn-color-background);\n",
       "  border-radius: 1rem;\n",
       "  height: 1rem;\n",
       "  width: 1rem;\n",
       "  text-decoration: none;\n",
       "  /* unfitted */\n",
       "  color: var(--sklearn-color-unfitted-level-1);\n",
       "  border: var(--sklearn-color-unfitted-level-1) 1pt solid;\n",
       "}\n",
       "\n",
       "#sk-container-id-1 a.estimator_doc_link.fitted {\n",
       "  /* fitted */\n",
       "  border: var(--sklearn-color-fitted-level-1) 1pt solid;\n",
       "  color: var(--sklearn-color-fitted-level-1);\n",
       "}\n",
       "\n",
       "/* On hover */\n",
       "#sk-container-id-1 a.estimator_doc_link:hover {\n",
       "  /* unfitted */\n",
       "  background-color: var(--sklearn-color-unfitted-level-3);\n",
       "  color: var(--sklearn-color-background);\n",
       "  text-decoration: none;\n",
       "}\n",
       "\n",
       "#sk-container-id-1 a.estimator_doc_link.fitted:hover {\n",
       "  /* fitted */\n",
       "  background-color: var(--sklearn-color-fitted-level-3);\n",
       "}\n",
       "</style><div id=\"sk-container-id-1\" class=\"sk-top-container\"><div class=\"sk-text-repr-fallback\"><pre>XGBClassifier(base_score=None, booster=None, callbacks=None,\n",
       "              colsample_bylevel=None, colsample_bynode=None,\n",
       "              colsample_bytree=None, device=None, early_stopping_rounds=None,\n",
       "              enable_categorical=False, eval_metric=None, feature_types=None,\n",
       "              gamma=None, grow_policy=None, importance_type=None,\n",
       "              interaction_constraints=None, learning_rate=None, max_bin=None,\n",
       "              max_cat_threshold=None, max_cat_to_onehot=None,\n",
       "              max_delta_step=None, max_depth=None, max_leaves=None,\n",
       "              min_child_weight=None, missing=nan, monotone_constraints=None,\n",
       "              multi_strategy=None, n_estimators=None, n_jobs=None,\n",
       "              num_parallel_tree=None, random_state=None, ...)</pre><b>In a Jupyter environment, please rerun this cell to show the HTML representation or trust the notebook. <br />On GitHub, the HTML representation is unable to render, please try loading this page with nbviewer.org.</b></div><div class=\"sk-container\" hidden><div class=\"sk-item\"><div class=\"sk-estimator fitted sk-toggleable\"><input class=\"sk-toggleable__control sk-hidden--visually\" id=\"sk-estimator-id-1\" type=\"checkbox\" checked><label for=\"sk-estimator-id-1\" class=\"sk-toggleable__label fitted sk-toggleable__label-arrow fitted\">&nbsp;XGBClassifier<span class=\"sk-estimator-doc-link fitted\">i<span>Fitted</span></span></label><div class=\"sk-toggleable__content fitted\"><pre>XGBClassifier(base_score=None, booster=None, callbacks=None,\n",
       "              colsample_bylevel=None, colsample_bynode=None,\n",
       "              colsample_bytree=None, device=None, early_stopping_rounds=None,\n",
       "              enable_categorical=False, eval_metric=None, feature_types=None,\n",
       "              gamma=None, grow_policy=None, importance_type=None,\n",
       "              interaction_constraints=None, learning_rate=None, max_bin=None,\n",
       "              max_cat_threshold=None, max_cat_to_onehot=None,\n",
       "              max_delta_step=None, max_depth=None, max_leaves=None,\n",
       "              min_child_weight=None, missing=nan, monotone_constraints=None,\n",
       "              multi_strategy=None, n_estimators=None, n_jobs=None,\n",
       "              num_parallel_tree=None, random_state=None, ...)</pre></div> </div></div></div></div>"
      ],
      "text/plain": [
       "XGBClassifier(base_score=None, booster=None, callbacks=None,\n",
       "              colsample_bylevel=None, colsample_bynode=None,\n",
       "              colsample_bytree=None, device=None, early_stopping_rounds=None,\n",
       "              enable_categorical=False, eval_metric=None, feature_types=None,\n",
       "              gamma=None, grow_policy=None, importance_type=None,\n",
       "              interaction_constraints=None, learning_rate=None, max_bin=None,\n",
       "              max_cat_threshold=None, max_cat_to_onehot=None,\n",
       "              max_delta_step=None, max_depth=None, max_leaves=None,\n",
       "              min_child_weight=None, missing=nan, monotone_constraints=None,\n",
       "              multi_strategy=None, n_estimators=None, n_jobs=None,\n",
       "              num_parallel_tree=None, random_state=None, ...)"
      ]
     },
     "execution_count": 40,
     "metadata": {},
     "output_type": "execute_result"
    }
   ],
   "source": [
    "xgbc.fit(X_train, y_train)"
   ]
  },
  {
   "cell_type": "code",
   "execution_count": 47,
   "metadata": {},
   "outputs": [],
   "source": [
    "y_train_pred = xgbc.predict_proba(X_train)[:, 1]\n",
    "y_test_pred = xgbc.predict_proba(X_test)[:, 1]"
   ]
  },
  {
   "cell_type": "code",
   "execution_count": 48,
   "metadata": {},
   "outputs": [
    {
     "data": {
      "text/plain": [
       "array([0.4028711 , 0.4398954 , 0.64253557, ..., 0.67282677, 0.672593  ,\n",
       "       0.5960434 ], dtype=float32)"
      ]
     },
     "execution_count": 48,
     "metadata": {},
     "output_type": "execute_result"
    }
   ],
   "source": [
    "y_train_pred"
   ]
  },
  {
   "cell_type": "code",
   "execution_count": 42,
   "metadata": {},
   "outputs": [
    {
     "data": {
      "text/plain": [
       "(292539,)"
      ]
     },
     "execution_count": 42,
     "metadata": {},
     "output_type": "execute_result"
    }
   ],
   "source": [
    "y_train.shape"
   ]
  },
  {
   "cell_type": "code",
   "execution_count": 43,
   "metadata": {},
   "outputs": [
    {
     "data": {
      "text/plain": [
       "(97514,)"
      ]
     },
     "execution_count": 43,
     "metadata": {},
     "output_type": "execute_result"
    }
   ],
   "source": [
    "y_test.shape"
   ]
  },
  {
   "cell_type": "code",
   "execution_count": 44,
   "metadata": {},
   "outputs": [
    {
     "data": {
      "text/plain": [
       "(97514,)"
      ]
     },
     "execution_count": 44,
     "metadata": {},
     "output_type": "execute_result"
    }
   ],
   "source": [
    "y_test_pred.shape "
   ]
  },
  {
   "cell_type": "code",
   "execution_count": 49,
   "metadata": {},
   "outputs": [],
   "source": [
    "from sklearn.metrics import f1_score, roc_auc_score, roc_curve, accuracy_score, recall_score, precision_score"
   ]
  },
  {
   "cell_type": "code",
   "execution_count": 50,
   "metadata": {},
   "outputs": [],
   "source": [
    "def print_scores(y_true, y_pred):\n",
    "    print(f\"F1: {f1_score(y_true, y_pred)}\")\n",
    "    print(f\"Accuracy: {accuracy_score(y_true, y_pred)}\")\n",
    "    print(f\"Precision: {precision_score(y_true, y_pred)}\")\n",
    "    print(f\"ROC AUC: {roc_auc_score(y_true, y_pred)}\")\n",
    "    print(f\"Recall: {recall_score(y_true, y_pred)}\")"
   ]
  },
  {
   "cell_type": "code",
   "execution_count": 51,
   "metadata": {},
   "outputs": [],
   "source": [
    "fpr_train, tpr_train, _ = roc_curve(y_train, y_train_pred)\n",
    "fpr_test, tpr_test, thrs = roc_curve(y_test, y_test_pred)"
   ]
  },
  {
   "cell_type": "code",
   "execution_count": 52,
   "metadata": {},
   "outputs": [],
   "source": [
    "import matplotlib.pyplot as plt"
   ]
  },
  {
   "cell_type": "code",
   "execution_count": 56,
   "metadata": {},
   "outputs": [
    {
     "data": {
      "text/plain": [
       "<matplotlib.legend.Legend at 0x12c50d7d760>"
      ]
     },
     "execution_count": 56,
     "metadata": {},
     "output_type": "execute_result"
    },
    {
     "data": {
      "image/png": "[encoded data removed]",
      "text/plain": [
       "<Figure size 640x480 with 1 Axes>"
      ]
     },
     "metadata": {},
     "output_type": "display_data"
    }
   ],
   "source": [
    "plt.plot(fpr_train, tpr_train, color = 'b', label = 'Train ROC')\n",
    "plt.plot(fpr_test, tpr_test, color = 'r', label = 'Test ROC')\n",
    "plt.plot(fpr_train, fpr_train, color = 'y', label = 'Random Model ROC')\n",
    "plt.legend()"
   ]
  },
  {
   "cell_type": "code",
   "execution_count": null,
   "metadata": {},
   "outputs": [],
   "source": []
  }
 ],
 "metadata": {
  "kernelspec": {
   "display_name": "base",
   "language": "python",
   "name": "python3"
  },
  "language_info": {
   "codemirror_mode": {
    "name": "ipython",
    "version": 3
   },
   "file_extension": ".py",
   "mimetype": "text/x-python",
   "name": "python",
   "nbconvert_exporter": "python",
   "pygments_lexer": "ipython3",
   "version": "3.12.7"
  }
 },
 "nbformat": 4,
 "nbformat_minor": 2
}
