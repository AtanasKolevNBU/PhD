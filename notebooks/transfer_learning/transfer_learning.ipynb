{
 "cells": [
  {
   "cell_type": "code",
   "execution_count": 5,
   "metadata": {},
   "outputs": [
    {
     "name": "stdout",
     "output_type": "stream",
     "text": [
      "['d:\\\\Repositories\\\\PhD\\\\notebooks\\\\transfer_learning', 'd:\\\\HackoAcademic_Anaconda\\\\python312.zip', 'd:\\\\HackoAcademic_Anaconda\\\\DLLs', 'd:\\\\HackoAcademic_Anaconda\\\\Lib', 'd:\\\\HackoAcademic_Anaconda', '', 'd:\\\\HackoAcademic_Anaconda\\\\Lib\\\\site-packages', 'd:\\\\HackoAcademic_Anaconda\\\\Lib\\\\site-packages\\\\win32', 'd:\\\\HackoAcademic_Anaconda\\\\Lib\\\\site-packages\\\\win32\\\\lib', 'd:\\\\HackoAcademic_Anaconda\\\\Lib\\\\site-packages\\\\Pythonwin', 'd:\\\\HackoAcademic_Anaconda\\\\Lib\\\\site-packages\\\\setuptools\\\\_vendor', 'D:\\\\Repositories\\\\PhD\\\\src\\\\functions', 'D:\\\\Repositories\\\\PhD\\\\src\\\\functions', 'D:\\\\Repositories\\\\PhD\\\\src\\\\functions', 'D:\\\\Repositories\\\\PhD\\\\src\\\\functions', 'D:\\\\Repositories\\\\PhD\\\\src\\\\functions', 'D:\\\\Repositories\\\\PhD\\\\src\\\\classes']\n"
     ]
    }
   ],
   "source": [
    "import numpy as np\n",
    "import pandas as pd\n",
    "\n",
    "import sys\n",
    "import os\n",
    "\n",
    "classes_path = os.path.abspath(r\"D:\\Repositories\\PhD\\src\\classes\")\n",
    "src_path = os.path.abspath(r\"D:\\Repositories\\PhD\\src\\functions\")\n",
    "sys.path.append(src_path)\n",
    "sys.path.append(classes_path)\n",
    "print(sys.path)\n",
    "\n",
    "import helpers\n",
    "import data_processer as dp\n",
    "import lstm"
   ]
  },
  {
   "cell_type": "code",
   "execution_count": 6,
   "metadata": {},
   "outputs": [
    {
     "data": {
      "text/plain": [
       "<module 'data_processer' from 'D:\\\\Repositories\\\\PhD\\\\src\\\\classes\\\\data_processer.py'>"
      ]
     },
     "execution_count": 6,
     "metadata": {},
     "output_type": "execute_result"
    }
   ],
   "source": [
    "import importlib\n",
    "\n",
    "importlib.reload(lstm)\n",
    "importlib.reload(dp)"
   ]
  },
  {
   "cell_type": "code",
   "execution_count": null,
   "metadata": {},
   "outputs": [],
   "source": []
  }
 ],
 "metadata": {
  "kernelspec": {
   "display_name": "base",
   "language": "python",
   "name": "python3"
  },
  "language_info": {
   "codemirror_mode": {
    "name": "ipython",
    "version": 3
   },
   "file_extension": ".py",
   "mimetype": "text/x-python",
   "name": "python",
   "nbconvert_exporter": "python",
   "pygments_lexer": "ipython3",
   "version": "3.12.7"
  }
 },
 "nbformat": 4,
 "nbformat_minor": 2
}
